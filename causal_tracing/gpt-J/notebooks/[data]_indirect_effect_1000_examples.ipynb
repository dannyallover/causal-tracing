{
 "cells": [
  {
   "cell_type": "code",
   "execution_count": 1,
   "metadata": {},
   "outputs": [
    {
     "name": "stdout",
     "output_type": "stream",
     "text": [
      "Sun Jun 26 23:55:55 2022       \n",
      "+-----------------------------------------------------------------------------+\n",
      "| NVIDIA-SMI 510.47.03    Driver Version: 510.47.03    CUDA Version: 11.6     |\n",
      "|-------------------------------+----------------------+----------------------+\n",
      "| GPU  Name        Persistence-M| Bus-Id        Disp.A | Volatile Uncorr. ECC |\n",
      "| Fan  Temp  Perf  Pwr:Usage/Cap|         Memory-Usage | GPU-Util  Compute M. |\n",
      "|                               |                      |               MIG M. |\n",
      "|===============================+======================+======================|\n",
      "|   0  NVIDIA A100 80G...  On   | 00000000:4F:00.0 Off |                    0 |\n",
      "| N/A   31C    P0    53W / 300W |      0MiB / 81920MiB |      0%      Default |\n",
      "|                               |                      |             Disabled |\n",
      "+-------------------------------+----------------------+----------------------+\n",
      "                                                                               \n",
      "+-----------------------------------------------------------------------------+\n",
      "| Processes:                                                                  |\n",
      "|  GPU   GI   CI        PID   Type   Process name                  GPU Memory |\n",
      "|        ID   ID                                                   Usage      |\n",
      "|=============================================================================|\n",
      "|  No running processes found                                                 |\n",
      "+-----------------------------------------------------------------------------+\n"
     ]
    }
   ],
   "source": [
    "!nvidia-smi"
   ]
  },
  {
   "cell_type": "code",
   "execution_count": 2,
   "metadata": {},
   "outputs": [],
   "source": [
    "!pip install unseal -q"
   ]
  },
  {
   "cell_type": "code",
   "execution_count": 3,
   "metadata": {},
   "outputs": [],
   "source": [
    "!pip install transformers -q"
   ]
  },
  {
   "cell_type": "code",
   "execution_count": 4,
   "metadata": {},
   "outputs": [],
   "source": [
    "from typing import Union, Tuple, Optional\n",
    "\n",
    "import matplotlib.pyplot as plt\n",
    "from matplotlib import cm\n",
    "from statistics import stdev\n",
    "from matplotlib.colors import BoundaryNorm\n",
    "import numpy as np\n",
    "import random\n",
    "import json\n",
    "import torch\n",
    "from torch.utils.data import DataLoader\n",
    "from tqdm.notebook import tqdm\n",
    "import unseal\n",
    "from unseal.hooks import Hook, HookedModel, common_hooks\n",
    "from unseal.transformers_util import load_from_pretrained, get_num_layers\n",
    "\n",
    "import sys\n",
    "sys.path.append(\"../../../lib\")\n",
    "import utility\n",
    "import hooks"
   ]
  },
  {
   "cell_type": "code",
   "execution_count": 5,
   "metadata": {},
   "outputs": [],
   "source": [
    "unhooked_model, tokenizer, config = load_from_pretrained('EleutherAI/gpt-j-6B')"
   ]
  },
  {
   "cell_type": "code",
   "execution_count": 6,
   "metadata": {},
   "outputs": [
    {
     "name": "stdout",
     "output_type": "stream",
     "text": [
      "Model loaded and on device cuda!\n"
     ]
    }
   ],
   "source": [
    "model = HookedModel(unhooked_model)\n",
    "\n",
    "device = 'cuda' if torch.cuda.is_available() else 'cpu'\n",
    "model.to(device)\n",
    "\n",
    "print(f'Model loaded and on device {device}!')"
   ]
  },
  {
   "cell_type": "code",
   "execution_count": 7,
   "metadata": {},
   "outputs": [
    {
     "name": "stdout",
     "output_type": "stream",
     "text": [
      "['transformer', 'transformer->wte', 'transformer->drop', 'transformer->h', 'transformer->h->0', 'transformer->h->0->ln_1', 'transformer->h->0->attn', 'transformer->h->0->attn->attn_dropout', 'transformer->h->0->attn->resid_dropout', 'transformer->h->0->attn->k_proj', 'transformer->h->0->attn->v_proj', 'transformer->h->0->attn->q_proj', 'transformer->h->0->attn->out_proj', 'transformer->h->0->mlp', 'transformer->h->0->mlp->fc_in', 'transformer->h->0->mlp->fc_out', 'transformer->h->0->mlp->act', 'transformer->h->0->mlp->dropout', 'transformer->h->1', 'transformer->h->1->ln_1', 'transformer->h->1->attn', 'transformer->h->1->attn->attn_dropout', 'transformer->h->1->attn->resid_dropout', 'transformer->h->1->attn->k_proj', 'transformer->h->1->attn->v_proj', 'transformer->h->1->attn->q_proj', 'transformer->h->1->attn->out_proj', 'transformer->h->1->mlp', 'transformer->h->1->mlp->fc_in', 'transformer->h->1->mlp->fc_out', 'transformer->h->1->mlp->act', 'transformer->h->1->mlp->dropout', 'transformer->h->2', 'transformer->h->2->ln_1', 'transformer->h->2->attn', 'transformer->h->2->attn->attn_dropout', 'transformer->h->2->attn->resid_dropout', 'transformer->h->2->attn->k_proj', 'transformer->h->2->attn->v_proj', 'transformer->h->2->attn->q_proj', 'transformer->h->2->attn->out_proj', 'transformer->h->2->mlp', 'transformer->h->2->mlp->fc_in', 'transformer->h->2->mlp->fc_out', 'transformer->h->2->mlp->act', 'transformer->h->2->mlp->dropout', 'transformer->h->3', 'transformer->h->3->ln_1', 'transformer->h->3->attn', 'transformer->h->3->attn->attn_dropout', 'transformer->h->3->attn->resid_dropout', 'transformer->h->3->attn->k_proj', 'transformer->h->3->attn->v_proj', 'transformer->h->3->attn->q_proj', 'transformer->h->3->attn->out_proj', 'transformer->h->3->mlp', 'transformer->h->3->mlp->fc_in', 'transformer->h->3->mlp->fc_out', 'transformer->h->3->mlp->act', 'transformer->h->3->mlp->dropout', 'transformer->h->4', 'transformer->h->4->ln_1', 'transformer->h->4->attn', 'transformer->h->4->attn->attn_dropout', 'transformer->h->4->attn->resid_dropout', 'transformer->h->4->attn->k_proj', 'transformer->h->4->attn->v_proj', 'transformer->h->4->attn->q_proj', 'transformer->h->4->attn->out_proj', 'transformer->h->4->mlp', 'transformer->h->4->mlp->fc_in', 'transformer->h->4->mlp->fc_out', 'transformer->h->4->mlp->act', 'transformer->h->4->mlp->dropout', 'transformer->h->5', 'transformer->h->5->ln_1', 'transformer->h->5->attn', 'transformer->h->5->attn->attn_dropout', 'transformer->h->5->attn->resid_dropout', 'transformer->h->5->attn->k_proj', 'transformer->h->5->attn->v_proj', 'transformer->h->5->attn->q_proj', 'transformer->h->5->attn->out_proj', 'transformer->h->5->mlp', 'transformer->h->5->mlp->fc_in', 'transformer->h->5->mlp->fc_out', 'transformer->h->5->mlp->act', 'transformer->h->5->mlp->dropout', 'transformer->h->6', 'transformer->h->6->ln_1', 'transformer->h->6->attn', 'transformer->h->6->attn->attn_dropout', 'transformer->h->6->attn->resid_dropout', 'transformer->h->6->attn->k_proj', 'transformer->h->6->attn->v_proj', 'transformer->h->6->attn->q_proj', 'transformer->h->6->attn->out_proj', 'transformer->h->6->mlp', 'transformer->h->6->mlp->fc_in', 'transformer->h->6->mlp->fc_out', 'transformer->h->6->mlp->act', 'transformer->h->6->mlp->dropout', 'transformer->h->7', 'transformer->h->7->ln_1', 'transformer->h->7->attn', 'transformer->h->7->attn->attn_dropout', 'transformer->h->7->attn->resid_dropout', 'transformer->h->7->attn->k_proj', 'transformer->h->7->attn->v_proj', 'transformer->h->7->attn->q_proj', 'transformer->h->7->attn->out_proj', 'transformer->h->7->mlp', 'transformer->h->7->mlp->fc_in', 'transformer->h->7->mlp->fc_out', 'transformer->h->7->mlp->act', 'transformer->h->7->mlp->dropout', 'transformer->h->8', 'transformer->h->8->ln_1', 'transformer->h->8->attn', 'transformer->h->8->attn->attn_dropout', 'transformer->h->8->attn->resid_dropout', 'transformer->h->8->attn->k_proj', 'transformer->h->8->attn->v_proj', 'transformer->h->8->attn->q_proj', 'transformer->h->8->attn->out_proj', 'transformer->h->8->mlp', 'transformer->h->8->mlp->fc_in', 'transformer->h->8->mlp->fc_out', 'transformer->h->8->mlp->act', 'transformer->h->8->mlp->dropout', 'transformer->h->9', 'transformer->h->9->ln_1', 'transformer->h->9->attn', 'transformer->h->9->attn->attn_dropout', 'transformer->h->9->attn->resid_dropout', 'transformer->h->9->attn->k_proj', 'transformer->h->9->attn->v_proj', 'transformer->h->9->attn->q_proj', 'transformer->h->9->attn->out_proj', 'transformer->h->9->mlp', 'transformer->h->9->mlp->fc_in', 'transformer->h->9->mlp->fc_out', 'transformer->h->9->mlp->act', 'transformer->h->9->mlp->dropout', 'transformer->h->10', 'transformer->h->10->ln_1', 'transformer->h->10->attn', 'transformer->h->10->attn->attn_dropout', 'transformer->h->10->attn->resid_dropout', 'transformer->h->10->attn->k_proj', 'transformer->h->10->attn->v_proj', 'transformer->h->10->attn->q_proj', 'transformer->h->10->attn->out_proj', 'transformer->h->10->mlp', 'transformer->h->10->mlp->fc_in', 'transformer->h->10->mlp->fc_out', 'transformer->h->10->mlp->act', 'transformer->h->10->mlp->dropout', 'transformer->h->11', 'transformer->h->11->ln_1', 'transformer->h->11->attn', 'transformer->h->11->attn->attn_dropout', 'transformer->h->11->attn->resid_dropout', 'transformer->h->11->attn->k_proj', 'transformer->h->11->attn->v_proj', 'transformer->h->11->attn->q_proj', 'transformer->h->11->attn->out_proj', 'transformer->h->11->mlp', 'transformer->h->11->mlp->fc_in', 'transformer->h->11->mlp->fc_out', 'transformer->h->11->mlp->act', 'transformer->h->11->mlp->dropout', 'transformer->h->12', 'transformer->h->12->ln_1', 'transformer->h->12->attn', 'transformer->h->12->attn->attn_dropout', 'transformer->h->12->attn->resid_dropout', 'transformer->h->12->attn->k_proj', 'transformer->h->12->attn->v_proj', 'transformer->h->12->attn->q_proj', 'transformer->h->12->attn->out_proj', 'transformer->h->12->mlp', 'transformer->h->12->mlp->fc_in', 'transformer->h->12->mlp->fc_out', 'transformer->h->12->mlp->act', 'transformer->h->12->mlp->dropout', 'transformer->h->13', 'transformer->h->13->ln_1', 'transformer->h->13->attn', 'transformer->h->13->attn->attn_dropout', 'transformer->h->13->attn->resid_dropout', 'transformer->h->13->attn->k_proj', 'transformer->h->13->attn->v_proj', 'transformer->h->13->attn->q_proj', 'transformer->h->13->attn->out_proj', 'transformer->h->13->mlp', 'transformer->h->13->mlp->fc_in', 'transformer->h->13->mlp->fc_out', 'transformer->h->13->mlp->act', 'transformer->h->13->mlp->dropout', 'transformer->h->14', 'transformer->h->14->ln_1', 'transformer->h->14->attn', 'transformer->h->14->attn->attn_dropout', 'transformer->h->14->attn->resid_dropout', 'transformer->h->14->attn->k_proj', 'transformer->h->14->attn->v_proj', 'transformer->h->14->attn->q_proj', 'transformer->h->14->attn->out_proj', 'transformer->h->14->mlp', 'transformer->h->14->mlp->fc_in', 'transformer->h->14->mlp->fc_out', 'transformer->h->14->mlp->act', 'transformer->h->14->mlp->dropout', 'transformer->h->15', 'transformer->h->15->ln_1', 'transformer->h->15->attn', 'transformer->h->15->attn->attn_dropout', 'transformer->h->15->attn->resid_dropout', 'transformer->h->15->attn->k_proj', 'transformer->h->15->attn->v_proj', 'transformer->h->15->attn->q_proj', 'transformer->h->15->attn->out_proj', 'transformer->h->15->mlp', 'transformer->h->15->mlp->fc_in', 'transformer->h->15->mlp->fc_out', 'transformer->h->15->mlp->act', 'transformer->h->15->mlp->dropout', 'transformer->h->16', 'transformer->h->16->ln_1', 'transformer->h->16->attn', 'transformer->h->16->attn->attn_dropout', 'transformer->h->16->attn->resid_dropout', 'transformer->h->16->attn->k_proj', 'transformer->h->16->attn->v_proj', 'transformer->h->16->attn->q_proj', 'transformer->h->16->attn->out_proj', 'transformer->h->16->mlp', 'transformer->h->16->mlp->fc_in', 'transformer->h->16->mlp->fc_out', 'transformer->h->16->mlp->act', 'transformer->h->16->mlp->dropout', 'transformer->h->17', 'transformer->h->17->ln_1', 'transformer->h->17->attn', 'transformer->h->17->attn->attn_dropout', 'transformer->h->17->attn->resid_dropout', 'transformer->h->17->attn->k_proj', 'transformer->h->17->attn->v_proj', 'transformer->h->17->attn->q_proj', 'transformer->h->17->attn->out_proj', 'transformer->h->17->mlp', 'transformer->h->17->mlp->fc_in', 'transformer->h->17->mlp->fc_out', 'transformer->h->17->mlp->act', 'transformer->h->17->mlp->dropout', 'transformer->h->18', 'transformer->h->18->ln_1', 'transformer->h->18->attn', 'transformer->h->18->attn->attn_dropout', 'transformer->h->18->attn->resid_dropout', 'transformer->h->18->attn->k_proj', 'transformer->h->18->attn->v_proj', 'transformer->h->18->attn->q_proj', 'transformer->h->18->attn->out_proj', 'transformer->h->18->mlp', 'transformer->h->18->mlp->fc_in', 'transformer->h->18->mlp->fc_out', 'transformer->h->18->mlp->act', 'transformer->h->18->mlp->dropout', 'transformer->h->19', 'transformer->h->19->ln_1', 'transformer->h->19->attn', 'transformer->h->19->attn->attn_dropout', 'transformer->h->19->attn->resid_dropout', 'transformer->h->19->attn->k_proj', 'transformer->h->19->attn->v_proj', 'transformer->h->19->attn->q_proj', 'transformer->h->19->attn->out_proj', 'transformer->h->19->mlp', 'transformer->h->19->mlp->fc_in', 'transformer->h->19->mlp->fc_out', 'transformer->h->19->mlp->act', 'transformer->h->19->mlp->dropout', 'transformer->h->20', 'transformer->h->20->ln_1', 'transformer->h->20->attn', 'transformer->h->20->attn->attn_dropout', 'transformer->h->20->attn->resid_dropout', 'transformer->h->20->attn->k_proj', 'transformer->h->20->attn->v_proj', 'transformer->h->20->attn->q_proj', 'transformer->h->20->attn->out_proj', 'transformer->h->20->mlp', 'transformer->h->20->mlp->fc_in', 'transformer->h->20->mlp->fc_out', 'transformer->h->20->mlp->act', 'transformer->h->20->mlp->dropout', 'transformer->h->21', 'transformer->h->21->ln_1', 'transformer->h->21->attn', 'transformer->h->21->attn->attn_dropout', 'transformer->h->21->attn->resid_dropout', 'transformer->h->21->attn->k_proj', 'transformer->h->21->attn->v_proj', 'transformer->h->21->attn->q_proj', 'transformer->h->21->attn->out_proj', 'transformer->h->21->mlp', 'transformer->h->21->mlp->fc_in', 'transformer->h->21->mlp->fc_out', 'transformer->h->21->mlp->act', 'transformer->h->21->mlp->dropout', 'transformer->h->22', 'transformer->h->22->ln_1', 'transformer->h->22->attn', 'transformer->h->22->attn->attn_dropout', 'transformer->h->22->attn->resid_dropout', 'transformer->h->22->attn->k_proj', 'transformer->h->22->attn->v_proj', 'transformer->h->22->attn->q_proj', 'transformer->h->22->attn->out_proj', 'transformer->h->22->mlp', 'transformer->h->22->mlp->fc_in', 'transformer->h->22->mlp->fc_out', 'transformer->h->22->mlp->act', 'transformer->h->22->mlp->dropout', 'transformer->h->23', 'transformer->h->23->ln_1', 'transformer->h->23->attn', 'transformer->h->23->attn->attn_dropout', 'transformer->h->23->attn->resid_dropout', 'transformer->h->23->attn->k_proj', 'transformer->h->23->attn->v_proj', 'transformer->h->23->attn->q_proj', 'transformer->h->23->attn->out_proj', 'transformer->h->23->mlp', 'transformer->h->23->mlp->fc_in', 'transformer->h->23->mlp->fc_out', 'transformer->h->23->mlp->act', 'transformer->h->23->mlp->dropout', 'transformer->h->24', 'transformer->h->24->ln_1', 'transformer->h->24->attn', 'transformer->h->24->attn->attn_dropout', 'transformer->h->24->attn->resid_dropout', 'transformer->h->24->attn->k_proj', 'transformer->h->24->attn->v_proj', 'transformer->h->24->attn->q_proj', 'transformer->h->24->attn->out_proj', 'transformer->h->24->mlp', 'transformer->h->24->mlp->fc_in', 'transformer->h->24->mlp->fc_out', 'transformer->h->24->mlp->act', 'transformer->h->24->mlp->dropout', 'transformer->h->25', 'transformer->h->25->ln_1', 'transformer->h->25->attn', 'transformer->h->25->attn->attn_dropout', 'transformer->h->25->attn->resid_dropout', 'transformer->h->25->attn->k_proj', 'transformer->h->25->attn->v_proj', 'transformer->h->25->attn->q_proj', 'transformer->h->25->attn->out_proj', 'transformer->h->25->mlp', 'transformer->h->25->mlp->fc_in', 'transformer->h->25->mlp->fc_out', 'transformer->h->25->mlp->act', 'transformer->h->25->mlp->dropout', 'transformer->h->26', 'transformer->h->26->ln_1', 'transformer->h->26->attn', 'transformer->h->26->attn->attn_dropout', 'transformer->h->26->attn->resid_dropout', 'transformer->h->26->attn->k_proj', 'transformer->h->26->attn->v_proj', 'transformer->h->26->attn->q_proj', 'transformer->h->26->attn->out_proj', 'transformer->h->26->mlp', 'transformer->h->26->mlp->fc_in', 'transformer->h->26->mlp->fc_out', 'transformer->h->26->mlp->act', 'transformer->h->26->mlp->dropout', 'transformer->h->27', 'transformer->h->27->ln_1', 'transformer->h->27->attn', 'transformer->h->27->attn->attn_dropout', 'transformer->h->27->attn->resid_dropout', 'transformer->h->27->attn->k_proj', 'transformer->h->27->attn->v_proj', 'transformer->h->27->attn->q_proj', 'transformer->h->27->attn->out_proj', 'transformer->h->27->mlp', 'transformer->h->27->mlp->fc_in', 'transformer->h->27->mlp->fc_out', 'transformer->h->27->mlp->act', 'transformer->h->27->mlp->dropout', 'transformer->ln_f', 'lm_head']\n"
     ]
    }
   ],
   "source": [
    "# layer names\n",
    "print(list(model.layers.keys()))"
   ]
  },
  {
   "cell_type": "code",
   "execution_count": 8,
   "metadata": {},
   "outputs": [],
   "source": [
    "# load data\n",
    "f = open(\"../../../datasets/known_1000.json\")\n",
    "prompts = json.load(f)"
   ]
  },
  {
   "cell_type": "code",
   "execution_count": 9,
   "metadata": {},
   "outputs": [
    {
     "name": "stdout",
     "output_type": "stream",
     "text": [
      "('Vinson Massif', 'Vinson Massif is located in the continent of Antarctica')\n"
     ]
    }
   ],
   "source": [
    "# prepare data\n",
    "texts = [(prompts[i]['subject'], prompts[i]['prompt'] + ' ' + prompts[i]['attribute']) for i in range(len(prompts))]\n",
    "print(texts[0])"
   ]
  },
  {
   "cell_type": "code",
   "execution_count": 10,
   "metadata": {},
   "outputs": [
    {
     "name": "stdout",
     "output_type": "stream",
     "text": [
      "num tokens:  12 text:  Ignatius of Antioch, who has the position of a bishop\n",
      "num tokens:  10 text:  B-47 Stratojet is developed by the Boeing\n",
      "num tokens:  14 text:  Pius VIII, whose position is that of a \"superior\" pope\n",
      "num tokens:  8 text:  Seiyu Group's headquarters are in Tokyo\n",
      "num tokens:  9 text:  Otto Hauser worked in the city of Berlin\n",
      "num tokens:  13 text:  The language of L'Histoire was not the language of the French\n",
      "num tokens:  5 text:  Philippines's capital, Manila\n",
      "num tokens:  8 text:  Alfa Romeo 155, produced by Fiat\n",
      "num tokens:  11 text:  Annise Parker holds the title of the first openly gay mayor\n",
      "num tokens:  6 text:  2005 Australian Open is located in Melbourne\n",
      "num tokens:  9 text:  James Northcote died in the city of London\n",
      "num tokens:  6 text:  Jonathan Pearce is employed by the BBC\n",
      "num tokens:  10 text:  Madame de Montesson died in the city of Paris\n",
      "num tokens:  11 text:  Nonchan Noriben was created in the country of Japan\n",
      "num tokens:  7 text:  Eavan Boland was born in Dublin\n",
      "num tokens:  12 text:  North Berwick can be found in the south-west of Scotland\n",
      "num tokens:  8 text:  The native language of Luc Besson is French\n",
      "num tokens:  8 text:  Late Night with Jimmy Fallon premieres on NBC\n",
      "num tokens:  9 text:  The official religion of Talmud Torah school is Judaism\n",
      "num tokens:  9 text:  The New Dick Van Dyke Show debuted on CBS\n",
      "num tokens:  8 text:  Mako Idemitsu was born in Tokyo\n",
      "num tokens:  11 text:  Bouygues Telecom is located in the country of France\n",
      "num tokens:  11 text:  Argentine National Anthem is located in the country of Argentina\n",
      "num tokens:  23 text:  Salvatore Ferragamo Italia S.p.A. formed in 1882 and is headquartered in Florence\n",
      "num tokens:  12 text:  Edinburgh Mathematical Society's expertise is in the areas of mathematics\n",
      "num tokens:  14 text:  Quirinus of Sescia, who has the position of a bishop\n",
      "num tokens:  8 text:  Kingdom of Bavaria's capital, Munich\n",
      "num tokens:  10 text:  Sound Transit was formed in 1999 by a group of Seattle\n",
      "num tokens:  10 text:  Herculez Gomez professionally plays the sport of soccer\n",
      "num tokens:  9 text:  The capital city of Abbasid Caliphate is Baghdad\n",
      "num tokens:  10 text:  Jan Machulski, who has a citizenship of Poland\n",
      "num tokens:  5 text:  Saxony's capital, Dresden\n",
      "num tokens:  8 text:  John Broadwood died in the city of London\n",
      "num tokens:  6 text:  Lexus ES is developed by Toyota\n",
      "num tokens:  7 text:  Kingdom of Egypt's capital, Cairo\n",
      "num tokens:  9 text:  Eurovision Song Contest 1960 premieres on the BBC\n",
      "num tokens:  12 text:  The capital of Kyōto Prefecture is the city of Kyoto\n",
      "num tokens:  6 text:  aloha is written in the Hawaiian\n",
      "num tokens:  10 text:  The headquarter of Soviet Air Defence Forces is in Moscow\n",
      "num tokens:  10 text:  Hilaire Belloc, who works as a journalist\n",
      "num tokens:  13 text:  Catalan self-determination referendum is located in the northeastern region of Catalonia\n",
      "num tokens:  5 text:  Bandai Channel started in Japan\n",
      "num tokens:  13 text:  Antonio Marcello Barberini died in the city of Rome\n",
      "num tokens:  7 text:  University of Washington's headquarters are in Seattle\n",
      "num tokens:  9 text:  Mehdi Hosseini was born in Tehran\n",
      "num tokens:  7 text:  J-pop, that originated in Japan\n",
      "num tokens:  13 text:  The genre played by The Enchanter Reborn is a mix of fantasy\n",
      "num tokens:  10 text:  The headquarter of Smith & Wesson is in Springfield\n",
      "num tokens:  8 text:  Josh McCown plays in the position of quarterback\n",
      "num tokens:  9 text:  EA-18G Growler, developed by Boeing\n",
      "num tokens:  10 text:  Costa Rican Football Federation is a part of the FIFA\n",
      "num tokens:  12 text:  Abdolkarim Soroush follows the religion of Islam\n",
      "num tokens:  8 text:  Indian Space Research Organisation's headquarters are in Bangalore\n",
      "num tokens:  9 text:  Edmund Neupert, performing on the piano\n",
      "num tokens:  4 text:  Ireland's capital, Dublin\n",
      "num tokens:  16 text:  Saint-Louis-de-Kent, New Brunswick is located in the country of Canada\n",
      "num tokens:  11 text:  TUIfly Nordic is located in the country of Sweden\n",
      "num tokens:  6 text:  Howlin' Wolf plays the guitar\n",
      "num tokens:  11 text:  Galata is within the city limits of the city of Istanbul\n",
      "num tokens:  9 text:  Lake Abitibi, in the province of Quebec\n",
      "num tokens:  14 text:  Alain Touraine speaks to the media after the first round of the French\n",
      "num tokens:  6 text:  Beijing, named after the capital\n",
      "num tokens:  6 text:  Yammer is owned by Microsoft\n",
      "num tokens:  9 text:  The language of Polisse was a mixture of French\n",
      "num tokens:  7 text:  Nicolas Gigault was born in Paris\n",
      "num tokens:  12 text:  Ernst Reuter died at the age of 87 in Berlin\n",
      "num tokens:  16 text:  Bhayanak Maut, that was created in the wake of the 2008 Mumbai\n",
      "num tokens:  6 text:  iPod Touch is developed by Apple\n",
      "num tokens:  11 text:  The original language of Face Dances is a mixture of English\n",
      "num tokens:  7 text:  Kingdom of Iraq's capital, Baghdad\n",
      "num tokens:  10 text:  La Fontaine's Fables, that originated in France\n",
      "num tokens:  8 text:  Mishal Husain works for the BBC\n",
      "num tokens:  4 text:  iPhone is developed by Apple\n",
      "num tokens:  8 text:  Tim Tebow plays in the position of quarterback\n",
      "num tokens:  9 text:  Yohann Diniz is a citizen of France\n",
      "num tokens:  6 text:  Killer Mike is native to Atlanta\n",
      "num tokens:  5 text:  Ballers premieres on HBO\n",
      "num tokens:  11 text:  The language of Lapland Odyssey is a mixture of Finnish\n",
      "num tokens:  11 text:  In Ruokolahti, the language spoken is Finnish\n",
      "num tokens:  13 text:  In South Georgia and the South Sandwich Islands, the language spoken is English\n",
      "num tokens:  10 text:  Megan Rapinoe professionally plays the sport of soccer\n",
      "num tokens:  5 text:  Android TV is developed by Google\n",
      "num tokens:  12 text:  Kamchatka Krai is located in the country of Russia\n",
      "num tokens:  19 text:  Sir William Dunn, 1st Baronet, of Lakenheath died in the city of London\n",
      "num tokens:  9 text:  Ahmed Zewail follows the religion of Islam\n",
      "num tokens:  7 text:  Elizabeth R was originally aired on the BBC\n",
      "num tokens:  10 text:  Henri Maurice Berteaux is a citizen of France\n",
      "num tokens:  7 text:  Second French Empire's capital city is Paris\n",
      "num tokens:  12 text:  Basil of Caesarea holds the title of the first bishop\n",
      "num tokens:  6 text:  Game Boy Advance is developed by Nintendo\n",
      "num tokens:  10 text:  Germaine Greer's domain of work is feminism\n",
      "num tokens:  9 text:  The headquarter of Weta Digital is in Wellington\n",
      "num tokens:  9 text:  Sachimi Iwao is a citizen of Japan\n",
      "num tokens:  11 text:  Saint Boniface, whose position is that of a bishop\n",
      "num tokens:  10 text:  Pervez Musharraf follows the religion of Islam\n",
      "num tokens:  13 text:  Gerolamo Cardano's domain of activity is the field of mathematics\n",
      "num tokens:  9 text:  Yuki Uchida is a citizen of Japan\n",
      "num tokens:  15 text:  Bhaktisiddhanta Saraswati, who has a citizenship of India\n",
      "num tokens:  13 text:  Jean-Jacques Grunenwald worked in the city of Paris\n",
      "num tokens:  10 text:  Pekka Rinne plays in the position of goaltender\n",
      "num tokens:  13 text:  Kyōto Prefecture, which was named after the city of Kyoto\n",
      "num tokens:  8 text:  Dick Butkus professionally plays the sport of football\n",
      "num tokens:  5 text:  Final Fantasy is developed by Square\n",
      "num tokens:  7 text:  Koichi Ishii is native to Japan\n",
      "num tokens:  12 text:  William Bernard Ullathorne has the position of the first bishop\n",
      "num tokens:  11 text:  The location of 2011 Australian Open is in the heart of Melbourne\n",
      "num tokens:  12 text:  The original language of Plus belle la vie is a French\n",
      "num tokens:  12 text:  Ylvis was created in the country of their birth, Norway\n",
      "num tokens:  7 text:  Mark Sanchez plays in the position of quarterback\n",
      "num tokens:  5 text:  George Martin performs on the piano\n",
      "num tokens:  7 text:  Johnson Glacier belongs to the continent of Antarctica\n",
      "num tokens:  4 text:  Prada originated in Milan\n",
      "num tokens:  10 text:  Ginza Line is located in the country of Japan\n",
      "num tokens:  14 text:  Gregory XII, whose position is that of a \"superior\" pope\n",
      "num tokens:  11 text:  Pelagius II holds the position of the first pope\n",
      "num tokens:  11 text:  The native language of Yuliya Snigir is Russian\n",
      "num tokens:  9 text:  Alvin and the Chipmunks premiered on NBC\n",
      "num tokens:  17 text:  The language of I ragazzi di via Panisperna was a mixture of Italian\n"
     ]
    },
    {
     "name": "stdout",
     "output_type": "stream",
     "text": [
      "num tokens:  10 text:  Matias Kupiainen was born in Helsinki\n",
      "num tokens:  7 text:  The Ed Sullivan Show premieres on CBS\n",
      "num tokens:  8 text:  air traffic control works in the field of aviation\n",
      "num tokens:  5 text:  Paul McCartney, playing the piano\n",
      "num tokens:  9 text:  Arisaka was created in the country of Japan\n",
      "num tokens:  8 text:  Yangtze belongs to the continent of Asia\n",
      "num tokens:  7 text:  Second Polish Republic's capital city is Warsaw\n",
      "num tokens:  10 text:  Yannick Cahuzac plays as a central midfielder\n",
      "num tokens:  4 text:  Jeff Zucker, of CNN\n",
      "num tokens:  11 text:  The original language of Ma vie en rose is a French\n",
      "num tokens:  11 text:  The location of 2000 Australian Open is in the heart of Melbourne\n",
      "num tokens:  7 text:  Core 2, a product developed by Intel\n",
      "num tokens:  9 text:  Lake Vostok belongs to the continent of Antarctica\n",
      "num tokens:  6 text:  Windows Live Mesh is developed by Microsoft\n",
      "num tokens:  11 text:  Dannii Minogue was created in the country of Australia\n",
      "num tokens:  8 text:  Italian Football Federation is a part of the FIFA\n",
      "num tokens:  7 text:  John Calvin works in the field of theology\n",
      "num tokens:  17 text:  The language used by Pierre de Marca is not the same as that used by the French\n",
      "num tokens:  10 text:  Lopburi, in the southern part of Thailand\n",
      "num tokens:  9 text:  Alfa Romeo 6C, produced by Fiat\n",
      "num tokens:  9 text:  David Bohm works in the area of quantum physics\n",
      "num tokens:  6 text:  Adam Kendon was born in London\n",
      "num tokens:  6 text:  Alan Sugar is employed by the BBC\n",
      "num tokens:  8 text:  Le Petit Parisien is written in French\n",
      "num tokens:  5 text:  Chanel was started in Paris\n",
      "num tokens:  12 text:  Hersekzade Ahmed Pasha follows the religion of Islam\n",
      "num tokens:  14 text:  The location of Concordia University is in the heart of the city of Montreal\n",
      "num tokens:  17 text:  Arnold Hermann Ludwig Heeren's domain of work is the study of the history\n",
      "num tokens:  7 text:  David Cameron worked in the city of London\n",
      "num tokens:  12 text:  The location of Taliban insurgency is in the north-west of Afghanistan\n",
      "num tokens:  6 text:  The official language of Peru is Spanish\n",
      "num tokens:  7 text:  Antonio Vivaldi plays the violin\n",
      "num tokens:  14 text:  Fulgentius of Ruspe, who has the position of a bishop\n",
      "num tokens:  10 text:  Samsung Electronics was founded in 1947 and is headquartered in Seoul\n",
      "num tokens:  8 text:  The location of Harvard Law School is in Cambridge\n",
      "num tokens:  17 text:  Sleater-Kinney, founded in 1991, is a feminist punk band from Olympia\n",
      "num tokens:  7 text:  Outlook.com's owner, Microsoft\n",
      "num tokens:  9 text:  EDP Renewables North America is headquartered in Houston\n",
      "num tokens:  10 text:  Olga Vittoria Gentilli writes in the Italian\n",
      "num tokens:  7 text:  Yakuza 2 is developed by Sega\n",
      "num tokens:  10 text:  Michel Houellebecq is a citizen of France\n",
      "num tokens:  14 text:  The headquarter of Lokalbahn AG is in the city of Munich\n",
      "num tokens:  10 text:  2005 Southeast Asian Games is in full swing in the Philippines\n",
      "num tokens:  6 text:  Elvis Presley plays the guitar\n",
      "num tokens:  11 text:  The capital of Fatimid caliphate is the city of Cairo\n",
      "num tokens:  8 text:  Honus Wagner professionally plays the sport of baseball\n",
      "num tokens:  10 text:  The native language of Corinne Calvet is French\n",
      "num tokens:  13 text:  Velayudham was created in the country of his birth, India\n",
      "num tokens:  12 text:  The original language of Disquisitiones Arithmeticae is Latin\n",
      "num tokens:  7 text:  John Major worked in the city of London\n",
      "num tokens:  11 text:  In Kauniainen, the language spoken is Finnish\n",
      "num tokens:  7 text:  In Nokia, the language spoken is Finnish\n",
      "num tokens:  13 text:  Sultan Satuq Bughra Khan follows the religion of Islam\n",
      "num tokens:  5 text:  Massachusetts's capital, Boston\n",
      "num tokens:  8 text:  The capital city of Kingdom of Afghanistan is Kabul\n",
      "num tokens:  18 text:  Giuseppe Meazza Stadium (San Siro) is owned by the city of Milan\n",
      "num tokens:  7 text:  Franz Liszt plays the piano\n",
      "num tokens:  11 text:  The language of Eclogues was a mixture of Latin\n",
      "num tokens:  7 text:  Vint Cerf is employed by Google\n",
      "num tokens:  8 text:  In Chiasso, the language spoken is Italian\n",
      "num tokens:  5 text:  Philip Glass plays the piano\n",
      "num tokens:  13 text:  Bandai Co., Ltd. formed in 1979 and is headquartered in Tokyo\n",
      "num tokens:  10 text:  Julian Huxley died in the city of London\n",
      "num tokens:  14 text:  Luis del Sol plays as a striker, but he is also a midfielder\n",
      "num tokens:  11 text:  Gianni Ferrio, who has a citizenship of Italy\n",
      "num tokens:  7 text:  In Ireland, the language spoken is Irish\n",
      "num tokens:  5 text:  Mac Pro is developed by Apple\n",
      "num tokens:  15 text:  Eusebius of Vercelli, who has the position of a bishop\n",
      "num tokens:  10 text:  Ruhollah Khomeini follows the religion of Islam\n",
      "num tokens:  14 text:  O'Hare International Airport, called after the plane was diverted to Chicago\n",
      "num tokens:  8 text:  Barry Bonds professionally plays the sport of baseball\n",
      "num tokens:  10 text:  public transport in Istanbul is located in the country of Turkey\n",
      "num tokens:  10 text:  The Biskitts was originally aired on the CBS\n",
      "num tokens:  10 text:  The headquarter of Fudan University is in Shanghai\n",
      "num tokens:  10 text:  Francis de Sales holds the position of the first bishop\n",
      "num tokens:  12 text:  Ilya Kovalchuk professionally plays the sport of ice hockey\n",
      "num tokens:  7 text:  Melilla belongs to the continent of Africa\n",
      "num tokens:  8 text:  Philip Mould is employed by the BBC\n",
      "num tokens:  13 text:  Ivan Gudelj plays in the position of a defensive midfielder\n",
      "num tokens:  10 text:  Izzy Asper, who has a citizenship of Canada\n",
      "num tokens:  8 text:  The official language of Melitopol is Ukrainian\n",
      "num tokens:  7 text:  Austrian Empire's capital city is Vienna\n",
      "num tokens:  7 text:  The original language of Le Globe is French\n",
      "num tokens:  9 text:  The capital of Veneto is the city of Venice\n",
      "num tokens:  6 text:  Maharashtra's capital, Mumbai\n",
      "num tokens:  10 text:  Nismo, from the same company that makes the Nissan\n",
      "num tokens:  11 text:  Gro Harlem Brundtland worked in the city of Oslo\n",
      "num tokens:  8 text:  Northern Nigeria Protectorate follows the religion of Islam\n",
      "num tokens:  12 text:  The language used by Musa Manarov is a mixture of Russian\n",
      "num tokens:  14 text:  The headquarter of Army of the Guardians of the Islamic Revolution is in Tehran\n",
      "num tokens:  11 text:  The Bays performs a variety of musical styles, from jazz\n",
      "num tokens:  11 text:  Sharmila Tagore is affiliated with the religion of Islam\n",
      "num tokens:  5 text:  Windows Mobile is developed by Microsoft\n",
      "num tokens:  8 text:  Satoru Iwata is employed by Nintendo\n",
      "num tokens:  6 text:  iPhone 3GS is developed by Apple\n",
      "num tokens:  7 text:  Jessica Jones is a member of the Avengers\n",
      "num tokens:  13 text:  Jaromír Jágr professionally plays the sport of ice hockey\n",
      "num tokens:  12 text:  Andrew Lloyd Webber, who plays the title role in the musical\n",
      "num tokens:  11 text:  Canada men's national soccer team is a part of the FIFA\n",
      "num tokens:  9 text:  Gambia River belongs to the continent of Africa\n",
      "num tokens:  5 text:  Tim Cook is employed by Apple\n",
      "num tokens:  9 text:  Craig Federighi, who is employed by Apple\n",
      "num tokens:  14 text:  George Cadogan, 5th Earl Cadogan took up work in the London\n",
      "num tokens:  12 text:  Franz Xaver Gabelsberger worked in the city of Munich\n",
      "num tokens:  10 text:  The native language of Valentin Rasputin is Russian\n",
      "num tokens:  11 text:  Adi ibn Hatim is affiliated with the religion of Islam\n",
      "num tokens:  11 text:  Rancho Petaluma Adobe's owner, the California\n",
      "num tokens:  12 text:  Siemiatycze is located in the country of Poland\n",
      "num tokens:  11 text:  D'Qwell Jackson plays in the position of a linebacker\n",
      "num tokens:  10 text:  Muawiyah I is affiliated with the religion of Islam\n",
      "num tokens:  13 text:  Khalid ibn al-Walid is affiliated with the religion of Islam\n",
      "num tokens:  11 text:  Hidamari Sketch was created in the country of Japan\n",
      "num tokens:  15 text:  Chris McGregor is known for performing in a variety of genres, from rock to jazz\n",
      "num tokens:  13 text:  SNCF formed in 1894, and the first train to Paris\n",
      "num tokens:  7 text:  Process Explorer, a product developed by Microsoft\n"
     ]
    },
    {
     "name": "stdout",
     "output_type": "stream",
     "text": [
      "num tokens:  6 text:  Wii U is developed by Nintendo\n",
      "num tokens:  4 text:  Flickr is owned by Yahoo\n",
      "num tokens:  16 text:  Abdalqadir as-Sufi is affiliated with the religion of Islam\n",
      "num tokens:  7 text:  In Panama, the language spoken is Spanish\n",
      "num tokens:  11 text:  Leonard Peikoff works in the area of the philosophy\n",
      "num tokens:  9 text:  The native language of Bernard Giraudeau is French\n",
      "num tokens:  10 text:  Hurricane Ridge is a part of the continent of Antarctica\n",
      "num tokens:  9 text:  The native language of Victor Prosper Considerant is French\n",
      "num tokens:  8 text:  Delmarva Peninsula was named for the Delaware\n",
      "num tokens:  5 text:  The Good Wife debuted on CBS\n",
      "num tokens:  9 text:  Grand Duchy of Finland's capital, Helsinki\n",
      "num tokens:  7 text:  Paul Otellini is employed by Intel\n",
      "num tokens:  9 text:  Maryland Film Festival can be found in the Baltimore\n",
      "num tokens:  8 text:  De-Phazz plays a lot of jazz\n",
      "num tokens:  12 text:  Acca of Hexham holds the position of the first female bishop\n",
      "num tokens:  6 text:  Weimar Republic's capital, Berlin\n",
      "num tokens:  7 text:  The native language of Claude Bernard is French\n",
      "num tokens:  9 text:  Donato Bramante died in the city of Rome\n",
      "num tokens:  11 text:  In Palau, the language spoken is a mix of English\n",
      "num tokens:  10 text:  Giovanni Sgambati was born in Rome\n",
      "num tokens:  10 text:  Ahmad al-Badawi follows the religion of Islam\n",
      "num tokens:  8 text:  Wayne Rooney professionally plays the sport of soccer\n",
      "num tokens:  9 text:  Brazilian Football Confederation is a part of the FIFA\n",
      "num tokens:  7 text:  File Explorer, a product developed by Microsoft\n",
      "num tokens:  11 text:  José Canseco professionally plays the sport of baseball\n",
      "num tokens:  10 text:  Le Moniteur Universel is written in French\n",
      "num tokens:  10 text:  In Azerbaijan Soviet Socialist Republic, the language spoken is Russian\n",
      "num tokens:  11 text:  Tomaso Antonio Vitali plays the instrument of the violin\n",
      "num tokens:  6 text:  Second Spanish Republic's capital, Madrid\n",
      "num tokens:  5 text:  Bill Gates is employed by Microsoft\n",
      "num tokens:  9 text:  Pius II is a great example of a pope\n",
      "num tokens:  9 text:  In Kingdom of Bulgaria, the language spoken is Bulgarian\n",
      "num tokens:  5 text:  Peru's capital, Lima\n",
      "num tokens:  8 text:  The New Andy Griffith Show premieres on CBS\n",
      "num tokens:  10 text:  Renata Polverini worked in the city of Rome\n",
      "num tokens:  14 text:  Caciocavallo was created in the country of her birth, Italy\n",
      "num tokens:  6 text:  Lincoln Financial Field, in Philadelphia\n",
      "num tokens:  6 text:  NTFS is developed by Microsoft\n",
      "num tokens:  11 text:  Young Canadians was created in the country of its birth, Canada\n",
      "num tokens:  13 text:  Sviatoslav Knushevitsky passed away in Moscow\n",
      "num tokens:  6 text:  MacBook Air is developed by Apple\n",
      "num tokens:  13 text:  Reconstructionist Rabbinical College is affiliated with the religion of Judaism\n",
      "num tokens:  11 text:  Saint Domnius, who has the position of the bishop\n",
      "num tokens:  10 text:  Brazil national football team belongs to the organization of the FIFA\n",
      "num tokens:  8 text:  Hideki Shirakawa was born in Tokyo\n",
      "num tokens:  11 text:  Mizoram, in the north-east of India\n",
      "num tokens:  7 text:  Alfred Hitchcock Presents debuted on NBC\n",
      "num tokens:  9 text:  Inuyasha was created in the country of Japan\n",
      "num tokens:  11 text:  Philippus van Limborch worked in the city of Amsterdam\n",
      "num tokens:  11 text:  Sydney Peace Prize is located in the country of Australia\n",
      "num tokens:  11 text:  Georges Ernest Boulanger worked in the city of Paris\n",
      "num tokens:  14 text:  The original language of Tusculanae Disputationes is a Latin\n",
      "num tokens:  10 text:  Gatwick Airport, called after the airport in London\n",
      "num tokens:  11 text:  In Nyon, the language spoken is a mixture of French\n",
      "num tokens:  16 text:  Holycross-Ballycahill GAA is located in the country of Ireland\n",
      "num tokens:  17 text:  The original language of De finibus bonorum et malorum is the same as the Latin\n",
      "num tokens:  20 text:  Dany N'Guessan plays in the position of a forward, but he is also a midfielder\n",
      "num tokens:  11 text:  The location of Hungarian Ladies Open is in the heart of Budapest\n",
      "num tokens:  7 text:  Rocky Mountain National Park, in Colorado\n",
      "num tokens:  10 text:  Sunny Hundal, who works as a journalist\n",
      "num tokens:  9 text:  The native language of Giunta Pisano is Italian\n",
      "num tokens:  4 text:  Phil Knight, of Nike\n",
      "num tokens:  8 text:  Masoretic Text is written in the Hebrew\n",
      "num tokens:  14 text:  Medical College and Hospital, Kolkata is located in the country of India\n",
      "num tokens:  14 text:  The expertise of Paracelsus is not only in the field of medicine\n",
      "num tokens:  8 text:  The headquarter of EMI is in London\n",
      "num tokens:  7 text:  Michael Foot worked in the city of London\n",
      "num tokens:  9 text:  Jules Moch worked in the city of Paris\n",
      "num tokens:  12 text:  Ludwig von Mises's domain of work is the economics\n",
      "num tokens:  10 text:  O'Hare International Airport's owner, the Chicago\n",
      "num tokens:  6 text:  Bing Videos is owned by Microsoft\n",
      "num tokens:  6 text:  Amiibo is developed by Nintendo\n",
      "num tokens:  10 text:  Adolphe d'Ennery was born in Paris\n",
      "num tokens:  16 text:  The language of Ni es lo mismo ni es igual was used by the Spanish\n",
      "num tokens:  6 text:  Xamarin, from the Microsoft\n",
      "num tokens:  10 text:  Chandigarh belongs to the continent of Asia\n",
      "num tokens:  7 text:  Stephen Curry professionally plays the sport of basketball\n",
      "num tokens:  6 text:  Acura TL is developed by Honda\n",
      "num tokens:  10 text:  Joseph Goebbels worked in the city of Berlin\n",
      "num tokens:  8 text:  Alexandre Mercereau was born in Paris\n",
      "num tokens:  6 text:  Acura EL is developed by Honda\n",
      "num tokens:  6 text:  OS X Yosemite is developed by Apple\n",
      "num tokens:  10 text:  Sandro Botticelli died in the city of Florence\n",
      "num tokens:  10 text:  Henri Herz died at the age of 93 in Paris\n",
      "num tokens:  12 text:  The location of Parliament of Norway Building is in the centre of Oslo\n",
      "num tokens:  10 text:  Urdoviza Glacier belongs to the continent of Antarctica\n",
      "num tokens:  16 text:  Mitsubishi Electric started in the early 1900s as a small company in Tokyo\n",
      "num tokens:  9 text:  Yvan Goll is a native speaker of French\n",
      "num tokens:  10 text:  Ibrahim Pasha of Egypt passed away in Cairo\n",
      "num tokens:  10 text:  Sadeq Larijani is a citizen of Iran\n",
      "num tokens:  9 text:  B-29 Superfortress is produced by Boeing\n",
      "num tokens:  11 text:  The native language of Aleksey Khomyakov is Russian\n",
      "num tokens:  12 text:  United States men's national soccer team is a part of the FIFA\n",
      "num tokens:  9 text:  The native language of Ariane Labed is French\n",
      "num tokens:  9 text:  Mawson Glacier belongs to the continent of Antarctica\n",
      "num tokens:  5 text:  Denmark's capital, Copenhagen\n",
      "num tokens:  6 text:  Triple H is employed by WWE\n",
      "num tokens:  10 text:  Barry Zito plays in the position of the pitcher\n",
      "num tokens:  12 text:  Caterina Davinio, who has a citizenship of Italy\n",
      "num tokens:  15 text:  The native language of Nathalie Kosciusko-Morizet is French\n",
      "num tokens:  9 text:  Kang Ji-hwan is native to Seoul\n",
      "num tokens:  9 text:  The location of Massachusetts Institute of Technology is in Cambridge\n",
      "num tokens:  6 text:  Showtime Networks's owner, CBS\n",
      "num tokens:  9 text:  Johannes Brahms performs on the piano\n",
      "num tokens:  8 text:  Johnny Unitas professionally plays the sport of football\n",
      "num tokens:  8 text:  Pius III died in the city of Rome\n",
      "num tokens:  11 text:  The language of Mi Reflejo was a mixture of Spanish\n",
      "num tokens:  9 text:  Evgeny Lifshitz passed away in Moscow\n",
      "num tokens:  11 text:  Klaas Schilder is a native speaker of Dutch\n",
      "num tokens:  12 text:  Florent Cuvelier plays in the position of a midfielder\n",
      "num tokens:  10 text:  Al-Mutawakkil follows the religion of Islam\n",
      "num tokens:  6 text:  Windows Media Player is developed by Microsoft\n",
      "num tokens:  7 text:  Hafez follows the religion of Islam\n",
      "num tokens:  10 text:  Michio Kaku works in the area of theoretical physics\n",
      "num tokens:  8 text:  The capital city of Commonwealth of England is London\n",
      "num tokens:  6 text:  Wednesday Night Baseball premieres on ESPN\n",
      "num tokens:  8 text:  Brett Hull professionally plays the sport of hockey\n",
      "num tokens:  6 text:  The Leftovers was released on HBO\n"
     ]
    },
    {
     "name": "stdout",
     "output_type": "stream",
     "text": [
      "num tokens:  6 text:  The Bill Cosby Show debuted on NBC\n",
      "num tokens:  10 text:  Suite Habana was created in the country of Cuba\n",
      "num tokens:  12 text:  Kalamazoo County can be found in the southeast corner of Michigan\n",
      "num tokens:  6 text:  Melodiya is headquartered in Moscow\n",
      "num tokens:  17 text:  Raina Kabaivanska is known for performing in the world's most famous opera\n",
      "num tokens:  10 text:  Mohsen Mirdamadi is a citizen of Iran\n",
      "num tokens:  12 text:  The original language of Die Nibelungen was written in German\n",
      "num tokens:  7 text:  Osman I follows the religion of Islam\n",
      "num tokens:  11 text:  Amos Tversky works in the area of cognitive psychology\n",
      "num tokens:  8 text:  L'Aurore is written in French\n",
      "num tokens:  13 text:  Hope and Anchor, Islington is located in the heart of London\n",
      "num tokens:  9 text:  Godrej Consumer Products Limited is headquartered in Mumbai\n",
      "num tokens:  13 text:  Giacomo Barozzi da Vignola passed away in Rome\n",
      "num tokens:  11 text:  Edward Teller's expertise is in the field of nuclear physics\n",
      "num tokens:  5 text:  La Vie is written in French\n",
      "num tokens:  11 text:  European Physical Journal's expertise is in the field of quantum physics\n",
      "num tokens:  15 text:  Il Gazzettino was written in the early 1980s, when the Italian\n",
      "num tokens:  8 text:  Don Shula professionally plays the sport of football\n",
      "num tokens:  8 text:  Fat Albert and the Cosby Kids debuted on CBS\n",
      "num tokens:  6 text:  2004 Australian Open is located in Melbourne\n",
      "num tokens:  5 text:  CERN is located in Geneva\n",
      "num tokens:  12 text:  Giovanni Battista Viotti plays the instrument of the violin\n",
      "num tokens:  18 text:  Gian Francesco Malipiero is known for performing in the world's most prestigious opera\n",
      "num tokens:  10 text:  The native language of Paul Klebnikov is Russian\n",
      "num tokens:  13 text:  Chakrapani was created in the country of his birth, India\n",
      "num tokens:  15 text:  The original language of Neethaane En Ponvasantham is a Tamil\n",
      "num tokens:  9 text:  Kirkpatrick Glacier belongs to the continent of Antarctica\n",
      "num tokens:  10 text:  Ansovinus holds the position of the first bishop\n",
      "num tokens:  9 text:  The Young and the Restless premieres on CBS\n",
      "num tokens:  9 text:  The capital city of Kingdom of the Netherlands is Amsterdam\n",
      "num tokens:  11 text:  Euromoney Institutional Investor's headquarters are in London\n",
      "num tokens:  9 text:  Thierry Henry professionally plays the sport of soccer\n",
      "num tokens:  9 text:  Roger Staubach professionally plays the sport of football\n",
      "num tokens:  8 text:  Alphonse James de Rothschild died in Paris\n",
      "num tokens:  11 text:  Francis Blanche speaks during a news conference at the French\n",
      "num tokens:  10 text:  Gerlache Strait is located in the continent of Antarctica\n",
      "num tokens:  9 text:  Hajime Mizoguchi was born in Tokyo\n",
      "num tokens:  12 text:  King Chulalongkorn Memorial Hospital's headquarters are in Bangkok\n",
      "num tokens:  8 text:  Russell East Glacier belongs to the continent of Antarctica\n",
      "num tokens:  10 text:  Miles Davis, who plays the role of a jazz\n",
      "num tokens:  12 text:  The original language of Sous le ciel de Paris is French\n",
      "num tokens:  8 text:  Vierlingsbeek, in the Netherlands\n",
      "num tokens:  17 text:  The language used by Jean-Baptiste Marchand is not the language of the French\n",
      "num tokens:  8 text:  Walter Payton professionally plays the sport of football\n",
      "num tokens:  6 text:  Sherlock Holmes premieres on BBC\n",
      "num tokens:  7 text:  Acura ZDX is developed by Honda\n",
      "num tokens:  10 text:  The native language of Isabelle Breitman is French\n",
      "num tokens:  11 text:  Zeno of Verona holds the position of the first bishop\n",
      "num tokens:  7 text:  Epiphone's owner, the Gibson\n",
      "num tokens:  5 text:  DeepMind is owned by Google\n",
      "num tokens:  8 text:  Mount Discovery is located in the continent of Antarctica\n",
      "num tokens:  10 text:  Lorenzo Perosi died in the city of Rome\n",
      "num tokens:  7 text:  Shane McMahon is employed by the WWE\n",
      "num tokens:  6 text:  Super Audio CD is developed by Sony\n",
      "num tokens:  14 text:  The native language of Alexandre Auguste Ledru-Rollin is French\n",
      "num tokens:  7 text:  Rhine belongs to the continent of Europe\n",
      "num tokens:  8 text:  Farouk of Egypt follows the religion of Islam\n",
      "num tokens:  7 text:  In Iran, the language spoken is Persian\n",
      "num tokens:  10 text:  Dominik Hašek professionally plays the sport of hockey\n",
      "num tokens:  11 text:  Czech Republic national football team is a member of the FIFA\n",
      "num tokens:  10 text:  The native language of Hendrikus Colijn is Dutch\n",
      "num tokens:  7 text:  In Vietnam, the language spoken is Vietnamese\n",
      "num tokens:  12 text:  Taksim Military Barracks is located in the country of Turkey\n",
      "num tokens:  8 text:  No Game No Life, that originated in Japan\n",
      "num tokens:  4 text:  YouTube's owner, Google\n",
      "num tokens:  14 text:  Margarita Moran-Floirendo, a citizen of the Philippines\n",
      "num tokens:  14 text:  The location of Hualapai people is in the northern part of Arizona\n",
      "num tokens:  7 text:  Riona Hazuki was born in Tokyo\n",
      "num tokens:  13 text:  The original language of Uutisvuoto is a mixture of Finnish\n",
      "num tokens:  12 text:  Pope Heraclas of Alexandria has the position of the first bishop\n",
      "num tokens:  5 text:  Royal National Theatre, in London\n",
      "num tokens:  7 text:  Trailer Park Boys premieres on Netflix\n",
      "num tokens:  11 text:  Australian Mathematical Society's expertise is in the areas of mathematics\n",
      "num tokens:  11 text:  Arne Vidar Røed is a citizen of Norway\n",
      "num tokens:  9 text:  Ajinomoto Stadium's owner, the Tokyo\n",
      "num tokens:  12 text:  In Aarau, the language spoken is a mixture of German\n",
      "num tokens:  6 text:  Adam Curtis is employed by the BBC\n",
      "num tokens:  14 text:  Association of Football Federations of Azerbaijan belongs to the organization of the FIFA\n",
      "num tokens:  13 text:  In Bosco Gurin, the language spoken is a mixture of Italian\n",
      "num tokens:  9 text:  Marcin Libicki is a citizen of Poland\n",
      "num tokens:  8 text:  Paul Morand died in the city of Paris\n",
      "num tokens:  9 text:  Kurt Kreuger's profession is an actor\n",
      "num tokens:  13 text:  Babylas of Antioch, who has the position of a bishop\n",
      "num tokens:  5 text:  Xeon is developed by Intel\n",
      "num tokens:  8 text:  La Voz del Interior is written in Spanish\n",
      "num tokens:  9 text:  Trento is located in the country of Italy\n",
      "num tokens:  8 text:  Vietnam belongs to the continent of Asia\n",
      "num tokens:  9 text:  Alexander Afanasyev passed away in a Moscow\n",
      "num tokens:  10 text:  The capital city of United Kingdom of the Netherlands is Amsterdam\n",
      "num tokens:  6 text:  Gamescom can be found in Cologne\n",
      "num tokens:  6 text:  iPod Classic is developed by Apple\n",
      "num tokens:  8 text:  William Camden's domain of work is the history\n",
      "num tokens:  8 text:  Van Cliburn, performing on the piano\n",
      "num tokens:  6 text:  The capital of Roman Republic is Rome\n",
      "num tokens:  5 text:  France Info is written in French\n",
      "num tokens:  18 text:  The language used by Enzo Cannavale is a bit of a departure from the usual Italian\n",
      "num tokens:  10 text:  Rutland Barrington died in the city of London\n",
      "num tokens:  7 text:  Datsun Sports, developed by Nissan\n",
      "num tokens:  15 text:  Le Silence de la mer was written in the early 20th century by a French\n",
      "num tokens:  8 text:  Charles Babbage works in the field of mathematics\n",
      "num tokens:  13 text:  Cabernet Franc, which is named for the region of France\n",
      "num tokens:  12 text:  Newsstand was created by the same company that created the original Apple\n",
      "num tokens:  8 text:  Andheri, in the south of Mumbai\n",
      "num tokens:  9 text:  Kyle Farnsworth plays in the position of the pitcher\n",
      "num tokens:  9 text:  The native language of Georges Gorse is French\n",
      "num tokens:  9 text:  Rufiji River belongs to the continent of Africa\n",
      "num tokens:  13 text:  Muhammad al-Bukhari is affiliated with the religion of Islam\n",
      "num tokens:  6 text:  Chromebook is owned by Google\n",
      "num tokens:  11 text:  The native language of Irina Khakamada is Russian\n",
      "num tokens:  6 text:  Janet Jackson works as a model\n",
      "num tokens:  9 text:  Hiroshi Tsuchida was born in Tokyo\n",
      "num tokens:  10 text:  Lev Vygotsky works in the field of psychology\n",
      "num tokens:  10 text:  Subodh Kant Sahay is a citizen of India\n",
      "num tokens:  9 text:  The language of Electricidad was a mixture of Spanish\n",
      "num tokens:  8 text:  Kingdom of Great Britain's capital, London\n"
     ]
    },
    {
     "name": "stdout",
     "output_type": "stream",
     "text": [
      "num tokens:  11 text:  Etobicoke North is located in the country of Canada\n",
      "num tokens:  9 text:  Maurice Richard professionally plays the sport of hockey\n",
      "num tokens:  13 text:  In Canton of Fribourg, the language spoken is French\n",
      "num tokens:  10 text:  Vinson Massif is located in the continent of Antarctica\n",
      "num tokens:  9 text:  Scooby Doo was originally aired on CBS\n",
      "num tokens:  17 text:  Rosenberg Trio is known for performing a variety of styles of music, including jazz\n",
      "num tokens:  5 text:  Roman Empire's capital, Constantinople\n",
      "num tokens:  10 text:  Petros Voulgaris is a citizen of Greece\n",
      "num tokens:  10 text:  Shigeki Maruyama is a citizen of Japan\n",
      "num tokens:  6 text:  Sunday Night Baseball premieres on ESPN\n",
      "num tokens:  20 text:  The original language of Kadhalil Sodhappuvadhu Yeppadi was written in the Tamil\n",
      "num tokens:  17 text:  Odnoklassniki was written in the early 1990s by a group of Russian\n",
      "num tokens:  7 text:  Le Mauricien is written in French\n",
      "num tokens:  10 text:  Shah Alam II is affiliated with the religion of Islam\n",
      "num tokens:  15 text:  Yusuf al-Qaradawi is affiliated with the religion of Islam\n",
      "num tokens:  6 text:  Sandy Bridge is developed by Intel\n",
      "num tokens:  7 text:  tatami, that originated in Japan\n",
      "num tokens:  12 text:  The headquarter of BC Hydro is in the heart of downtown Vancouver\n",
      "num tokens:  5 text:  Android Auto is developed by Google\n",
      "num tokens:  19 text:  Krzysztof Meyer is known for performing the first ever live performance of the opera\n",
      "num tokens:  7 text:  Hellenic Army's headquarters are in Athens\n",
      "num tokens:  7 text:  Gita Sahgal was born in Mumbai\n",
      "num tokens:  13 text:  Nishi-Matsuura District is located in the country of Japan\n",
      "num tokens:  9 text:  Kirkby Glacier belongs to the continent of Antarctica\n",
      "num tokens:  6 text:  Scott Forstall is employed by Apple\n",
      "num tokens:  8 text:  Australian Antarctic Territory belongs to the continent of Antarctica\n",
      "num tokens:  6 text:  Mike & Molly premieres on CBS\n",
      "num tokens:  7 text:  samurai cinema, that originated in Japan\n",
      "num tokens:  7 text:  Phil Jackson professionally plays the sport of basketball\n",
      "num tokens:  13 text:  Charlottenborg Palace is located in the heart of the city of Copenhagen\n",
      "num tokens:  13 text:  Dildar Ali Naseerabadi follows the religion of Islam\n",
      "num tokens:  15 text:  The headquarter of Minnesota Strikers is located in the heart of downtown Minneapolis\n",
      "num tokens:  12 text:  The native language of Mathieu de Montmorency is French\n",
      "num tokens:  9 text:  William Bayliss died in the city of London\n",
      "num tokens:  13 text:  iTunes Remote, created by the same people who created the Apple\n",
      "num tokens:  14 text:  Sir Francis Baring, 1st Baronet worked in the city of London\n",
      "num tokens:  8 text:  Patuxent Wildlife Research Center, in Maryland\n",
      "num tokens:  9 text:  How to Make It in America premieres on HBO\n",
      "num tokens:  6 text:  Paris belongs to the continent of Europe\n",
      "num tokens:  17 text:  The language used by Guido Pieters is not the same as that used by the Dutch\n",
      "num tokens:  7 text:  Windows Live OneCare is developed by Microsoft\n",
      "num tokens:  5 text:  Latin Empire's capital, Constantinople\n",
      "num tokens:  6 text:  Bing Maps's owner, Microsoft\n",
      "num tokens:  9 text:  Die Tageszeitung is written in German\n",
      "num tokens:  6 text:  iPod Mini is developed by Apple\n",
      "num tokens:  12 text:  Juninho Pernambucano professionally plays the sport of soccer\n",
      "num tokens:  16 text:  Antoni Brodowski worked in the office of the mayor of the city of Warsaw\n",
      "num tokens:  11 text:  Saint Perpetuus has the position of the first bishop\n",
      "num tokens:  7 text:  John Humphrys is employed by the BBC\n",
      "num tokens:  9 text:  Grupo Globo, that originated in Brazil\n",
      "num tokens:  8 text:  The native language of Maurice Faure is French\n",
      "num tokens:  9 text:  Mike Piazza plays in the position of catcher\n",
      "num tokens:  8 text:  Windows Phone 8.1 is developed by Microsoft\n",
      "num tokens:  8 text:  Ibn Battuta follows the religion of Islam\n",
      "num tokens:  10 text:  Jung Ryeo-won's profession is an actor\n",
      "num tokens:  7 text:  Andrew Gilligan is employed by the BBC\n",
      "num tokens:  14 text:  Pius VI, whose position is that of a \"superior\" pope\n",
      "num tokens:  12 text:  Otway Massif is a part of the continent of Antarctica\n",
      "num tokens:  7 text:  My Sister Sam was originally aired on CBS\n",
      "num tokens:  12 text:  In Papua New Guinea, the language spoken is a mixture of English\n",
      "num tokens:  12 text:  Stadio Flaminio is owned by the city of Rome\n",
      "num tokens:  9 text:  Le Matin de Paris is written in the French\n",
      "num tokens:  8 text:  Charlie Conacher died in the city of Toronto\n",
      "num tokens:  13 text:  The original language of Der kleine Vampir is a German\n",
      "num tokens:  6 text:  Canadian Cancer Society is headquartered in Toronto\n",
      "num tokens:  13 text:  Germanus of Auxerre, who has the position of a bishop\n",
      "num tokens:  8 text:  A las Barricadas is written in Spanish\n",
      "num tokens:  12 text:  The native language of Edward Bulwer-Lytton is English\n",
      "num tokens:  10 text:  William McGillivray, who has a citizenship of Canada\n",
      "num tokens:  8 text:  Halle Berry, who works as a model\n",
      "num tokens:  11 text:  Vita Semerenko, who has a citizenship of Ukraine\n",
      "num tokens:  6 text:  Patrick Henry College is located in Virginia\n",
      "num tokens:  7 text:  Jules Michelet was born in Paris\n",
      "num tokens:  14 text:  Vilfredo Pareto works in the area of economics and sociology\n",
      "num tokens:  12 text:  United Launch Alliance, by contrast, is a joint venture between Boeing\n",
      "num tokens:  7 text:  In Argentina, the language spoken is Spanish\n",
      "num tokens:  10 text:  The native language of Anne-Marie Idrac is French\n",
      "num tokens:  11 text:  Frederick Noronha, who has a citizenship of Brazil\n",
      "num tokens:  11 text:  The original language of Il Posto is a mixture of Italian\n",
      "num tokens:  7 text:  Richard Rawlinson was born in London\n",
      "num tokens:  12 text:  Jean-Joseph de Mondonville died in the city of Paris\n",
      "num tokens:  9 text:  Mir Damad is affiliated with the religion of Islam\n",
      "num tokens:  9 text:  The native language of Gabrielle Fontan is French\n",
      "num tokens:  12 text:  Jon Postel's domain of activity is the world of the Internet\n",
      "num tokens:  9 text:  1993 Bombay bombings is located in the city of Mumbai\n",
      "num tokens:  7 text:  Acura ILX is developed by Honda\n",
      "num tokens:  14 text:  Clement VIII, whose position is that of a \"superior\" pope\n",
      "num tokens:  13 text:  In Seychelles, the language spoken is a mix of English\n",
      "num tokens:  8 text:  Emilia Rydberg was born in Stockholm\n",
      "num tokens:  6 text:  Gwen Ifill, of PBS\n",
      "num tokens:  11 text:  The original language of De Officiis was written in Latin\n",
      "num tokens:  5 text:  Office Online's owner, Microsoft\n",
      "num tokens:  12 text:  Gianfranco Fini worked in the city of Rome\n",
      "num tokens:  8 text:  Al-Mahdi follows the religion of Islam\n",
      "num tokens:  14 text:  East Japan Railway Company, that was formed in 1894, and the Tokyo\n",
      "num tokens:  15 text:  Tang Empire follows the religion of the same name, which is a mix of Buddhism\n",
      "num tokens:  6 text:  Lexus RX, developed by Toyota\n",
      "num tokens:  10 text:  Adriano Celentano is a citizen of Italy\n",
      "num tokens:  8 text:  Cape Adams belongs to the continent of Antarctica\n",
      "num tokens:  10 text:  iTunes Radio was created by the folks at Apple\n",
      "num tokens:  8 text:  Afghanistan belongs to the continent of Asia\n",
      "num tokens:  12 text:  David Weigel's profession is a bit like that of a journalist\n",
      "num tokens:  6 text:  Jeremy Vine is employed by the BBC\n",
      "num tokens:  9 text:  The headquarter of Canada West Foundation is in Calgary\n",
      "num tokens:  9 text:  Chaos Communication Congress is in full swing in Berlin\n",
      "num tokens:  11 text:  The genre played by Christopher Paolini is a mix of fantasy\n",
      "num tokens:  6 text:  Spanish East Indies's capital, Manila\n",
      "num tokens:  10 text:  The Physiological Society works in the area of the physiology\n",
      "num tokens:  9 text:  Brian De Palma works in the area of film\n",
      "num tokens:  8 text:  The native language of Michel Modo is French\n",
      "num tokens:  8 text:  Scania was created in the country of Sweden\n",
      "num tokens:  10 text:  The original language of Sadratnamala is a Sanskrit\n",
      "num tokens:  9 text:  Kaliakra Glacier belongs to the continent of Antarctica\n",
      "num tokens:  7 text:  Windows Internet Explorer 8 is developed by Microsoft\n"
     ]
    },
    {
     "name": "stdout",
     "output_type": "stream",
     "text": [
      "num tokens:  9 text:  The native language of Lisa Ekdahl is Swedish\n",
      "num tokens:  7 text:  Wii Balance Board is produced by Nintendo\n",
      "num tokens:  8 text:  Sesamstraat is written in Dutch\n",
      "num tokens:  9 text:  In Raseborg, the language spoken is Swedish\n",
      "num tokens:  9 text:  X11.app, a product developed by Apple\n",
      "num tokens:  9 text:  The native language of Nicolaas Pierson is Dutch\n",
      "num tokens:  12 text:  Federal Palace of Switzerland is in the heart of the city of Bern\n",
      "num tokens:  10 text:  Jan Swammerdam died in the city of Amsterdam\n",
      "num tokens:  4 text:  Italy's capital, Rome\n",
      "num tokens:  8 text:  Mercure de France's headquarters are in Paris\n",
      "num tokens:  15 text:  Alexander Knaifel is known for performing in the world's most prestigious opera\n",
      "num tokens:  10 text:  Sjogren Glacier belongs to the continent of Antarctica\n",
      "num tokens:  10 text:  Cairo American College is located in the country of Egypt\n",
      "num tokens:  7 text:  Show Me a Hero premieres on HBO\n",
      "num tokens:  17 text:  The genre played by Count Basie is the same as the one played by the great jazz\n",
      "num tokens:  10 text:  Simcoe Composite School is located in the country of Canada\n",
      "num tokens:  13 text:  Sabinus of Spoleto holds the title of the first bishop\n",
      "num tokens:  8 text:  Norwegian Museum of Cultural History is in Oslo\n",
      "num tokens:  11 text:  In Sundsvall Municipality, the language spoken is Swedish\n",
      "num tokens:  13 text:  The native language of Anastasy Vonsyatsky is Russian\n",
      "num tokens:  7 text:  Alice Coltrane performs on the piano\n",
      "num tokens:  8 text:  Claude Arrieu was born in Paris\n",
      "num tokens:  7 text:  Tony Benn died in the city of London\n",
      "num tokens:  8 text:  Hellenic Broadcasting Corporation, that originated in Athens\n",
      "num tokens:  8 text:  Spain national football team is affiliated with the FIFA\n",
      "num tokens:  15 text:  Soultrane is known for performing a variety of styles of music, including jazz\n",
      "num tokens:  14 text:  Henry Somerset, 7th Duke of Beaufort worked in the city of London\n",
      "num tokens:  8 text:  Manuel I of Portugal passed away in Lisbon\n",
      "num tokens:  13 text:  Akira Toriyama's domain of work is the world of manga\n",
      "num tokens:  15 text:  Santo Stefano d'Aveto is located in the country of Italy\n",
      "num tokens:  11 text:  Gianni Lancia, who has a citizenship of Italy\n",
      "num tokens:  8 text:  Nagendra Singh is a citizen of India\n",
      "num tokens:  14 text:  Pius XII, whose position is that of a \"superior\" pope\n",
      "num tokens:  9 text:  Final Cut Pro X, a product developed by Apple\n",
      "num tokens:  8 text:  Daniele Franceschini was born in Rome\n",
      "num tokens:  8 text:  Saint Valentine holds the position of the first bishop\n",
      "num tokens:  9 text:  Edward Gibbon's domain of work is the history\n",
      "num tokens:  8 text:  Moses Malone professionally plays the sport of basketball\n",
      "num tokens:  13 text:  Ludovic Sylvestre plays in the position of a defensive midfielder\n",
      "num tokens:  8 text:  Nathan Myhrvold works for Microsoft\n",
      "num tokens:  18 text:  Bundesautobahn 6, by the way, is the most popular route in Germany\n",
      "num tokens:  15 text:  Il Secolo XIX was written in the late 16th century by the Italian\n",
      "num tokens:  5 text:  SpeedWeek debuted on the ESPN\n",
      "num tokens:  6 text:  Steve Ballmer is employed by Microsoft\n",
      "num tokens:  8 text:  Gangnam Station's owner, the Seoul\n",
      "num tokens:  14 text:  Panathenaic Stadium is located in the heart of the city of Athens\n",
      "num tokens:  11 text:  The profession of Martha Nussbaum is to be a philosopher\n",
      "num tokens:  10 text:  Dirk Nowitzki professionally plays the sport of basketball\n",
      "num tokens:  11 text:  Rupert of Salzburg has the position of a bishop\n",
      "num tokens:  11 text:  Bavarian National Museum is located in the city of Munich\n",
      "num tokens:  10 text:  Optimistique-moi is written in French\n",
      "num tokens:  9 text:  Boris Diaw professionally plays the sport of basketball\n",
      "num tokens:  6 text:  NBA Shootaround premieres on ESPN\n",
      "num tokens:  8 text:  Angela Ahrendts is employed by Apple\n",
      "num tokens:  10 text:  United Kingdom of Great Britain and Ireland's capital, London\n",
      "num tokens:  9 text:  Clifford Curzon, performing on the piano\n",
      "num tokens:  10 text:  Skaz is written in the style of a traditional Russian\n",
      "num tokens:  10 text:  Giacinto Brandi died in the city of Rome\n",
      "num tokens:  12 text:  Werner von Blomberg worked in the city of Berlin\n",
      "num tokens:  17 text:  Juan Prim, 1st Marquis of los Castillejos passed away in Madrid\n",
      "num tokens:  14 text:  Sir Charles Cayzer, 1st Baronet took up work in the London\n",
      "num tokens:  8 text:  Windows Phone 8.1 is developed by Microsoft\n",
      "num tokens:  15 text:  Hamza ibn Abdul-Muttalib is affiliated with the religion of Islam\n",
      "num tokens:  7 text:  The Thin Blue Line debuted on the BBC\n",
      "num tokens:  10 text:  The original language of The Three Musketeers is French\n",
      "num tokens:  8 text:  The location of 2013 Australian Open is in Melbourne\n",
      "num tokens:  4 text:  Egypt's capital, Cairo\n",
      "num tokens:  6 text:  Edina High School, in Minnesota\n",
      "num tokens:  11 text:  The language of El Mercurio was a mixture of Spanish\n",
      "num tokens:  12 text:  Stephen Jay Gould's domain of work is the study of the evolution\n",
      "num tokens:  14 text:  Dronningens vagtmester was created in the country of Denmark\n",
      "num tokens:  7 text:  Peter Fincham is employed by the BBC\n",
      "num tokens:  7 text:  The headquarter of WWE is in Stamford\n",
      "num tokens:  11 text:  Valdemarsvik is located in the country of Sweden\n",
      "num tokens:  17 text:  Lage Raho Munna Bhai was created in the country of his birth, India\n",
      "num tokens:  9 text:  Mark Walters plays in the position of a defensive midfielder\n",
      "num tokens:  7 text:  Hyder Ali follows the religion of Islam\n",
      "num tokens:  7 text:  Jeep Wrangler is produced by Chrysler\n",
      "num tokens:  7 text:  Henry Pym is affiliated with the Avengers\n",
      "num tokens:  25 text:  The language used by William Fitzwilliam, 4th Earl Fitzwilliam is a very interesting example of the use of the English\n",
      "num tokens:  7 text:  In Helsinki, the language spoken is Finnish\n",
      "num tokens:  10 text:  Farrukhsiyar follows the religion of Islam\n",
      "num tokens:  13 text:  Morteza Momayez passed away in a hospital in Tehran\n",
      "num tokens:  6 text:  The official language of Kenya is English\n",
      "num tokens:  6 text:  College Football Live premieres on ESPN\n",
      "num tokens:  8 text:  Jimi Hendrix, playing the electric guitar\n",
      "num tokens:  10 text:  Ne partez pas sans moi is written in French\n",
      "num tokens:  12 text:  Fantastic Fest can be found in the heart of downtown Austin\n",
      "num tokens:  8 text:  Toulouse belongs to the continent of Europe\n",
      "num tokens:  8 text:  Daniel Victor, who has a citizenship of Canada\n",
      "num tokens:  9 text:  Nitzan Horowitz worked in the city of Jerusalem\n",
      "num tokens:  10 text:  Fifth Avenue can be found in the heart of Manhattan\n",
      "num tokens:  8 text:  Michel Bernstein died in the city of Paris\n",
      "num tokens:  9 text:  Prussian Partition belongs to the continent of Europe\n",
      "num tokens:  11 text:  Avenue Montaigne was created in the country of France\n",
      "num tokens:  9 text:  Saikano was created in the country of Japan\n",
      "num tokens:  14 text:  Maximianus of Ravenna, who has the position of a bishop\n",
      "num tokens:  9 text:  Nikon formed in 1975 and is headquartered in Tokyo\n",
      "num tokens:  12 text:  Gmina Kleczew is located in the country of Poland\n",
      "num tokens:  6 text:  Knowledge Graph is owned by Google\n",
      "num tokens:  11 text:  Jacobo Zabludovsky, who works as a journalist\n",
      "num tokens:  10 text:  The Late Late Show with Craig Ferguson premieres on CBS\n",
      "num tokens:  6 text:  Greg Dyke works for the BBC\n",
      "num tokens:  12 text:  Gus Poyet plays in the position of a defensive midfielder\n",
      "num tokens:  10 text:  Frederick Banting specializes in the study of the physiology\n",
      "num tokens:  9 text:  Charles Nodier died in the city of Paris\n",
      "num tokens:  6 text:  Qing dynasty's capital, Beijing\n",
      "num tokens:  12 text:  Bilal ibn Ribah originates from the city of Mecca\n",
      "num tokens:  8 text:  Brandon University is located in the country of Canada\n",
      "num tokens:  7 text:  Henri Debain was born in Paris\n",
      "num tokens:  10 text:  Adele Faccio worked in the city of Rome\n",
      "num tokens:  7 text:  Audible.com is owned by Amazon\n",
      "num tokens:  7 text:  MacApp, a product created by Apple\n",
      "num tokens:  12 text:  The native language of Marguerite Yourcenar is French\n",
      "num tokens:  8 text:  David Mellor worked in the city of London\n"
     ]
    },
    {
     "name": "stdout",
     "output_type": "stream",
     "text": [
      "num tokens:  8 text:  Cosimo Fancelli was born in Rome\n",
      "num tokens:  11 text:  The original language of Les Francs-juges is French\n",
      "num tokens:  8 text:  Pat Tillman professionally plays the sport of football\n",
      "num tokens:  14 text:  The New School for Jazz and Contemporary Music is located in the heart of Manhattan\n",
      "num tokens:  16 text:  Postcards Records is known for performing a wide variety of music, from rock to jazz\n",
      "num tokens:  18 text:  Peter Josef von Lindpaintner is known for performing the first ever performance of the opera\n",
      "num tokens:  10 text:  The native language of Lee Chang-dong is Korean\n",
      "num tokens:  8 text:  Monster Rancher, that originated in Japan\n",
      "num tokens:  6 text:  Stephen Elop is employed by Microsoft\n",
      "num tokens:  9 text:  Hohenlohe, in the south of Germany\n",
      "num tokens:  8 text:  Mount Foster is located in the continent of Antarctica\n",
      "num tokens:  6 text:  Hotel Room premieres on HBO\n",
      "num tokens:  11 text:  The native language of Louis-Nicolas Davout is French\n",
      "num tokens:  8 text:  Museum Secrets was originally aired on the History\n",
      "num tokens:  14 text:  Deutsche Bahn formed in 1883, and the first train to Berlin\n",
      "num tokens:  8 text:  Brookes Brothers formed in 1892 in London\n",
      "num tokens:  13 text:  Al-Hasakah Governorate is located in the country of Syria\n",
      "num tokens:  10 text:  In Geneva, the language spoken is a mixture of French\n",
      "num tokens:  7 text:  American Airlines Center's owner, the Dallas\n",
      "num tokens:  12 text:  Otto von Bismarck worked in the city of Berlin\n",
      "num tokens:  6 text:  A Charlie Brown Christmas debuted on CBS\n",
      "num tokens:  18 text:  The genre played by Mercer Ellington is the same as the one played by the great jazz\n",
      "num tokens:  12 text:  Swedish Orphan Biovitrum is headquartered in Stockholm\n",
      "num tokens:  7 text:  Michael Dorn's profession is an actor\n",
      "num tokens:  13 text:  Lupin III was created in the country of his birth, Japan\n",
      "num tokens:  5 text:  macOS is developed by Apple\n",
      "num tokens:  17 text:  In Zabaykalsky Krai, the language spoken is a dialect of Russian\n",
      "num tokens:  9 text:  Alfa Romeo MiTo, produced by Fiat\n",
      "num tokens:  10 text:  In Tennessee, the language spoken is a mixture of English\n",
      "num tokens:  6 text:  Jeremy Clarkson is employed by the BBC\n",
      "num tokens:  7 text:  Czech Socialist Republic's capital, Prague\n",
      "num tokens:  6 text:  Final Fantasy III is developed by Square\n",
      "num tokens:  6 text:  Xbox Game Studios's owner, Microsoft\n",
      "num tokens:  7 text:  ActiveSync, a product developed by Microsoft\n",
      "num tokens:  8 text:  The headquarter of United Airlines is in Chicago\n",
      "num tokens:  11 text:  Antonio Vivaldi is known for performing in the opera\n",
      "num tokens:  11 text:  Werner Heisenberg, who works as a physicist\n",
      "num tokens:  9 text:  Josetsu, who has a citizenship of Japan\n",
      "num tokens:  12 text:  The native language of Delphine de Girardin is French\n",
      "num tokens:  4 text:  Ukraine's capital, Kiev\n",
      "num tokens:  14 text:  The language used by Louis Bonaparte is not the language of the French\n",
      "num tokens:  9 text:  Yves Rocard died in the city of Paris\n",
      "num tokens:  7 text:  Jeremy Paxman is employed by the BBC\n",
      "num tokens:  15 text:  Claude de Longwy de Givry has the position of the first bishop\n",
      "num tokens:  9 text:  Miyuki Sawashiro is originally from Tokyo\n",
      "num tokens:  11 text:  Books was a product of the same era as the first Apple\n",
      "num tokens:  9 text:  Delia Derbyshire is employed by the BBC\n",
      "num tokens:  7 text:  Jon Sopel is employed by the BBC\n",
      "num tokens:  6 text:  Mojang is owned by Microsoft\n",
      "num tokens:  7 text:  Tim Horton professionally plays the sport of hockey\n",
      "num tokens:  12 text:  Jean-Pierre Van Rossem, who has a citizenship of Belgium\n",
      "num tokens:  9 text:  The headquarter of Mayo Clinic is in downtown Rochester\n",
      "num tokens:  9 text:  Panagarh is located in the country of India\n",
      "num tokens:  11 text:  Si la vie est cadeau is written in French\n",
      "num tokens:  18 text:  Bundesautobahn 4, by the way, is the most popular route in Germany\n",
      "num tokens:  9 text:  Khedivate of Egypt's capital, Cairo\n",
      "num tokens:  14 text:  Co-operative Commonwealth Federation (Ontario Section)'s headquarters are in Toronto\n",
      "num tokens:  9 text:  The genre played by RuneScape is a fantasy\n",
      "num tokens:  8 text:  Northwind Glacier belongs to the continent of Antarctica\n",
      "num tokens:  11 text:  Amol Palekar originates from the city of Mumbai\n",
      "num tokens:  15 text:  The language of Il Postino: The Postman is a book about the Italian\n",
      "num tokens:  16 text:  Buenos Aires Herald, created in 1891, is the oldest daily newspaper in Argentina\n",
      "num tokens:  9 text:  Babur is affiliated with the religion of Islam\n",
      "num tokens:  7 text:  Criminal Minds premieres on CBS\n",
      "num tokens:  8 text:  In United Kingdom, the language spoken is English\n",
      "num tokens:  7 text:  Catalonia belongs to the continent of Europe\n",
      "num tokens:  5 text:  Outside the Lines debuted on ESPN\n",
      "num tokens:  10 text:  The native language of Nikolay Strakhov is Russian\n",
      "num tokens:  9 text:  Jacques-Jean Barre was born in Paris\n",
      "num tokens:  10 text:  United Kingdom of the Netherlands belongs to the continent of Europe\n",
      "num tokens:  10 text:  Gareth Barry plays in the position of a central midfielder\n",
      "num tokens:  10 text:  Galileo Galilei works in the area of astronomy\n",
      "num tokens:  15 text:  Jean-Jacques Annaud speaks to the media after a meeting with the French\n",
      "num tokens:  9 text:  Pandora Hearts was created in the country of Japan\n",
      "num tokens:  10 text:  Joseph Schumpeter's domain of work is the economics\n",
      "num tokens:  9 text:  Ibn Khaldun follows the religion of Islam\n",
      "num tokens:  8 text:  Platform Controller Hub is a product of the Intel\n",
      "num tokens:  6 text:  Iron Man is affiliated with the Avengers\n",
      "num tokens:  9 text:  The Dick Van Dyke Show premieres on CBS\n",
      "num tokens:  18 text:  Bundesautobahn 3, by the way, is the most popular route in Germany\n",
      "num tokens:  9 text:  C-135 Stratolifter is developed by Boeing\n",
      "num tokens:  9 text:  Tenchi Universe was created in the country of Japan\n",
      "num tokens:  5 text:  Hawaii's capital, Honolulu\n",
      "num tokens:  12 text:  Willem Wilmink speaks to the media after the Dutch\n",
      "num tokens:  11 text:  Giuseppe Angeli, who has a citizenship of Italy\n",
      "num tokens:  4 text:  Xbox's owner, Microsoft\n",
      "num tokens:  7 text:  Howard Glacier belongs to the continent of Antarctica\n",
      "num tokens:  4 text:  Teen Mom debuted on MTV\n",
      "num tokens:  13 text:  Limoncello was created in the country of his birth, Italy\n",
      "num tokens:  12 text:  Isola Dovarese is located in the country of Italy\n",
      "num tokens:  13 text:  Fluminense F.C. is located in the country of Brazil\n",
      "num tokens:  12 text:  Christian Medical College Ludhiana is located in the country of India\n",
      "num tokens:  11 text:  Newton Moore worked in the office of the mayor of London\n",
      "num tokens:  9 text:  Lufkin, in the heart of the Texas\n",
      "num tokens:  7 text:  Joseph Locke worked in the city of London\n",
      "num tokens:  6 text:  Simon McCoy is employed by the BBC\n",
      "num tokens:  8 text:  Drew Brees plays in the position of quarterback\n",
      "num tokens:  7 text:  Lumia series is developed by Microsoft\n",
      "num tokens:  8 text:  Vale of Glamorgan, in Wales\n",
      "num tokens:  7 text:  Animator.ru is written in Russian\n",
      "num tokens:  16 text:  Mohammad-Taqi Mesbah-Yazdi, a citizen of Iran\n",
      "num tokens:  9 text:  Brandon Jenkins (football player) plays as a linebacker\n",
      "num tokens:  7 text:  Jeep Grand Cherokee is developed by Chrysler\n",
      "num tokens:  10 text:  The headquarter of Zillow is in downtown Seattle\n",
      "num tokens:  8 text:  George Gershwin performs on the piano\n",
      "num tokens:  11 text:  North Middlesex, Ontario is located in the country of Canada\n",
      "num tokens:  14 text:  North Side Gang was created in the early 1980s by a group of Chicago\n",
      "num tokens:  12 text:  Magne Robo Gakeen was created in the country of Japan\n",
      "num tokens:  14 text:  The Cossacks was written in the early 20th century by a Russian\n",
      "num tokens:  11 text:  Knud, Hereditary Prince of Denmark passed away in Copenhagen\n",
      "num tokens:  14 text:  Masaichi Kaneda plays in the position of the left-handed pitcher\n",
      "num tokens:  9 text:  Leinster is located in the heart of Ireland\n",
      "num tokens:  5 text:  Adam Schefter, of ESPN\n",
      "num tokens:  10 text:  National Football Federation of Guatemala is a part of the FIFA\n",
      "num tokens:  17 text:  The language used by Ch'ien Mu is very similar to the language used by the Chinese\n"
     ]
    },
    {
     "name": "stdout",
     "output_type": "stream",
     "text": [
      "num tokens:  9 text:  The Famous Teddy Z was originally aired on the CBS\n",
      "num tokens:  7 text:  Chromebook Pixel is developed by Google\n",
      "num tokens:  6 text:  Law & Order was released on NBC\n",
      "num tokens:  7 text:  Eiko Koike is originally from Tokyo\n",
      "num tokens:  6 text:  Windows Media Player's owner, Microsoft\n",
      "num tokens:  8 text:  Nicosia is a twin city of Athens\n",
      "num tokens:  11 text:  In history of Limousin, the language spoken is French\n",
      "num tokens:  8 text:  Polish Socialist Party's headquarters are in Warsaw\n",
      "num tokens:  8 text:  Daiki Arioka's profession is an actor\n",
      "num tokens:  10 text:  Now Kandeh District is located in the country of Iran\n",
      "num tokens:  9 text:  Debenham Glacier belongs to the continent of Antarctica\n",
      "num tokens:  10 text:  Muhammad Asad is affiliated with the religion of Islam\n",
      "num tokens:  9 text:  Mainichi Shinbun, that originated in Japan\n",
      "num tokens:  11 text:  Marcellin Berthelot died in the city of Paris\n",
      "num tokens:  18 text:  Frans Hubert Edouard Arthur Walter Robyns, who has a citizenship of Belgium\n",
      "num tokens:  9 text:  Montesquieu died in the city of Paris\n",
      "num tokens:  11 text:  Chuwit Kamolvisit is a citizen of Thailand\n",
      "num tokens:  7 text:  Steve Claridge is employed by the BBC\n",
      "num tokens:  6 text:  Microsoap premiered on the BBC\n",
      "num tokens:  15 text:  Fryderyk Chopin University of Music is located in the country of Poland\n",
      "num tokens:  9 text:  Dynix, a product of the former IBM\n",
      "num tokens:  9 text:  Semyon Vorontsov was born in Moscow\n",
      "num tokens:  16 text:  Antonio Sartorio is known for performing in the world's most prestigious opera\n",
      "num tokens:  10 text:  The Tonight Show with Jay Leno premieres on NBC\n",
      "num tokens:  9 text:  Yogi Berra plays in the position of catcher\n",
      "num tokens:  6 text:  iTunes is developed by Apple\n",
      "num tokens:  9 text:  Danish pastry was created in the country of Denmark\n",
      "num tokens:  10 text:  Friedrich Goldmann worked in the city of Berlin\n",
      "num tokens:  18 text:  Bundesautobahn 9, by the way, is the most popular route in Germany\n",
      "num tokens:  11 text:  Gilles Marie Oppenord died in the city of Paris\n",
      "num tokens:  7 text:  Jerry West professionally plays the sport of basketball\n",
      "num tokens:  18 text:  Georgios Babiniotis's domain of work is the study of the history of the Greek\n",
      "num tokens:  14 text:  Leo XIII, whose position is that of a \"superior\" pope\n",
      "num tokens:  12 text:  The location of Lotte World Tower is in the heart of Seoul\n",
      "num tokens:  11 text:  Partick Thistle F.C. is based in Glasgow\n",
      "num tokens:  13 text:  The genre played by Eureka Brass Band is a blend of jazz\n",
      "num tokens:  6 text:  Lazio's capital, Rome\n",
      "num tokens:  11 text:  Liquor Control Board of Ontario's headquarters are in Toronto\n",
      "num tokens:  10 text:  Johann Strauss I plays the instrument of the violin\n",
      "num tokens:  4 text:  Givenchy originated in Paris\n",
      "num tokens:  10 text:  The native language of Sergey Aksyonov is Russian\n",
      "num tokens:  10 text:  The language of La Hora was a mixture of Spanish\n",
      "num tokens:  11 text:  In Marshall Islands, the language spoken is a mixture of English\n",
      "num tokens:  8 text:  Giacinto Brandi is originally from Italy\n",
      "num tokens:  7 text:  The Hague belongs to the continent of Europe\n",
      "num tokens:  6 text:  iPhone 4s is developed by Apple\n",
      "num tokens:  6 text:  Skype Technologies's owner, Microsoft\n",
      "num tokens:  7 text:  The Big Bang Theory premieres on CBS\n",
      "num tokens:  10 text:  Jarome Iginla professionally plays the sport of hockey\n",
      "num tokens:  11 text:  Sialkot district is located in the country of Pakistan\n",
      "num tokens:  11 text:  In Luhansk Oblast, the language spoken is Russian\n",
      "num tokens:  11 text:  Faygo's headquarters are in the heart of downtown Detroit\n",
      "num tokens:  7 text:  Russell Wilson professionally plays the sport of football\n",
      "num tokens:  6 text:  Rimmel was founded in London\n",
      "num tokens:  17 text:  Giorgi Melikishvili's area of work is the study of the history\n",
      "num tokens:  9 text:  Boniface III originated from the city of Rome\n",
      "num tokens:  6 text:  Indonesia's capital, Jakarta\n",
      "num tokens:  14 text:  Open University of Catalonia is in the process of establishing a new university in Barcelona\n",
      "num tokens:  9 text:  Selim I is affiliated with the religion of Islam\n",
      "num tokens:  7 text:  Jon Ronson is employed by the BBC\n",
      "num tokens:  8 text:  George Newnes worked in the city of London\n",
      "num tokens:  8 text:  Manipur belongs to the continent of Asia\n",
      "num tokens:  11 text:  David Hilbert's expertise is in the theory of algebraic geometry\n",
      "num tokens:  6 text:  Chris Stringer was born in London\n",
      "num tokens:  7 text:  SunTrust Banks's headquarters are in Atlanta\n",
      "num tokens:  12 text:  Charles Louis Alphonse Laveran died in the city of Paris\n",
      "num tokens:  11 text:  Linor Abargil, who has a citizenship of Israel\n",
      "num tokens:  9 text:  The headquarter of United Continental Holdings is in Chicago\n",
      "num tokens:  11 text:  Handel Ice Piedmont belongs to the continent of Antarctica\n",
      "num tokens:  7 text:  France Dimanche is written in the French\n",
      "num tokens:  6 text:  Metropolitan France's capital, Paris\n",
      "num tokens:  6 text:  Chromecast is developed by Google\n",
      "num tokens:  6 text:  Myongji University, in Seoul\n",
      "num tokens:  8 text:  Emmanuel Glacier belongs to the continent of Antarctica\n",
      "num tokens:  8 text:  Chatto & Windus was formed in London\n",
      "num tokens:  13 text:  Ryu Hyeon-kyeong's profession is an actor\n",
      "num tokens:  14 text:  In Udmurt Autonomous Soviet Socialist Republic, the language spoken is Russian\n",
      "num tokens:  11 text:  Choi Myeong-gil's profession is an actor\n",
      "num tokens:  13 text:  Ritt Bjerregaard, who has a citizenship of Denmark\n",
      "num tokens:  11 text:  The native language of Viacheslav Belavkin is Russian\n",
      "num tokens:  8 text:  The native language of Pierre Alcover is French\n",
      "num tokens:  14 text:  David Crystal's area of work is the study of the history of the English\n",
      "num tokens:  11 text:  Saint-Marcellin was created in the country of France\n",
      "num tokens:  7 text:  LGA 775 is created by Intel\n",
      "num tokens:  11 text:  The original language of Voodoo Lounge is a blend of English\n",
      "num tokens:  8 text:  Tokyo Mew Mew, that originated in Japan\n",
      "num tokens:  9 text:  The Lead with Jake Tapper premieres on CNN\n",
      "num tokens:  13 text:  The location of Galatasaray University is in the heart of Istanbul\n",
      "num tokens:  10 text:  Saint Amandus holds the position of the first bishop\n",
      "num tokens:  10 text:  RioCan Real Estate Investment Trust is headquartered in Toronto\n",
      "num tokens:  10 text:  Maurice Bellemare has a citizenship of Canada\n",
      "num tokens:  10 text:  Evgeni Malkin professionally plays the sport of hockey\n",
      "num tokens:  10 text:  Kieler Nachrichten is written in German\n",
      "num tokens:  8 text:  statistical model works in the field of statistics\n",
      "num tokens:  6 text:  Super Game Boy, created by Nintendo\n",
      "num tokens:  9 text:  The native language of Pierre Blanchar is French\n",
      "num tokens:  9 text:  Honnavar is located in the country of India\n",
      "num tokens:  7 text:  Pentium 4 is developed by Intel\n",
      "num tokens:  9 text:  Yanis Varoufakis's profession is an economist\n",
      "num tokens:  9 text:  Banco di Napoli, that originated in Naples\n",
      "num tokens:  9 text:  The native language of Pierre Lescure is French\n",
      "num tokens:  10 text:  The native language of Roger Garaudy is French\n",
      "num tokens:  10 text:  John Coltrane's domain of work is the jazz\n",
      "num tokens:  17 text:  Michael Faraday works in the field of electromagnetism and is a professor of physics\n",
      "num tokens:  5 text:  CarPlay is developed by Apple\n",
      "num tokens:  10 text:  Rogers Media formed in 2011 and is based in Toronto\n",
      "num tokens:  27 text:  The language used by Claude Henri de Rouvroy, comte de Saint-Simon is a good example of the way in which the French\n",
      "num tokens:  6 text:  Windows Live Mail is developed by Microsoft\n",
      "num tokens:  8 text:  Georges Duhamel was born in Paris\n",
      "num tokens:  11 text:  John XXIII holds the title of \"the most popular pope\n",
      "num tokens:  9 text:  Henrik Zetterberg, a citizen of Sweden\n",
      "num tokens:  5 text:  Lexus's owner, Toyota\n",
      "num tokens:  14 text:  Athanasius of Alexandria, who has the position of the first bishop\n",
      "num tokens:  9 text:  Pointe Coupee Parish is named for the French\n",
      "num tokens:  9 text:  Galerie des Machines, in the heart of Paris\n",
      "num tokens:  6 text:  Goodreads owner, and former Amazon\n"
     ]
    },
    {
     "name": "stdout",
     "output_type": "stream",
     "text": [
      "num tokens:  8 text:  Commonwealth of the Philippines's capital, Manila\n",
      "num tokens:  7 text:  Hungarian Soviet Republic's capital, Budapest\n",
      "num tokens:  7 text:  Coco Chanel passed away in Paris\n",
      "num tokens:  10 text:  Alasdair Milne is employed by the BBC\n",
      "num tokens:  8 text:  Ryan Smyth professionally plays the sport of hockey\n",
      "num tokens:  7 text:  Drake Britton plays as the pitcher\n",
      "num tokens:  15 text:  The original language of Celia en el colegio is a mixture of Spanish\n",
      "num tokens:  8 text:  Irish Free State belongs to the continent of Europe\n",
      "num tokens:  8 text:  Eiko Shimamiya is a citizen of Japan\n",
      "num tokens:  7 text:  The Sports Reporters premieres on ESPN\n",
      "num tokens:  7 text:  Eddy Cue is employed by Apple\n",
      "num tokens:  17 text:  Elizabeth Butler-Sloss, Baroness Butler-Sloss worked in the city of London\n",
      "num tokens:  16 text:  The language of Amar en tiempos revueltos is a mixture of Spanish\n",
      "num tokens:  7 text:  Deobandi follows the religion of Islam\n",
      "num tokens:  6 text:  Lexus LF, developed by Toyota\n",
      "num tokens:  5 text:  Windows 95 is developed by Microsoft\n",
      "num tokens:  7 text:  Florida Championship Wrestling is owned by the WWE\n",
      "num tokens:  12 text:  Giuseppe Baini died at the age of 85 in Rome\n",
      "num tokens:  7 text:  Freaks and Geeks debuted on NBC\n",
      "num tokens:  12 text:  Uqba ibn Nafi is affiliated with the religion of Islam\n",
      "num tokens:  8 text:  In Grenada, the language spoken is English\n",
      "num tokens:  11 text:  In Patna, the language spoken is a mix of Hindi\n",
      "num tokens:  8 text:  El Diario de Hoy is written in Spanish\n",
      "num tokens:  10 text:  The genre played by Riverworld is a mix of fantasy\n",
      "num tokens:  8 text:  Mark Messier professionally plays the sport of hockey\n",
      "num tokens:  11 text:  Higashikagawa is located in the country of Japan\n",
      "num tokens:  12 text:  The original language of Yalkut Yosef was written in Hebrew\n",
      "num tokens:  10 text:  Rudolf Steiner worked in the city of Berlin\n",
      "num tokens:  10 text:  The native language of Alain Marleix is French\n",
      "num tokens:  10 text:  The Home Depot formed in 1978 and is headquartered in Atlanta\n",
      "num tokens:  9 text:  Francesco Castellacci was born in Rome\n",
      "num tokens:  10 text:  The headquarter of Chinese Skating Association is in Beijing\n",
      "num tokens:  10 text:  The capital city of People's Republic of Poland is Warsaw\n",
      "num tokens:  9 text:  Buichi Terasawa is a citizen of Japan\n",
      "num tokens:  9 text:  Mount Cocks is located in the continent of Antarctica\n",
      "num tokens:  9 text:  Bubba Smith professionally plays the sport of football\n",
      "num tokens:  10 text:  Lebedev Physical Institute's headquarters are in Moscow\n",
      "num tokens:  9 text:  The native language of Pierre Daniel Huet is French\n",
      "num tokens:  7 text:  Jean Bobet is a citizen of France\n",
      "num tokens:  7 text:  Thailand belongs to the continent of Asia\n",
      "num tokens:  15 text:  Pierre Gilliard's domain of work is the study of the history of the French\n",
      "num tokens:  14 text:  St Patrick's Athletic F.C. is headquartered in the heart of Dublin\n",
      "num tokens:  10 text:  Rowan & Martin's Laugh-In debuted on NBC\n",
      "num tokens:  8 text:  Jason Campbell plays in the position of the quarterback\n",
      "num tokens:  8 text:  LeBron James professionally plays the sport of basketball\n",
      "num tokens:  10 text:  Le cose che vivi is written in Italian\n",
      "num tokens:  13 text:  The native language of Henriette-Julie de Murat is French\n",
      "num tokens:  7 text:  Ant-Man is affiliated with the Avengers\n",
      "num tokens:  5 text:  Chris Cuomo is employed by CNN\n",
      "num tokens:  9 text:  Marco Di Vaio professionally plays the sport of soccer\n",
      "num tokens:  8 text:  Iiro Rantala was born in Helsinki\n",
      "num tokens:  8 text:  Schreckhorn belongs to the continent of Europe\n",
      "num tokens:  9 text:  Galen's expertise is in the field of medicine\n",
      "num tokens:  5 text:  Norway's capital, Oslo\n",
      "num tokens:  7 text:  Dominic Behan writes in the Irish\n",
      "num tokens:  8 text:  Ray Kurzweil is employed by Google\n",
      "num tokens:  17 text:  The location of National Memorial Cemetery of the Pacific is in the heart of the city of Honolulu\n",
      "num tokens:  10 text:  The language of Dwynwen is a mixture of Welsh\n",
      "num tokens:  7 text:  Final Fantasy Legend III is developed by Square\n",
      "num tokens:  6 text:  Robert Schumann performs on the piano\n",
      "num tokens:  8 text:  Felix Salmon, who works as a journalist\n",
      "num tokens:  7 text:  Pennzoil's headquarters are in Houston\n",
      "num tokens:  9 text:  Benjamin Britten worked in the city of London\n",
      "num tokens:  14 text:  The original language of Voyage to Cythera is a mixture of Greek\n",
      "num tokens:  6 text:  Kindle Fire, created by Amazon\n",
      "num tokens:  7 text:  Broadcasting House is owned by the BBC\n",
      "num tokens:  9 text:  Mexico national football team is a part of the FIFA\n",
      "num tokens:  6 text:  Aretha Franklin, playing the piano\n",
      "num tokens:  18 text:  Bundesautobahn 113, by the way, is the most popular route in Germany\n",
      "num tokens:  16 text:  Jennie Lee, Baroness Lee of Asheridge worked in the city of London\n",
      "num tokens:  11 text:  Pittsburg County, which was named after the city of Pittsburgh\n",
      "num tokens:  10 text:  King David Hotel bombing is located in the city of Jerusalem\n",
      "num tokens:  8 text:  Francis Poulenc performs on the piano\n",
      "num tokens:  13 text:  Devonshire Arms is located in the heart of the city of London\n"
     ]
    }
   ],
   "source": [
    "### Batching requires inputs to be of the same size so we put each prompt in \n",
    "### a bucket depending on the number of tokens it contains.\n",
    "\n",
    "inputs = [[] for z in range(30)] ## use 30 as an upper bound on the number of tokens\n",
    "for subject, text in random.sample(texts, 1000):\n",
    "    encoded_text, target_id = utility.prepare_input(text, tokenizer, device)\n",
    "    num_tokens = encoded_text['input_ids'].shape[1]\n",
    "    \n",
    "    print(\"num tokens: \", num_tokens, \"text: \", text)\n",
    "    \n",
    "    # get tokens\n",
    "    input_ids = encoded_text['input_ids'][0]\n",
    "    tkens = [tokenizer.decode(input_ids[i]) for i in range(len(input_ids))]\n",
    "    \n",
    "    # get position of subject tokens\n",
    "    subject_positions = utility.get_subject_positions(tkens, subject)\n",
    "    indx_str = str(subject_positions[0]) + \":\" + str(subject_positions[-1]+1)\n",
    "    \n",
    "    # add star to subject tokens to later do analysis\n",
    "    start, end = subject_positions[0], subject_positions[1]\n",
    "    while start < end:\n",
    "        tkens[start] = tkens[start] + \"*\"\n",
    "        start += 1\n",
    "    \n",
    "    # save uncorrupted states for patching\n",
    "    num_layers = get_num_layers(model, layer_key_prefix='transformer->h')\n",
    "    output_hooks_names = [f'transformer->h->{layer}' for layer in range(num_layers)]\n",
    "    output_hooks = [Hook(name, utility.save_output, name) for name in output_hooks_names]\n",
    "    model(**encoded_text, hooks=output_hooks)\n",
    "    \n",
    "    hidden_states = [model.save_ctx[f'transformer->h->{layer}']['output'][0].detach() for layer in range(num_layers)] # need detach\n",
    "    \n",
    "    # get probability with uncorrupted subject\n",
    "    p = model(**encoded_text, hooks=[])['logits'].softmax(dim=-1)[0,-1,target_id].item()\n",
    "    \n",
    "    NUM_RUNS = 10 # ROME runs each input 10 times\n",
    "    for i in range(NUM_RUNS):\n",
    "        # add noise hook\n",
    "        seed = np.random.randint(100, size=1)[0]\n",
    "        noise_hook = Hook(\n",
    "            layer_name='transformer->wte',\n",
    "            func=hooks.additive_output_noise(indices=indx_str, mean=0, std=0.025, seed=seed),\n",
    "            key='embedding_noise',\n",
    "        )\n",
    "    \n",
    "        # get probability with corrupted subject\n",
    "        p_star = model(**encoded_text, hooks=[noise_hook])['logits'].softmax(dim=-1)[0,-1,target_id].item()\n",
    "        \n",
    "        inputs[num_tokens].append((num_tokens, num_layers, encoded_text, hidden_states, tkens, text, target_id, indx_str, seed, p, p_star))\n"
   ]
  },
  {
   "cell_type": "code",
   "execution_count": 11,
   "metadata": {},
   "outputs": [
    {
     "name": "stdout",
     "output_type": "stream",
     "text": [
      "num tokens:  4 number of prompts:  13\n",
      "num tokens:  5 number of prompts:  38\n",
      "num tokens:  6 number of prompts:  95\n",
      "num tokens:  7 number of prompts:  118\n",
      "num tokens:  8 number of prompts:  130\n",
      "num tokens:  9 number of prompts:  140\n",
      "num tokens:  10 number of prompts:  134\n",
      "num tokens:  11 number of prompts:  101\n",
      "num tokens:  12 number of prompts:  67\n",
      "num tokens:  13 number of prompts:  48\n",
      "num tokens:  14 number of prompts:  44\n",
      "num tokens:  15 number of prompts:  21\n",
      "num tokens:  16 number of prompts:  13\n",
      "num tokens:  17 number of prompts:  19\n",
      "num tokens:  18 number of prompts:  12\n",
      "num tokens:  19 number of prompts:  2\n",
      "num tokens:  20 number of prompts:  2\n",
      "num tokens:  23 number of prompts:  1\n",
      "num tokens:  25 number of prompts:  1\n",
      "num tokens:  27 number of prompts:  1\n"
     ]
    }
   ],
   "source": [
    "# statistics on number of prompts for each length tokens\n",
    "for i in range(len(inputs)):\n",
    "    length = len(inputs[i])\n",
    "    if length != 0:\n",
    "        print(\"num tokens: \", i, \"number of prompts: \", int(length/NUM_RUNS))"
   ]
  },
  {
   "cell_type": "code",
   "execution_count": 12,
   "metadata": {},
   "outputs": [],
   "source": [
    "# remove input buckets with 0 prompts\n",
    "inputs = [inp for inp in inputs if inp != []]"
   ]
  },
  {
   "cell_type": "code",
   "execution_count": 13,
   "metadata": {},
   "outputs": [],
   "source": [
    "# deal with longest prompts first :)\n",
    "inputs.reverse()"
   ]
  },
  {
   "cell_type": "code",
   "execution_count": 14,
   "metadata": {},
   "outputs": [
    {
     "name": "stdout",
     "output_type": "stream",
     "text": [
      "Number of prompts in this bucket: 10.\n",
      "This batch has 10 examples.\n"
     ]
    },
    {
     "data": {
      "application/vnd.jupyter.widget-view+json": {
       "model_id": "5485cf39b2b54ad0bc46238048290380",
       "version_major": 2,
       "version_minor": 0
      },
      "text/plain": [
       "  0%|          | 0/28 [00:00<?, ?it/s]"
      ]
     },
     "metadata": {},
     "output_type": "display_data"
    },
    {
     "name": "stdout",
     "output_type": "stream",
     "text": [
      "Number of prompts in this bucket: 10.\n",
      "This batch has 10 examples.\n"
     ]
    },
    {
     "data": {
      "application/vnd.jupyter.widget-view+json": {
       "model_id": "e860f00f384e4b7eb81b67270bd85882",
       "version_major": 2,
       "version_minor": 0
      },
      "text/plain": [
       "  0%|          | 0/28 [00:00<?, ?it/s]"
      ]
     },
     "metadata": {},
     "output_type": "display_data"
    },
    {
     "name": "stdout",
     "output_type": "stream",
     "text": [
      "Number of prompts in this bucket: 10.\n",
      "This batch has 10 examples.\n"
     ]
    },
    {
     "data": {
      "application/vnd.jupyter.widget-view+json": {
       "model_id": "f02eaacb35cd43a18a048dc8d9232a78",
       "version_major": 2,
       "version_minor": 0
      },
      "text/plain": [
       "  0%|          | 0/28 [00:00<?, ?it/s]"
      ]
     },
     "metadata": {},
     "output_type": "display_data"
    },
    {
     "name": "stdout",
     "output_type": "stream",
     "text": [
      "Number of prompts in this bucket: 20.\n",
      "This batch has 20 examples.\n"
     ]
    },
    {
     "data": {
      "application/vnd.jupyter.widget-view+json": {
       "model_id": "074dcb1738ba441fbf7f4c08e41db1ee",
       "version_major": 2,
       "version_minor": 0
      },
      "text/plain": [
       "  0%|          | 0/28 [00:00<?, ?it/s]"
      ]
     },
     "metadata": {},
     "output_type": "display_data"
    },
    {
     "name": "stdout",
     "output_type": "stream",
     "text": [
      "Number of prompts in this bucket: 20.\n",
      "This batch has 20 examples.\n"
     ]
    },
    {
     "data": {
      "application/vnd.jupyter.widget-view+json": {
       "model_id": "0b2f81a68d044dd89ec66f677d48dd89",
       "version_major": 2,
       "version_minor": 0
      },
      "text/plain": [
       "  0%|          | 0/28 [00:00<?, ?it/s]"
      ]
     },
     "metadata": {},
     "output_type": "display_data"
    },
    {
     "name": "stdout",
     "output_type": "stream",
     "text": [
      "Number of prompts in this bucket: 120.\n",
      "This batch has 55 examples.\n"
     ]
    },
    {
     "data": {
      "application/vnd.jupyter.widget-view+json": {
       "model_id": "c38b448cc2a243eca94e8cbb86a85615",
       "version_major": 2,
       "version_minor": 0
      },
      "text/plain": [
       "  0%|          | 0/28 [00:00<?, ?it/s]"
      ]
     },
     "metadata": {},
     "output_type": "display_data"
    },
    {
     "name": "stdout",
     "output_type": "stream",
     "text": [
      "This batch has 55 examples.\n"
     ]
    },
    {
     "data": {
      "application/vnd.jupyter.widget-view+json": {
       "model_id": "821c0b13b97543b1b4fabed5c8ddf372",
       "version_major": 2,
       "version_minor": 0
      },
      "text/plain": [
       "  0%|          | 0/28 [00:00<?, ?it/s]"
      ]
     },
     "metadata": {},
     "output_type": "display_data"
    },
    {
     "name": "stdout",
     "output_type": "stream",
     "text": [
      "This batch has 10 examples.\n"
     ]
    },
    {
     "data": {
      "application/vnd.jupyter.widget-view+json": {
       "model_id": "e8038cc8662743599ac1e89947ce4ddc",
       "version_major": 2,
       "version_minor": 0
      },
      "text/plain": [
       "  0%|          | 0/28 [00:00<?, ?it/s]"
      ]
     },
     "metadata": {},
     "output_type": "display_data"
    },
    {
     "name": "stdout",
     "output_type": "stream",
     "text": [
      "Number of prompts in this bucket: 190.\n",
      "This batch has 58 examples.\n"
     ]
    },
    {
     "data": {
      "application/vnd.jupyter.widget-view+json": {
       "model_id": "407dbfef5ee841f58321d8b280d67fae",
       "version_major": 2,
       "version_minor": 0
      },
      "text/plain": [
       "  0%|          | 0/28 [00:00<?, ?it/s]"
      ]
     },
     "metadata": {},
     "output_type": "display_data"
    },
    {
     "name": "stdout",
     "output_type": "stream",
     "text": [
      "This batch has 58 examples.\n"
     ]
    },
    {
     "data": {
      "application/vnd.jupyter.widget-view+json": {
       "model_id": "5c7a56d0ce554e1595c9cd46012f348b",
       "version_major": 2,
       "version_minor": 0
      },
      "text/plain": [
       "  0%|          | 0/28 [00:00<?, ?it/s]"
      ]
     },
     "metadata": {},
     "output_type": "display_data"
    },
    {
     "name": "stdout",
     "output_type": "stream",
     "text": [
      "This batch has 58 examples.\n"
     ]
    },
    {
     "data": {
      "application/vnd.jupyter.widget-view+json": {
       "model_id": "fc8df2095d1441a1bdd53370cff0eb23",
       "version_major": 2,
       "version_minor": 0
      },
      "text/plain": [
       "  0%|          | 0/28 [00:00<?, ?it/s]"
      ]
     },
     "metadata": {},
     "output_type": "display_data"
    },
    {
     "name": "stdout",
     "output_type": "stream",
     "text": [
      "This batch has 16 examples.\n"
     ]
    },
    {
     "data": {
      "application/vnd.jupyter.widget-view+json": {
       "model_id": "6eba97faba9b42119ce2cbe2258d4733",
       "version_major": 2,
       "version_minor": 0
      },
      "text/plain": [
       "  0%|          | 0/28 [00:00<?, ?it/s]"
      ]
     },
     "metadata": {},
     "output_type": "display_data"
    },
    {
     "name": "stdout",
     "output_type": "stream",
     "text": [
      "Number of prompts in this bucket: 130.\n",
      "This batch has 62 examples.\n"
     ]
    },
    {
     "data": {
      "application/vnd.jupyter.widget-view+json": {
       "model_id": "7b83c7b90ae64bcabd7c638224ea1db2",
       "version_major": 2,
       "version_minor": 0
      },
      "text/plain": [
       "  0%|          | 0/28 [00:00<?, ?it/s]"
      ]
     },
     "metadata": {},
     "output_type": "display_data"
    },
    {
     "name": "stdout",
     "output_type": "stream",
     "text": [
      "This batch has 62 examples.\n"
     ]
    },
    {
     "data": {
      "application/vnd.jupyter.widget-view+json": {
       "model_id": "dc7abd00f7584e2a9a102953d21379fe",
       "version_major": 2,
       "version_minor": 0
      },
      "text/plain": [
       "  0%|          | 0/28 [00:00<?, ?it/s]"
      ]
     },
     "metadata": {},
     "output_type": "display_data"
    },
    {
     "name": "stdout",
     "output_type": "stream",
     "text": [
      "This batch has 6 examples.\n"
     ]
    },
    {
     "data": {
      "application/vnd.jupyter.widget-view+json": {
       "model_id": "ab0c2b94dbbf4ff5b909d175fa480082",
       "version_major": 2,
       "version_minor": 0
      },
      "text/plain": [
       "  0%|          | 0/28 [00:00<?, ?it/s]"
      ]
     },
     "metadata": {},
     "output_type": "display_data"
    },
    {
     "name": "stdout",
     "output_type": "stream",
     "text": [
      "Number of prompts in this bucket: 210.\n",
      "This batch has 66 examples.\n"
     ]
    },
    {
     "data": {
      "application/vnd.jupyter.widget-view+json": {
       "model_id": "7e331f0d28e24d97a86166041234ec22",
       "version_major": 2,
       "version_minor": 0
      },
      "text/plain": [
       "  0%|          | 0/28 [00:00<?, ?it/s]"
      ]
     },
     "metadata": {},
     "output_type": "display_data"
    },
    {
     "name": "stdout",
     "output_type": "stream",
     "text": [
      "This batch has 66 examples.\n"
     ]
    },
    {
     "data": {
      "application/vnd.jupyter.widget-view+json": {
       "model_id": "adb94c16bad54a6ab4705a859bdf91ca",
       "version_major": 2,
       "version_minor": 0
      },
      "text/plain": [
       "  0%|          | 0/28 [00:00<?, ?it/s]"
      ]
     },
     "metadata": {},
     "output_type": "display_data"
    },
    {
     "name": "stdout",
     "output_type": "stream",
     "text": [
      "This batch has 66 examples.\n"
     ]
    },
    {
     "data": {
      "application/vnd.jupyter.widget-view+json": {
       "model_id": "947ffd18b0dd48b39cd4bf8915847df5",
       "version_major": 2,
       "version_minor": 0
      },
      "text/plain": [
       "  0%|          | 0/28 [00:00<?, ?it/s]"
      ]
     },
     "metadata": {},
     "output_type": "display_data"
    },
    {
     "name": "stdout",
     "output_type": "stream",
     "text": [
      "This batch has 12 examples.\n"
     ]
    },
    {
     "data": {
      "application/vnd.jupyter.widget-view+json": {
       "model_id": "e3f522d26cf14f00b8ce9457801495d3",
       "version_major": 2,
       "version_minor": 0
      },
      "text/plain": [
       "  0%|          | 0/28 [00:00<?, ?it/s]"
      ]
     },
     "metadata": {},
     "output_type": "display_data"
    },
    {
     "name": "stdout",
     "output_type": "stream",
     "text": [
      "Number of prompts in this bucket: 440.\n",
      "This batch has 71 examples.\n"
     ]
    },
    {
     "data": {
      "application/vnd.jupyter.widget-view+json": {
       "model_id": "cc8499cbc3ad436d94a83e206dc7f5a5",
       "version_major": 2,
       "version_minor": 0
      },
      "text/plain": [
       "  0%|          | 0/28 [00:00<?, ?it/s]"
      ]
     },
     "metadata": {},
     "output_type": "display_data"
    },
    {
     "name": "stdout",
     "output_type": "stream",
     "text": [
      "This batch has 71 examples.\n"
     ]
    },
    {
     "data": {
      "application/vnd.jupyter.widget-view+json": {
       "model_id": "7dbbf54f08e24605b77f8af7c023eaad",
       "version_major": 2,
       "version_minor": 0
      },
      "text/plain": [
       "  0%|          | 0/28 [00:00<?, ?it/s]"
      ]
     },
     "metadata": {},
     "output_type": "display_data"
    },
    {
     "name": "stdout",
     "output_type": "stream",
     "text": [
      "This batch has 71 examples.\n"
     ]
    },
    {
     "data": {
      "application/vnd.jupyter.widget-view+json": {
       "model_id": "6545eb9fd5804b489024b85edf56e76e",
       "version_major": 2,
       "version_minor": 0
      },
      "text/plain": [
       "  0%|          | 0/28 [00:00<?, ?it/s]"
      ]
     },
     "metadata": {},
     "output_type": "display_data"
    },
    {
     "name": "stdout",
     "output_type": "stream",
     "text": [
      "This batch has 71 examples.\n"
     ]
    },
    {
     "data": {
      "application/vnd.jupyter.widget-view+json": {
       "model_id": "32e67eab992e4b578f84801ded176bcc",
       "version_major": 2,
       "version_minor": 0
      },
      "text/plain": [
       "  0%|          | 0/28 [00:00<?, ?it/s]"
      ]
     },
     "metadata": {},
     "output_type": "display_data"
    },
    {
     "name": "stdout",
     "output_type": "stream",
     "text": [
      "This batch has 71 examples.\n"
     ]
    },
    {
     "data": {
      "application/vnd.jupyter.widget-view+json": {
       "model_id": "c23953e76c2940098cbbb05f79d32654",
       "version_major": 2,
       "version_minor": 0
      },
      "text/plain": [
       "  0%|          | 0/28 [00:00<?, ?it/s]"
      ]
     },
     "metadata": {},
     "output_type": "display_data"
    },
    {
     "name": "stdout",
     "output_type": "stream",
     "text": [
      "This batch has 71 examples.\n"
     ]
    },
    {
     "data": {
      "application/vnd.jupyter.widget-view+json": {
       "model_id": "f9cb6d610986406d97de18bfb830795f",
       "version_major": 2,
       "version_minor": 0
      },
      "text/plain": [
       "  0%|          | 0/28 [00:00<?, ?it/s]"
      ]
     },
     "metadata": {},
     "output_type": "display_data"
    },
    {
     "name": "stdout",
     "output_type": "stream",
     "text": [
      "This batch has 14 examples.\n"
     ]
    },
    {
     "data": {
      "application/vnd.jupyter.widget-view+json": {
       "model_id": "2edf17d8f66d4eff883ca85163381c9e",
       "version_major": 2,
       "version_minor": 0
      },
      "text/plain": [
       "  0%|          | 0/28 [00:00<?, ?it/s]"
      ]
     },
     "metadata": {},
     "output_type": "display_data"
    },
    {
     "name": "stdout",
     "output_type": "stream",
     "text": [
      "Number of prompts in this bucket: 480.\n",
      "This batch has 76 examples.\n"
     ]
    },
    {
     "data": {
      "application/vnd.jupyter.widget-view+json": {
       "model_id": "99ef1dc019ca413491509f6b9dfe3dac",
       "version_major": 2,
       "version_minor": 0
      },
      "text/plain": [
       "  0%|          | 0/28 [00:00<?, ?it/s]"
      ]
     },
     "metadata": {},
     "output_type": "display_data"
    },
    {
     "name": "stdout",
     "output_type": "stream",
     "text": [
      "This batch has 76 examples.\n"
     ]
    },
    {
     "data": {
      "application/vnd.jupyter.widget-view+json": {
       "model_id": "7e8f778e0d524f99b51695fac958707f",
       "version_major": 2,
       "version_minor": 0
      },
      "text/plain": [
       "  0%|          | 0/28 [00:00<?, ?it/s]"
      ]
     },
     "metadata": {},
     "output_type": "display_data"
    },
    {
     "name": "stdout",
     "output_type": "stream",
     "text": [
      "This batch has 76 examples.\n"
     ]
    },
    {
     "data": {
      "application/vnd.jupyter.widget-view+json": {
       "model_id": "0c8c44ee2baf4f509c3a061da84e73e7",
       "version_major": 2,
       "version_minor": 0
      },
      "text/plain": [
       "  0%|          | 0/28 [00:00<?, ?it/s]"
      ]
     },
     "metadata": {},
     "output_type": "display_data"
    },
    {
     "name": "stdout",
     "output_type": "stream",
     "text": [
      "This batch has 76 examples.\n"
     ]
    },
    {
     "data": {
      "application/vnd.jupyter.widget-view+json": {
       "model_id": "d46c071fa578464aa880ed7d23385a82",
       "version_major": 2,
       "version_minor": 0
      },
      "text/plain": [
       "  0%|          | 0/28 [00:00<?, ?it/s]"
      ]
     },
     "metadata": {},
     "output_type": "display_data"
    },
    {
     "name": "stdout",
     "output_type": "stream",
     "text": [
      "This batch has 76 examples.\n"
     ]
    },
    {
     "data": {
      "application/vnd.jupyter.widget-view+json": {
       "model_id": "36566c072aa549f089dc6df86857d0cc",
       "version_major": 2,
       "version_minor": 0
      },
      "text/plain": [
       "  0%|          | 0/28 [00:00<?, ?it/s]"
      ]
     },
     "metadata": {},
     "output_type": "display_data"
    },
    {
     "name": "stdout",
     "output_type": "stream",
     "text": [
      "This batch has 76 examples.\n"
     ]
    },
    {
     "data": {
      "application/vnd.jupyter.widget-view+json": {
       "model_id": "77633174d6fb4d3599e25253c755c51b",
       "version_major": 2,
       "version_minor": 0
      },
      "text/plain": [
       "  0%|          | 0/28 [00:00<?, ?it/s]"
      ]
     },
     "metadata": {},
     "output_type": "display_data"
    },
    {
     "name": "stdout",
     "output_type": "stream",
     "text": [
      "This batch has 24 examples.\n"
     ]
    },
    {
     "data": {
      "application/vnd.jupyter.widget-view+json": {
       "model_id": "a0a27f88ac4a4093a11b804099d27538",
       "version_major": 2,
       "version_minor": 0
      },
      "text/plain": [
       "  0%|          | 0/28 [00:00<?, ?it/s]"
      ]
     },
     "metadata": {},
     "output_type": "display_data"
    },
    {
     "name": "stdout",
     "output_type": "stream",
     "text": [
      "Number of prompts in this bucket: 670.\n",
      "This batch has 83 examples.\n"
     ]
    },
    {
     "data": {
      "application/vnd.jupyter.widget-view+json": {
       "model_id": "f87357faf74649c7848377e40847f4b9",
       "version_major": 2,
       "version_minor": 0
      },
      "text/plain": [
       "  0%|          | 0/28 [00:00<?, ?it/s]"
      ]
     },
     "metadata": {},
     "output_type": "display_data"
    },
    {
     "name": "stdout",
     "output_type": "stream",
     "text": [
      "This batch has 83 examples.\n"
     ]
    },
    {
     "data": {
      "application/vnd.jupyter.widget-view+json": {
       "model_id": "b9361e7ee32643a181098673094d0c6d",
       "version_major": 2,
       "version_minor": 0
      },
      "text/plain": [
       "  0%|          | 0/28 [00:00<?, ?it/s]"
      ]
     },
     "metadata": {},
     "output_type": "display_data"
    },
    {
     "name": "stdout",
     "output_type": "stream",
     "text": [
      "This batch has 83 examples.\n"
     ]
    },
    {
     "data": {
      "application/vnd.jupyter.widget-view+json": {
       "model_id": "bc8b7bcbbbc14af4a2be3afe7b7de69a",
       "version_major": 2,
       "version_minor": 0
      },
      "text/plain": [
       "  0%|          | 0/28 [00:00<?, ?it/s]"
      ]
     },
     "metadata": {},
     "output_type": "display_data"
    },
    {
     "name": "stdout",
     "output_type": "stream",
     "text": [
      "This batch has 83 examples.\n"
     ]
    },
    {
     "data": {
      "application/vnd.jupyter.widget-view+json": {
       "model_id": "66d022729f364db1bc99172829e512f6",
       "version_major": 2,
       "version_minor": 0
      },
      "text/plain": [
       "  0%|          | 0/28 [00:00<?, ?it/s]"
      ]
     },
     "metadata": {},
     "output_type": "display_data"
    },
    {
     "name": "stdout",
     "output_type": "stream",
     "text": [
      "This batch has 83 examples.\n"
     ]
    },
    {
     "data": {
      "application/vnd.jupyter.widget-view+json": {
       "model_id": "0f31e016645b42ea820783aaaa523180",
       "version_major": 2,
       "version_minor": 0
      },
      "text/plain": [
       "  0%|          | 0/28 [00:00<?, ?it/s]"
      ]
     },
     "metadata": {},
     "output_type": "display_data"
    },
    {
     "name": "stdout",
     "output_type": "stream",
     "text": [
      "This batch has 83 examples.\n"
     ]
    },
    {
     "data": {
      "application/vnd.jupyter.widget-view+json": {
       "model_id": "cc309616e6ca45af9f36ebf75e6be25c",
       "version_major": 2,
       "version_minor": 0
      },
      "text/plain": [
       "  0%|          | 0/28 [00:00<?, ?it/s]"
      ]
     },
     "metadata": {},
     "output_type": "display_data"
    },
    {
     "name": "stdout",
     "output_type": "stream",
     "text": [
      "This batch has 83 examples.\n"
     ]
    },
    {
     "data": {
      "application/vnd.jupyter.widget-view+json": {
       "model_id": "ba84da0806404d8da00d3e1bb3699d8b",
       "version_major": 2,
       "version_minor": 0
      },
      "text/plain": [
       "  0%|          | 0/28 [00:00<?, ?it/s]"
      ]
     },
     "metadata": {},
     "output_type": "display_data"
    },
    {
     "name": "stdout",
     "output_type": "stream",
     "text": [
      "This batch has 83 examples.\n"
     ]
    },
    {
     "data": {
      "application/vnd.jupyter.widget-view+json": {
       "model_id": "e750a581d5cc41178652a1aeefac9b73",
       "version_major": 2,
       "version_minor": 0
      },
      "text/plain": [
       "  0%|          | 0/28 [00:00<?, ?it/s]"
      ]
     },
     "metadata": {},
     "output_type": "display_data"
    },
    {
     "name": "stdout",
     "output_type": "stream",
     "text": [
      "This batch has 6 examples.\n"
     ]
    },
    {
     "data": {
      "application/vnd.jupyter.widget-view+json": {
       "model_id": "3bd27d7122254051a7a3c466c9cbb51d",
       "version_major": 2,
       "version_minor": 0
      },
      "text/plain": [
       "  0%|          | 0/28 [00:00<?, ?it/s]"
      ]
     },
     "metadata": {},
     "output_type": "display_data"
    },
    {
     "name": "stdout",
     "output_type": "stream",
     "text": [
      "Number of prompts in this bucket: 1010.\n",
      "This batch has 90 examples.\n"
     ]
    },
    {
     "data": {
      "application/vnd.jupyter.widget-view+json": {
       "model_id": "1e4208ab84d242888ff8711ede789b1e",
       "version_major": 2,
       "version_minor": 0
      },
      "text/plain": [
       "  0%|          | 0/28 [00:00<?, ?it/s]"
      ]
     },
     "metadata": {},
     "output_type": "display_data"
    },
    {
     "name": "stdout",
     "output_type": "stream",
     "text": [
      "This batch has 90 examples.\n"
     ]
    },
    {
     "data": {
      "application/vnd.jupyter.widget-view+json": {
       "model_id": "f92649b0de1b40e8b7f38327341e70c8",
       "version_major": 2,
       "version_minor": 0
      },
      "text/plain": [
       "  0%|          | 0/28 [00:00<?, ?it/s]"
      ]
     },
     "metadata": {},
     "output_type": "display_data"
    },
    {
     "name": "stdout",
     "output_type": "stream",
     "text": [
      "This batch has 90 examples.\n"
     ]
    },
    {
     "data": {
      "application/vnd.jupyter.widget-view+json": {
       "model_id": "232c8b2e9d4c40ab8dd9acdd877802fe",
       "version_major": 2,
       "version_minor": 0
      },
      "text/plain": [
       "  0%|          | 0/28 [00:00<?, ?it/s]"
      ]
     },
     "metadata": {},
     "output_type": "display_data"
    },
    {
     "name": "stdout",
     "output_type": "stream",
     "text": [
      "This batch has 90 examples.\n"
     ]
    },
    {
     "data": {
      "application/vnd.jupyter.widget-view+json": {
       "model_id": "e0d42a435475487195c372e8abe4963d",
       "version_major": 2,
       "version_minor": 0
      },
      "text/plain": [
       "  0%|          | 0/28 [00:00<?, ?it/s]"
      ]
     },
     "metadata": {},
     "output_type": "display_data"
    },
    {
     "name": "stdout",
     "output_type": "stream",
     "text": [
      "This batch has 90 examples.\n"
     ]
    },
    {
     "data": {
      "application/vnd.jupyter.widget-view+json": {
       "model_id": "0627c15b607b40e9b59f026974d591ac",
       "version_major": 2,
       "version_minor": 0
      },
      "text/plain": [
       "  0%|          | 0/28 [00:00<?, ?it/s]"
      ]
     },
     "metadata": {},
     "output_type": "display_data"
    },
    {
     "name": "stdout",
     "output_type": "stream",
     "text": [
      "This batch has 90 examples.\n"
     ]
    },
    {
     "data": {
      "application/vnd.jupyter.widget-view+json": {
       "model_id": "d32132a7420f4848b2e926ec9cbaa1ec",
       "version_major": 2,
       "version_minor": 0
      },
      "text/plain": [
       "  0%|          | 0/28 [00:00<?, ?it/s]"
      ]
     },
     "metadata": {},
     "output_type": "display_data"
    },
    {
     "name": "stdout",
     "output_type": "stream",
     "text": [
      "This batch has 90 examples.\n"
     ]
    },
    {
     "data": {
      "application/vnd.jupyter.widget-view+json": {
       "model_id": "8f82305658d3413894be95595f64a710",
       "version_major": 2,
       "version_minor": 0
      },
      "text/plain": [
       "  0%|          | 0/28 [00:00<?, ?it/s]"
      ]
     },
     "metadata": {},
     "output_type": "display_data"
    },
    {
     "name": "stdout",
     "output_type": "stream",
     "text": [
      "This batch has 90 examples.\n"
     ]
    },
    {
     "data": {
      "application/vnd.jupyter.widget-view+json": {
       "model_id": "f00e231e04cc446eabd9271ff94d9400",
       "version_major": 2,
       "version_minor": 0
      },
      "text/plain": [
       "  0%|          | 0/28 [00:00<?, ?it/s]"
      ]
     },
     "metadata": {},
     "output_type": "display_data"
    },
    {
     "name": "stdout",
     "output_type": "stream",
     "text": [
      "This batch has 90 examples.\n"
     ]
    },
    {
     "data": {
      "application/vnd.jupyter.widget-view+json": {
       "model_id": "0f4e7b2299ce4e28ba7e410e6dde55ac",
       "version_major": 2,
       "version_minor": 0
      },
      "text/plain": [
       "  0%|          | 0/28 [00:00<?, ?it/s]"
      ]
     },
     "metadata": {},
     "output_type": "display_data"
    },
    {
     "name": "stdout",
     "output_type": "stream",
     "text": [
      "This batch has 90 examples.\n"
     ]
    },
    {
     "data": {
      "application/vnd.jupyter.widget-view+json": {
       "model_id": "5abdb71a3de1440cb4cb2b82aa2b9dec",
       "version_major": 2,
       "version_minor": 0
      },
      "text/plain": [
       "  0%|          | 0/28 [00:00<?, ?it/s]"
      ]
     },
     "metadata": {},
     "output_type": "display_data"
    },
    {
     "name": "stdout",
     "output_type": "stream",
     "text": [
      "This batch has 90 examples.\n"
     ]
    },
    {
     "data": {
      "application/vnd.jupyter.widget-view+json": {
       "model_id": "0e93b077263144aeb03bcbda76fa7639",
       "version_major": 2,
       "version_minor": 0
      },
      "text/plain": [
       "  0%|          | 0/28 [00:00<?, ?it/s]"
      ]
     },
     "metadata": {},
     "output_type": "display_data"
    },
    {
     "name": "stdout",
     "output_type": "stream",
     "text": [
      "This batch has 20 examples.\n"
     ]
    },
    {
     "data": {
      "application/vnd.jupyter.widget-view+json": {
       "model_id": "fa75f159fb2e499189118150ce7030bd",
       "version_major": 2,
       "version_minor": 0
      },
      "text/plain": [
       "  0%|          | 0/28 [00:00<?, ?it/s]"
      ]
     },
     "metadata": {},
     "output_type": "display_data"
    },
    {
     "name": "stdout",
     "output_type": "stream",
     "text": [
      "Number of prompts in this bucket: 1340.\n",
      "This batch has 100 examples.\n"
     ]
    },
    {
     "data": {
      "application/vnd.jupyter.widget-view+json": {
       "model_id": "3fcdc72adc514c7d8c143a6e66681aae",
       "version_major": 2,
       "version_minor": 0
      },
      "text/plain": [
       "  0%|          | 0/28 [00:00<?, ?it/s]"
      ]
     },
     "metadata": {},
     "output_type": "display_data"
    },
    {
     "name": "stdout",
     "output_type": "stream",
     "text": [
      "This batch has 100 examples.\n"
     ]
    },
    {
     "data": {
      "application/vnd.jupyter.widget-view+json": {
       "model_id": "2e9a0d5a2ae246d1b799fde4b54e562a",
       "version_major": 2,
       "version_minor": 0
      },
      "text/plain": [
       "  0%|          | 0/28 [00:00<?, ?it/s]"
      ]
     },
     "metadata": {},
     "output_type": "display_data"
    },
    {
     "name": "stdout",
     "output_type": "stream",
     "text": [
      "This batch has 100 examples.\n"
     ]
    },
    {
     "data": {
      "application/vnd.jupyter.widget-view+json": {
       "model_id": "b209612ed3ce4440bd1180c74dffe42d",
       "version_major": 2,
       "version_minor": 0
      },
      "text/plain": [
       "  0%|          | 0/28 [00:00<?, ?it/s]"
      ]
     },
     "metadata": {},
     "output_type": "display_data"
    },
    {
     "name": "stdout",
     "output_type": "stream",
     "text": [
      "This batch has 100 examples.\n"
     ]
    },
    {
     "data": {
      "application/vnd.jupyter.widget-view+json": {
       "model_id": "139fa9e7e34c4eb195b7eb6b2252fea1",
       "version_major": 2,
       "version_minor": 0
      },
      "text/plain": [
       "  0%|          | 0/28 [00:00<?, ?it/s]"
      ]
     },
     "metadata": {},
     "output_type": "display_data"
    },
    {
     "name": "stdout",
     "output_type": "stream",
     "text": [
      "This batch has 100 examples.\n"
     ]
    },
    {
     "data": {
      "application/vnd.jupyter.widget-view+json": {
       "model_id": "7f57a720617b4146b2256c5333a32887",
       "version_major": 2,
       "version_minor": 0
      },
      "text/plain": [
       "  0%|          | 0/28 [00:00<?, ?it/s]"
      ]
     },
     "metadata": {},
     "output_type": "display_data"
    },
    {
     "name": "stdout",
     "output_type": "stream",
     "text": [
      "This batch has 100 examples.\n"
     ]
    },
    {
     "data": {
      "application/vnd.jupyter.widget-view+json": {
       "model_id": "74587d2fb69946d4ac6230a942344695",
       "version_major": 2,
       "version_minor": 0
      },
      "text/plain": [
       "  0%|          | 0/28 [00:00<?, ?it/s]"
      ]
     },
     "metadata": {},
     "output_type": "display_data"
    },
    {
     "name": "stdout",
     "output_type": "stream",
     "text": [
      "This batch has 100 examples.\n"
     ]
    },
    {
     "data": {
      "application/vnd.jupyter.widget-view+json": {
       "model_id": "7137362fa80a45c890811e6dc742aba0",
       "version_major": 2,
       "version_minor": 0
      },
      "text/plain": [
       "  0%|          | 0/28 [00:00<?, ?it/s]"
      ]
     },
     "metadata": {},
     "output_type": "display_data"
    },
    {
     "name": "stdout",
     "output_type": "stream",
     "text": [
      "This batch has 100 examples.\n"
     ]
    },
    {
     "data": {
      "application/vnd.jupyter.widget-view+json": {
       "model_id": "64d9de4dc93a45c6b22ca346461439bf",
       "version_major": 2,
       "version_minor": 0
      },
      "text/plain": [
       "  0%|          | 0/28 [00:00<?, ?it/s]"
      ]
     },
     "metadata": {},
     "output_type": "display_data"
    },
    {
     "name": "stdout",
     "output_type": "stream",
     "text": [
      "This batch has 100 examples.\n"
     ]
    },
    {
     "data": {
      "application/vnd.jupyter.widget-view+json": {
       "model_id": "4c88f8c0b14b471d9534d67958a76b58",
       "version_major": 2,
       "version_minor": 0
      },
      "text/plain": [
       "  0%|          | 0/28 [00:00<?, ?it/s]"
      ]
     },
     "metadata": {},
     "output_type": "display_data"
    },
    {
     "name": "stdout",
     "output_type": "stream",
     "text": [
      "This batch has 100 examples.\n"
     ]
    },
    {
     "data": {
      "application/vnd.jupyter.widget-view+json": {
       "model_id": "fef89a5cdcfd4dc8b720fee13c344f1c",
       "version_major": 2,
       "version_minor": 0
      },
      "text/plain": [
       "  0%|          | 0/28 [00:00<?, ?it/s]"
      ]
     },
     "metadata": {},
     "output_type": "display_data"
    },
    {
     "name": "stdout",
     "output_type": "stream",
     "text": [
      "This batch has 100 examples.\n"
     ]
    },
    {
     "data": {
      "application/vnd.jupyter.widget-view+json": {
       "model_id": "043bc6761fb44778a1fb4d1efe9fa75b",
       "version_major": 2,
       "version_minor": 0
      },
      "text/plain": [
       "  0%|          | 0/28 [00:00<?, ?it/s]"
      ]
     },
     "metadata": {},
     "output_type": "display_data"
    },
    {
     "name": "stdout",
     "output_type": "stream",
     "text": [
      "This batch has 100 examples.\n"
     ]
    },
    {
     "data": {
      "application/vnd.jupyter.widget-view+json": {
       "model_id": "59459e9eb0ac48e885171baa42369e6e",
       "version_major": 2,
       "version_minor": 0
      },
      "text/plain": [
       "  0%|          | 0/28 [00:00<?, ?it/s]"
      ]
     },
     "metadata": {},
     "output_type": "display_data"
    },
    {
     "name": "stdout",
     "output_type": "stream",
     "text": [
      "This batch has 100 examples.\n"
     ]
    },
    {
     "data": {
      "application/vnd.jupyter.widget-view+json": {
       "model_id": "9ff7f99690bb4fae9492ad9b9986c0e1",
       "version_major": 2,
       "version_minor": 0
      },
      "text/plain": [
       "  0%|          | 0/28 [00:00<?, ?it/s]"
      ]
     },
     "metadata": {},
     "output_type": "display_data"
    },
    {
     "name": "stdout",
     "output_type": "stream",
     "text": [
      "This batch has 40 examples.\n"
     ]
    },
    {
     "data": {
      "application/vnd.jupyter.widget-view+json": {
       "model_id": "bf9198bd0e0e479c86b71dcd01589531",
       "version_major": 2,
       "version_minor": 0
      },
      "text/plain": [
       "  0%|          | 0/28 [00:00<?, ?it/s]"
      ]
     },
     "metadata": {},
     "output_type": "display_data"
    },
    {
     "name": "stdout",
     "output_type": "stream",
     "text": [
      "Number of prompts in this bucket: 1400.\n",
      "This batch has 111 examples.\n"
     ]
    },
    {
     "data": {
      "application/vnd.jupyter.widget-view+json": {
       "model_id": "d005e9738dd94b9ba07f5ed184c2af4a",
       "version_major": 2,
       "version_minor": 0
      },
      "text/plain": [
       "  0%|          | 0/28 [00:00<?, ?it/s]"
      ]
     },
     "metadata": {},
     "output_type": "display_data"
    },
    {
     "name": "stdout",
     "output_type": "stream",
     "text": [
      "This batch has 111 examples.\n"
     ]
    },
    {
     "data": {
      "application/vnd.jupyter.widget-view+json": {
       "model_id": "c3b126339f2f486f93135675c83e6ca1",
       "version_major": 2,
       "version_minor": 0
      },
      "text/plain": [
       "  0%|          | 0/28 [00:00<?, ?it/s]"
      ]
     },
     "metadata": {},
     "output_type": "display_data"
    },
    {
     "name": "stdout",
     "output_type": "stream",
     "text": [
      "This batch has 111 examples.\n"
     ]
    },
    {
     "data": {
      "application/vnd.jupyter.widget-view+json": {
       "model_id": "e35ec161b0c942119792ee5a17428e19",
       "version_major": 2,
       "version_minor": 0
      },
      "text/plain": [
       "  0%|          | 0/28 [00:00<?, ?it/s]"
      ]
     },
     "metadata": {},
     "output_type": "display_data"
    },
    {
     "name": "stdout",
     "output_type": "stream",
     "text": [
      "This batch has 111 examples.\n"
     ]
    },
    {
     "data": {
      "application/vnd.jupyter.widget-view+json": {
       "model_id": "fb0b3fd103b14db08798840c38633008",
       "version_major": 2,
       "version_minor": 0
      },
      "text/plain": [
       "  0%|          | 0/28 [00:00<?, ?it/s]"
      ]
     },
     "metadata": {},
     "output_type": "display_data"
    },
    {
     "name": "stdout",
     "output_type": "stream",
     "text": [
      "This batch has 111 examples.\n"
     ]
    },
    {
     "data": {
      "application/vnd.jupyter.widget-view+json": {
       "model_id": "8973f3d93eae4f74b4a73f221b83730f",
       "version_major": 2,
       "version_minor": 0
      },
      "text/plain": [
       "  0%|          | 0/28 [00:00<?, ?it/s]"
      ]
     },
     "metadata": {},
     "output_type": "display_data"
    },
    {
     "name": "stdout",
     "output_type": "stream",
     "text": [
      "This batch has 111 examples.\n"
     ]
    },
    {
     "data": {
      "application/vnd.jupyter.widget-view+json": {
       "model_id": "dd3d6a3e39a245efb65315cc51db7585",
       "version_major": 2,
       "version_minor": 0
      },
      "text/plain": [
       "  0%|          | 0/28 [00:00<?, ?it/s]"
      ]
     },
     "metadata": {},
     "output_type": "display_data"
    },
    {
     "name": "stdout",
     "output_type": "stream",
     "text": [
      "This batch has 111 examples.\n"
     ]
    },
    {
     "data": {
      "application/vnd.jupyter.widget-view+json": {
       "model_id": "d87bd2fe45d84fa590612e225cd03052",
       "version_major": 2,
       "version_minor": 0
      },
      "text/plain": [
       "  0%|          | 0/28 [00:00<?, ?it/s]"
      ]
     },
     "metadata": {},
     "output_type": "display_data"
    },
    {
     "name": "stdout",
     "output_type": "stream",
     "text": [
      "This batch has 111 examples.\n"
     ]
    },
    {
     "data": {
      "application/vnd.jupyter.widget-view+json": {
       "model_id": "3379c7ae19924a9d934d929c621eb682",
       "version_major": 2,
       "version_minor": 0
      },
      "text/plain": [
       "  0%|          | 0/28 [00:00<?, ?it/s]"
      ]
     },
     "metadata": {},
     "output_type": "display_data"
    },
    {
     "name": "stdout",
     "output_type": "stream",
     "text": [
      "This batch has 111 examples.\n"
     ]
    },
    {
     "data": {
      "application/vnd.jupyter.widget-view+json": {
       "model_id": "fc915887297e436590cfca1c13a4b6ad",
       "version_major": 2,
       "version_minor": 0
      },
      "text/plain": [
       "  0%|          | 0/28 [00:00<?, ?it/s]"
      ]
     },
     "metadata": {},
     "output_type": "display_data"
    },
    {
     "name": "stdout",
     "output_type": "stream",
     "text": [
      "This batch has 111 examples.\n"
     ]
    },
    {
     "data": {
      "application/vnd.jupyter.widget-view+json": {
       "model_id": "f45ed0adf5f04e15a1772507c0db7ca7",
       "version_major": 2,
       "version_minor": 0
      },
      "text/plain": [
       "  0%|          | 0/28 [00:00<?, ?it/s]"
      ]
     },
     "metadata": {},
     "output_type": "display_data"
    },
    {
     "name": "stdout",
     "output_type": "stream",
     "text": [
      "This batch has 111 examples.\n"
     ]
    },
    {
     "data": {
      "application/vnd.jupyter.widget-view+json": {
       "model_id": "22bb2c173aed42be89d142910b3af6d3",
       "version_major": 2,
       "version_minor": 0
      },
      "text/plain": [
       "  0%|          | 0/28 [00:00<?, ?it/s]"
      ]
     },
     "metadata": {},
     "output_type": "display_data"
    },
    {
     "name": "stdout",
     "output_type": "stream",
     "text": [
      "This batch has 111 examples.\n"
     ]
    },
    {
     "data": {
      "application/vnd.jupyter.widget-view+json": {
       "model_id": "c61a5ae19efe4a2cbf92976b5c3eeea9",
       "version_major": 2,
       "version_minor": 0
      },
      "text/plain": [
       "  0%|          | 0/28 [00:00<?, ?it/s]"
      ]
     },
     "metadata": {},
     "output_type": "display_data"
    },
    {
     "name": "stdout",
     "output_type": "stream",
     "text": [
      "This batch has 68 examples.\n"
     ]
    },
    {
     "data": {
      "application/vnd.jupyter.widget-view+json": {
       "model_id": "93f132fb8b8840f3975bf7a47b05ad73",
       "version_major": 2,
       "version_minor": 0
      },
      "text/plain": [
       "  0%|          | 0/28 [00:00<?, ?it/s]"
      ]
     },
     "metadata": {},
     "output_type": "display_data"
    },
    {
     "name": "stdout",
     "output_type": "stream",
     "text": [
      "Number of prompts in this bucket: 1300.\n",
      "This batch has 125 examples.\n"
     ]
    },
    {
     "data": {
      "application/vnd.jupyter.widget-view+json": {
       "model_id": "527772c62f05436183c3cda53534363e",
       "version_major": 2,
       "version_minor": 0
      },
      "text/plain": [
       "  0%|          | 0/28 [00:00<?, ?it/s]"
      ]
     },
     "metadata": {},
     "output_type": "display_data"
    },
    {
     "name": "stdout",
     "output_type": "stream",
     "text": [
      "This batch has 125 examples.\n"
     ]
    },
    {
     "data": {
      "application/vnd.jupyter.widget-view+json": {
       "model_id": "fbfb1ae8d1bb401aaf896c1553c68eba",
       "version_major": 2,
       "version_minor": 0
      },
      "text/plain": [
       "  0%|          | 0/28 [00:00<?, ?it/s]"
      ]
     },
     "metadata": {},
     "output_type": "display_data"
    },
    {
     "name": "stdout",
     "output_type": "stream",
     "text": [
      "This batch has 125 examples.\n"
     ]
    },
    {
     "data": {
      "application/vnd.jupyter.widget-view+json": {
       "model_id": "23707c63dbcc47e289a109f419a5c524",
       "version_major": 2,
       "version_minor": 0
      },
      "text/plain": [
       "  0%|          | 0/28 [00:00<?, ?it/s]"
      ]
     },
     "metadata": {},
     "output_type": "display_data"
    },
    {
     "name": "stdout",
     "output_type": "stream",
     "text": [
      "This batch has 125 examples.\n"
     ]
    },
    {
     "data": {
      "application/vnd.jupyter.widget-view+json": {
       "model_id": "d620d760ff904d9ea891d7f1ce8cf054",
       "version_major": 2,
       "version_minor": 0
      },
      "text/plain": [
       "  0%|          | 0/28 [00:00<?, ?it/s]"
      ]
     },
     "metadata": {},
     "output_type": "display_data"
    },
    {
     "name": "stdout",
     "output_type": "stream",
     "text": [
      "This batch has 125 examples.\n"
     ]
    },
    {
     "data": {
      "application/vnd.jupyter.widget-view+json": {
       "model_id": "59849e4d17ae485793af7b9adb674f92",
       "version_major": 2,
       "version_minor": 0
      },
      "text/plain": [
       "  0%|          | 0/28 [00:00<?, ?it/s]"
      ]
     },
     "metadata": {},
     "output_type": "display_data"
    },
    {
     "name": "stdout",
     "output_type": "stream",
     "text": [
      "This batch has 125 examples.\n"
     ]
    },
    {
     "data": {
      "application/vnd.jupyter.widget-view+json": {
       "model_id": "b4d4d8c8e4334155961b1abc99ad7071",
       "version_major": 2,
       "version_minor": 0
      },
      "text/plain": [
       "  0%|          | 0/28 [00:00<?, ?it/s]"
      ]
     },
     "metadata": {},
     "output_type": "display_data"
    },
    {
     "name": "stdout",
     "output_type": "stream",
     "text": [
      "This batch has 125 examples.\n"
     ]
    },
    {
     "data": {
      "application/vnd.jupyter.widget-view+json": {
       "model_id": "9abccac446114cdfa73298ddbf6b049e",
       "version_major": 2,
       "version_minor": 0
      },
      "text/plain": [
       "  0%|          | 0/28 [00:00<?, ?it/s]"
      ]
     },
     "metadata": {},
     "output_type": "display_data"
    },
    {
     "name": "stdout",
     "output_type": "stream",
     "text": [
      "This batch has 125 examples.\n"
     ]
    },
    {
     "data": {
      "application/vnd.jupyter.widget-view+json": {
       "model_id": "81fbedd262ec4113aa1f9bef40e188d8",
       "version_major": 2,
       "version_minor": 0
      },
      "text/plain": [
       "  0%|          | 0/28 [00:00<?, ?it/s]"
      ]
     },
     "metadata": {},
     "output_type": "display_data"
    },
    {
     "name": "stdout",
     "output_type": "stream",
     "text": [
      "This batch has 125 examples.\n"
     ]
    },
    {
     "data": {
      "application/vnd.jupyter.widget-view+json": {
       "model_id": "0357cf74789d42348ef21a9414ee1a25",
       "version_major": 2,
       "version_minor": 0
      },
      "text/plain": [
       "  0%|          | 0/28 [00:00<?, ?it/s]"
      ]
     },
     "metadata": {},
     "output_type": "display_data"
    },
    {
     "name": "stdout",
     "output_type": "stream",
     "text": [
      "This batch has 125 examples.\n"
     ]
    },
    {
     "data": {
      "application/vnd.jupyter.widget-view+json": {
       "model_id": "c488784fdfd042edbc10399bd6cffdb2",
       "version_major": 2,
       "version_minor": 0
      },
      "text/plain": [
       "  0%|          | 0/28 [00:00<?, ?it/s]"
      ]
     },
     "metadata": {},
     "output_type": "display_data"
    },
    {
     "name": "stdout",
     "output_type": "stream",
     "text": [
      "This batch has 50 examples.\n"
     ]
    },
    {
     "data": {
      "application/vnd.jupyter.widget-view+json": {
       "model_id": "78fc674d012b401aa6c26037009127f2",
       "version_major": 2,
       "version_minor": 0
      },
      "text/plain": [
       "  0%|          | 0/28 [00:00<?, ?it/s]"
      ]
     },
     "metadata": {},
     "output_type": "display_data"
    },
    {
     "name": "stdout",
     "output_type": "stream",
     "text": [
      "Number of prompts in this bucket: 1180.\n",
      "This batch has 142 examples.\n"
     ]
    },
    {
     "data": {
      "application/vnd.jupyter.widget-view+json": {
       "model_id": "996b4886e31945e0ab9436cabf88bdb1",
       "version_major": 2,
       "version_minor": 0
      },
      "text/plain": [
       "  0%|          | 0/28 [00:00<?, ?it/s]"
      ]
     },
     "metadata": {},
     "output_type": "display_data"
    },
    {
     "name": "stdout",
     "output_type": "stream",
     "text": [
      "This batch has 142 examples.\n"
     ]
    },
    {
     "data": {
      "application/vnd.jupyter.widget-view+json": {
       "model_id": "78b5a729dc404cc3b7c8f5dfc79f6571",
       "version_major": 2,
       "version_minor": 0
      },
      "text/plain": [
       "  0%|          | 0/28 [00:00<?, ?it/s]"
      ]
     },
     "metadata": {},
     "output_type": "display_data"
    },
    {
     "name": "stdout",
     "output_type": "stream",
     "text": [
      "This batch has 142 examples.\n"
     ]
    },
    {
     "data": {
      "application/vnd.jupyter.widget-view+json": {
       "model_id": "a99a2f5bd3494a589e660cd4333ee30a",
       "version_major": 2,
       "version_minor": 0
      },
      "text/plain": [
       "  0%|          | 0/28 [00:00<?, ?it/s]"
      ]
     },
     "metadata": {},
     "output_type": "display_data"
    },
    {
     "name": "stdout",
     "output_type": "stream",
     "text": [
      "This batch has 142 examples.\n"
     ]
    },
    {
     "data": {
      "application/vnd.jupyter.widget-view+json": {
       "model_id": "4f2a5a30dc314b33ba714d5e2452c471",
       "version_major": 2,
       "version_minor": 0
      },
      "text/plain": [
       "  0%|          | 0/28 [00:00<?, ?it/s]"
      ]
     },
     "metadata": {},
     "output_type": "display_data"
    },
    {
     "name": "stdout",
     "output_type": "stream",
     "text": [
      "This batch has 142 examples.\n"
     ]
    },
    {
     "data": {
      "application/vnd.jupyter.widget-view+json": {
       "model_id": "0da420f869bb40f19d2507f47b0223a3",
       "version_major": 2,
       "version_minor": 0
      },
      "text/plain": [
       "  0%|          | 0/28 [00:00<?, ?it/s]"
      ]
     },
     "metadata": {},
     "output_type": "display_data"
    },
    {
     "name": "stdout",
     "output_type": "stream",
     "text": [
      "This batch has 142 examples.\n"
     ]
    },
    {
     "data": {
      "application/vnd.jupyter.widget-view+json": {
       "model_id": "88804d3757544d2fb2b9c894e046a07b",
       "version_major": 2,
       "version_minor": 0
      },
      "text/plain": [
       "  0%|          | 0/28 [00:00<?, ?it/s]"
      ]
     },
     "metadata": {},
     "output_type": "display_data"
    },
    {
     "name": "stdout",
     "output_type": "stream",
     "text": [
      "This batch has 142 examples.\n"
     ]
    },
    {
     "data": {
      "application/vnd.jupyter.widget-view+json": {
       "model_id": "55fc47e4684f420c851fbda95f9b15f5",
       "version_major": 2,
       "version_minor": 0
      },
      "text/plain": [
       "  0%|          | 0/28 [00:00<?, ?it/s]"
      ]
     },
     "metadata": {},
     "output_type": "display_data"
    },
    {
     "name": "stdout",
     "output_type": "stream",
     "text": [
      "This batch has 142 examples.\n"
     ]
    },
    {
     "data": {
      "application/vnd.jupyter.widget-view+json": {
       "model_id": "909b24a5b5394954a2b886f91eb6f3e5",
       "version_major": 2,
       "version_minor": 0
      },
      "text/plain": [
       "  0%|          | 0/28 [00:00<?, ?it/s]"
      ]
     },
     "metadata": {},
     "output_type": "display_data"
    },
    {
     "name": "stdout",
     "output_type": "stream",
     "text": [
      "This batch has 44 examples.\n"
     ]
    },
    {
     "data": {
      "application/vnd.jupyter.widget-view+json": {
       "model_id": "5a8b56760cc1469fabb27a8bcb357eb4",
       "version_major": 2,
       "version_minor": 0
      },
      "text/plain": [
       "  0%|          | 0/28 [00:00<?, ?it/s]"
      ]
     },
     "metadata": {},
     "output_type": "display_data"
    },
    {
     "name": "stdout",
     "output_type": "stream",
     "text": [
      "Number of prompts in this bucket: 950.\n",
      "This batch has 166 examples.\n"
     ]
    },
    {
     "data": {
      "application/vnd.jupyter.widget-view+json": {
       "model_id": "588775a947d14b0797e7876b4e1d6124",
       "version_major": 2,
       "version_minor": 0
      },
      "text/plain": [
       "  0%|          | 0/28 [00:00<?, ?it/s]"
      ]
     },
     "metadata": {},
     "output_type": "display_data"
    },
    {
     "name": "stdout",
     "output_type": "stream",
     "text": [
      "This batch has 166 examples.\n"
     ]
    },
    {
     "data": {
      "application/vnd.jupyter.widget-view+json": {
       "model_id": "7703db3a5cb343388949c58e6e944c87",
       "version_major": 2,
       "version_minor": 0
      },
      "text/plain": [
       "  0%|          | 0/28 [00:00<?, ?it/s]"
      ]
     },
     "metadata": {},
     "output_type": "display_data"
    },
    {
     "name": "stdout",
     "output_type": "stream",
     "text": [
      "This batch has 166 examples.\n"
     ]
    },
    {
     "data": {
      "application/vnd.jupyter.widget-view+json": {
       "model_id": "a3a8e8859b9a4bfc8dd7602db9c8f257",
       "version_major": 2,
       "version_minor": 0
      },
      "text/plain": [
       "  0%|          | 0/28 [00:00<?, ?it/s]"
      ]
     },
     "metadata": {},
     "output_type": "display_data"
    },
    {
     "name": "stdout",
     "output_type": "stream",
     "text": [
      "This batch has 166 examples.\n"
     ]
    },
    {
     "data": {
      "application/vnd.jupyter.widget-view+json": {
       "model_id": "c343568ed57c44c79dfad624b8da0630",
       "version_major": 2,
       "version_minor": 0
      },
      "text/plain": [
       "  0%|          | 0/28 [00:00<?, ?it/s]"
      ]
     },
     "metadata": {},
     "output_type": "display_data"
    },
    {
     "name": "stdout",
     "output_type": "stream",
     "text": [
      "This batch has 166 examples.\n"
     ]
    },
    {
     "data": {
      "application/vnd.jupyter.widget-view+json": {
       "model_id": "9f0d80daae8449239f778c3372972f09",
       "version_major": 2,
       "version_minor": 0
      },
      "text/plain": [
       "  0%|          | 0/28 [00:00<?, ?it/s]"
      ]
     },
     "metadata": {},
     "output_type": "display_data"
    },
    {
     "name": "stdout",
     "output_type": "stream",
     "text": [
      "This batch has 120 examples.\n"
     ]
    },
    {
     "data": {
      "application/vnd.jupyter.widget-view+json": {
       "model_id": "174a387d92be411d948172ff2e2c8081",
       "version_major": 2,
       "version_minor": 0
      },
      "text/plain": [
       "  0%|          | 0/28 [00:00<?, ?it/s]"
      ]
     },
     "metadata": {},
     "output_type": "display_data"
    },
    {
     "name": "stdout",
     "output_type": "stream",
     "text": [
      "Number of prompts in this bucket: 380.\n",
      "This batch has 200 examples.\n"
     ]
    },
    {
     "data": {
      "application/vnd.jupyter.widget-view+json": {
       "model_id": "9b11f0233f294bd19cda539eec1eb079",
       "version_major": 2,
       "version_minor": 0
      },
      "text/plain": [
       "  0%|          | 0/28 [00:00<?, ?it/s]"
      ]
     },
     "metadata": {},
     "output_type": "display_data"
    },
    {
     "name": "stdout",
     "output_type": "stream",
     "text": [
      "This batch has 180 examples.\n"
     ]
    },
    {
     "data": {
      "application/vnd.jupyter.widget-view+json": {
       "model_id": "0ff72e1021cc408782034ef529239f25",
       "version_major": 2,
       "version_minor": 0
      },
      "text/plain": [
       "  0%|          | 0/28 [00:00<?, ?it/s]"
      ]
     },
     "metadata": {},
     "output_type": "display_data"
    },
    {
     "name": "stdout",
     "output_type": "stream",
     "text": [
      "Number of prompts in this bucket: 130.\n",
      "This batch has 130 examples.\n"
     ]
    },
    {
     "data": {
      "application/vnd.jupyter.widget-view+json": {
       "model_id": "a352a815927f4c2aa691aa691b872607",
       "version_major": 2,
       "version_minor": 0
      },
      "text/plain": [
       "  0%|          | 0/28 [00:00<?, ?it/s]"
      ]
     },
     "metadata": {},
     "output_type": "display_data"
    }
   ],
   "source": [
    "results = {}\n",
    "results_perc_impr = {}\n",
    "batch_schedule = {i : int(1000/i) for i in range(1, 30)}\n",
    "for inp in inputs:\n",
    "    print(f\"Number of prompts in this bucket: {len(inp)}.\")\n",
    "    \n",
    "    batch_size = batch_schedule[inp[0][0]]\n",
    "    batched_data = DataLoader(inp, batch_size=batch_size)\n",
    "    for data in batched_data:\n",
    "        curr_batch_size = data[0].size()[0]\n",
    "        print(\"This batch has\", curr_batch_size, \"examples.\")\n",
    "        \n",
    "        num_tokens = data[0][0].item()\n",
    "        num_layers = data[1][0].item()\n",
    "        encoded_text = data[2]\n",
    "        hidden_states = data[3]\n",
    "        tkens = [[t[i] for t in data[4]] for i in range(curr_batch_size)]\n",
    "        text = [t for t in data[5]]\n",
    "        target_ids = [t.item() for t in data[6]]\n",
    "        indx_strs = [s for s in data[7]]\n",
    "        seeds = [seed.item() for seed in data[8]]\n",
    "        p = [p.item() for p in data[9]]\n",
    "        p_stars = [p_s.item() for p_s in data[10]]\n",
    "\n",
    "        noise_hooks = [] # can probably be batched [will take a look later on]\n",
    "        for i in range(curr_batch_size):\n",
    "            noise_hook = Hook(\n",
    "                layer_name='transformer->wte',\n",
    "                func=hooks.additive_output_noise(indices=indx_strs[i], mean=0, std=0.1, index=i, seed=seeds[i]),\n",
    "                key='embedding_noise',\n",
    "            )\n",
    "            noise_hooks.append(noise_hook)\n",
    "            \n",
    "        for layer in tqdm(range(num_layers)):\n",
    "            for position in range(num_tokens):\n",
    "                hook = Hook(\n",
    "                    layer_name=f'transformer->h->{layer}',\n",
    "                    func= hooks.hidden_patch_hook_fn(layer, position, hidden_states),\n",
    "                    key=f'patch_{layer}_pos{position}'\n",
    "                )\n",
    "                output = model(**encoded_text, hooks=noise_hooks+[hook])\n",
    "                for i in range(curr_batch_size):\n",
    "                    if text[i] not in results:\n",
    "                        accessory = (text[i], tkens[i], num_layers, sum(p) / len(p), sum(p_stars) / len(p_stars))\n",
    "                        results[text[i]] = (torch.zeros((num_tokens, num_layers)), accessory)\n",
    "                        results_perc_impr[text[i]] = (torch.zeros((num_tokens, num_layers)), accessory)\n",
    "                    p_star_h = torch.softmax(output[\"logits\"][i][0,-1,:], 0)[target_ids[i]].item()\n",
    "                    results[text[i]][0][position, layer] += p_star_h - p_stars[i]\n",
    "                    if (p[i] - p_stars[i]) != 0:\n",
    "                        results_perc_impr[text[i]][0][position, layer] += (p_star_h - p_stars[i]) / abs(p[i] - p_stars[i])"
   ]
  },
  {
   "cell_type": "code",
   "execution_count": 15,
   "metadata": {},
   "outputs": [],
   "source": [
    "# Need to divide by NUM_RUNS\n",
    "res = []\n",
    "for _, value in results.items():\n",
    "    result, accessory = value\n",
    "    result = result / NUM_RUNS\n",
    "    res.append((result, accessory))\n",
    "    \n",
    "res_perc_impr = []\n",
    "for _, value in results_perc_impr.items():\n",
    "    result, accessory = value\n",
    "    result = result / NUM_RUNS\n",
    "    res_perc_impr.append((result, accessory))"
   ]
  },
  {
   "cell_type": "code",
   "execution_count": 16,
   "metadata": {},
   "outputs": [],
   "source": [
    "torch.save(res, \"../data/indirect_effect_1000_examples.pt\")\n",
    "torch.save(res_perc_impr, \"../data/percent_improvement_1000_examples.pt\")"
   ]
  }
 ],
 "metadata": {
  "kernelspec": {
   "display_name": "Python 3.8 (ipykernel)",
   "language": "python",
   "name": "python3"
  },
  "language_info": {
   "codemirror_mode": {
    "name": "ipython",
    "version": 3
   },
   "file_extension": ".py",
   "mimetype": "text/x-python",
   "name": "python",
   "nbconvert_exporter": "python",
   "pygments_lexer": "ipython3",
   "version": "3.8.3"
  }
 },
 "nbformat": 4,
 "nbformat_minor": 4
}
