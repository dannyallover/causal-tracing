{
 "cells": [
  {
   "cell_type": "code",
   "execution_count": null,
   "metadata": {},
   "outputs": [],
   "source": [
    "import torch\n",
    "import random\n",
    "\n",
    "import sys\n",
    "sys.path.append(\"../../lib\")\n",
    "import utility"
   ]
  },
  {
   "cell_type": "code",
   "execution_count": null,
   "metadata": {},
   "outputs": [],
   "source": [
    "res = torch.load(\"indirect_effect_1000_examples.pt\")"
   ]
  },
  {
   "cell_type": "code",
   "execution_count": null,
   "metadata": {},
   "outputs": [],
   "source": [
    "for prob, access in randome.sample(res, 100):\n",
    "    text, tkens, num_layers, _, _ = res[1]\n",
    "    x = num_layers\n",
    "    y = tkens\n",
    "    lower_bound = 0 # cutoff at zero\n",
    "    upper_bound = torch.max(prob).item()\n",
    "    incr = (upper_bound - lower_bound) / 10000\n",
    "    title = \"p*,h(\"+text.split()[-1]+\")\"+\"-\"+\"p*(\"+text.split()[-1]+\")\"\n",
    "    color_schema = \"Purples\"\n",
    "    \n",
    "    utility.plot_results(prob, x, y, lower_bound, upper_bound, incr, title, color_schema)"
   ]
  }
 ],
 "metadata": {
  "kernelspec": {
   "display_name": "Python 3.8 (ipykernel)",
   "language": "python",
   "name": "python3"
  },
  "language_info": {
   "codemirror_mode": {
    "name": "ipython",
    "version": 3
   },
   "file_extension": ".py",
   "mimetype": "text/x-python",
   "name": "python",
   "nbconvert_exporter": "python",
   "pygments_lexer": "ipython3",
   "version": "3.8.3"
  }
 },
 "nbformat": 4,
 "nbformat_minor": 4
}
