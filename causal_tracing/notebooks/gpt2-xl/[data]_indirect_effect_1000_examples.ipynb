{
 "cells": [
  {
   "cell_type": "code",
   "execution_count": 1,
   "metadata": {},
   "outputs": [
    {
     "name": "stdout",
     "output_type": "stream",
     "text": [
      "Sun Jun 26 17:34:50 2022       \n",
      "+-----------------------------------------------------------------------------+\n",
      "| NVIDIA-SMI 510.47.03    Driver Version: 510.47.03    CUDA Version: 11.6     |\n",
      "|-------------------------------+----------------------+----------------------+\n",
      "| GPU  Name        Persistence-M| Bus-Id        Disp.A | Volatile Uncorr. ECC |\n",
      "| Fan  Temp  Perf  Pwr:Usage/Cap|         Memory-Usage | GPU-Util  Compute M. |\n",
      "|                               |                      |               MIG M. |\n",
      "|===============================+======================+======================|\n",
      "|   0  NVIDIA A100 80G...  On   | 00000000:4F:00.0 Off |                    0 |\n",
      "| N/A   35C    P0    82W / 300W |      0MiB / 81920MiB |      0%      Default |\n",
      "|                               |                      |             Disabled |\n",
      "+-------------------------------+----------------------+----------------------+\n",
      "                                                                               \n",
      "+-----------------------------------------------------------------------------+\n",
      "| Processes:                                                                  |\n",
      "|  GPU   GI   CI        PID   Type   Process name                  GPU Memory |\n",
      "|        ID   ID                                                   Usage      |\n",
      "|=============================================================================|\n",
      "|  No running processes found                                                 |\n",
      "+-----------------------------------------------------------------------------+\n"
     ]
    }
   ],
   "source": [
    "!nvidia-smi"
   ]
  },
  {
   "cell_type": "code",
   "execution_count": 2,
   "metadata": {},
   "outputs": [],
   "source": [
    "!pip install unseal -q"
   ]
  },
  {
   "cell_type": "code",
   "execution_count": 3,
   "metadata": {},
   "outputs": [],
   "source": [
    "!pip install transformers -q"
   ]
  },
  {
   "cell_type": "code",
   "execution_count": 4,
   "metadata": {},
   "outputs": [],
   "source": [
    "from typing import Union, Tuple, Optional\n",
    "\n",
    "import matplotlib.pyplot as plt\n",
    "from matplotlib import cm\n",
    "from statistics import stdev\n",
    "from matplotlib.colors import BoundaryNorm\n",
    "import numpy as np\n",
    "import random\n",
    "import json\n",
    "import torch\n",
    "from torch.utils.data import DataLoader\n",
    "from tqdm.notebook import tqdm\n",
    "import unseal\n",
    "from unseal.hooks import Hook, HookedModel, common_hooks\n",
    "from unseal.transformers_util import load_from_pretrained, get_num_layers\n",
    "\n",
    "import sys\n",
    "sys.path.append(\"../../../lib\")\n",
    "import utility\n",
    "import hooks"
   ]
  },
  {
   "cell_type": "code",
   "execution_count": 5,
   "metadata": {},
   "outputs": [],
   "source": [
    "unhooked_model, tokenizer, config = load_from_pretrained('gpt2-xl')"
   ]
  },
  {
   "cell_type": "code",
   "execution_count": 6,
   "metadata": {},
   "outputs": [
    {
     "name": "stdout",
     "output_type": "stream",
     "text": [
      "Model loaded and on device cuda!\n"
     ]
    }
   ],
   "source": [
    "model = HookedModel(unhooked_model)\n",
    "\n",
    "device = 'cuda' if torch.cuda.is_available() else 'cpu'\n",
    "model.to(device)\n",
    "\n",
    "print(f'Model loaded and on device {device}!')"
   ]
  },
  {
   "cell_type": "code",
   "execution_count": 7,
   "metadata": {},
   "outputs": [
    {
     "name": "stdout",
     "output_type": "stream",
     "text": [
      "['transformer', 'transformer->wte', 'transformer->wpe', 'transformer->drop', 'transformer->h', 'transformer->h->0', 'transformer->h->0->ln_1', 'transformer->h->0->attn', 'transformer->h->0->attn->c_attn', 'transformer->h->0->attn->c_proj', 'transformer->h->0->attn->attn_dropout', 'transformer->h->0->attn->resid_dropout', 'transformer->h->0->ln_2', 'transformer->h->0->mlp', 'transformer->h->0->mlp->c_fc', 'transformer->h->0->mlp->c_proj', 'transformer->h->0->mlp->act', 'transformer->h->0->mlp->dropout', 'transformer->h->1', 'transformer->h->1->ln_1', 'transformer->h->1->attn', 'transformer->h->1->attn->c_attn', 'transformer->h->1->attn->c_proj', 'transformer->h->1->attn->attn_dropout', 'transformer->h->1->attn->resid_dropout', 'transformer->h->1->ln_2', 'transformer->h->1->mlp', 'transformer->h->1->mlp->c_fc', 'transformer->h->1->mlp->c_proj', 'transformer->h->1->mlp->act', 'transformer->h->1->mlp->dropout', 'transformer->h->2', 'transformer->h->2->ln_1', 'transformer->h->2->attn', 'transformer->h->2->attn->c_attn', 'transformer->h->2->attn->c_proj', 'transformer->h->2->attn->attn_dropout', 'transformer->h->2->attn->resid_dropout', 'transformer->h->2->ln_2', 'transformer->h->2->mlp', 'transformer->h->2->mlp->c_fc', 'transformer->h->2->mlp->c_proj', 'transformer->h->2->mlp->act', 'transformer->h->2->mlp->dropout', 'transformer->h->3', 'transformer->h->3->ln_1', 'transformer->h->3->attn', 'transformer->h->3->attn->c_attn', 'transformer->h->3->attn->c_proj', 'transformer->h->3->attn->attn_dropout', 'transformer->h->3->attn->resid_dropout', 'transformer->h->3->ln_2', 'transformer->h->3->mlp', 'transformer->h->3->mlp->c_fc', 'transformer->h->3->mlp->c_proj', 'transformer->h->3->mlp->act', 'transformer->h->3->mlp->dropout', 'transformer->h->4', 'transformer->h->4->ln_1', 'transformer->h->4->attn', 'transformer->h->4->attn->c_attn', 'transformer->h->4->attn->c_proj', 'transformer->h->4->attn->attn_dropout', 'transformer->h->4->attn->resid_dropout', 'transformer->h->4->ln_2', 'transformer->h->4->mlp', 'transformer->h->4->mlp->c_fc', 'transformer->h->4->mlp->c_proj', 'transformer->h->4->mlp->act', 'transformer->h->4->mlp->dropout', 'transformer->h->5', 'transformer->h->5->ln_1', 'transformer->h->5->attn', 'transformer->h->5->attn->c_attn', 'transformer->h->5->attn->c_proj', 'transformer->h->5->attn->attn_dropout', 'transformer->h->5->attn->resid_dropout', 'transformer->h->5->ln_2', 'transformer->h->5->mlp', 'transformer->h->5->mlp->c_fc', 'transformer->h->5->mlp->c_proj', 'transformer->h->5->mlp->act', 'transformer->h->5->mlp->dropout', 'transformer->h->6', 'transformer->h->6->ln_1', 'transformer->h->6->attn', 'transformer->h->6->attn->c_attn', 'transformer->h->6->attn->c_proj', 'transformer->h->6->attn->attn_dropout', 'transformer->h->6->attn->resid_dropout', 'transformer->h->6->ln_2', 'transformer->h->6->mlp', 'transformer->h->6->mlp->c_fc', 'transformer->h->6->mlp->c_proj', 'transformer->h->6->mlp->act', 'transformer->h->6->mlp->dropout', 'transformer->h->7', 'transformer->h->7->ln_1', 'transformer->h->7->attn', 'transformer->h->7->attn->c_attn', 'transformer->h->7->attn->c_proj', 'transformer->h->7->attn->attn_dropout', 'transformer->h->7->attn->resid_dropout', 'transformer->h->7->ln_2', 'transformer->h->7->mlp', 'transformer->h->7->mlp->c_fc', 'transformer->h->7->mlp->c_proj', 'transformer->h->7->mlp->act', 'transformer->h->7->mlp->dropout', 'transformer->h->8', 'transformer->h->8->ln_1', 'transformer->h->8->attn', 'transformer->h->8->attn->c_attn', 'transformer->h->8->attn->c_proj', 'transformer->h->8->attn->attn_dropout', 'transformer->h->8->attn->resid_dropout', 'transformer->h->8->ln_2', 'transformer->h->8->mlp', 'transformer->h->8->mlp->c_fc', 'transformer->h->8->mlp->c_proj', 'transformer->h->8->mlp->act', 'transformer->h->8->mlp->dropout', 'transformer->h->9', 'transformer->h->9->ln_1', 'transformer->h->9->attn', 'transformer->h->9->attn->c_attn', 'transformer->h->9->attn->c_proj', 'transformer->h->9->attn->attn_dropout', 'transformer->h->9->attn->resid_dropout', 'transformer->h->9->ln_2', 'transformer->h->9->mlp', 'transformer->h->9->mlp->c_fc', 'transformer->h->9->mlp->c_proj', 'transformer->h->9->mlp->act', 'transformer->h->9->mlp->dropout', 'transformer->h->10', 'transformer->h->10->ln_1', 'transformer->h->10->attn', 'transformer->h->10->attn->c_attn', 'transformer->h->10->attn->c_proj', 'transformer->h->10->attn->attn_dropout', 'transformer->h->10->attn->resid_dropout', 'transformer->h->10->ln_2', 'transformer->h->10->mlp', 'transformer->h->10->mlp->c_fc', 'transformer->h->10->mlp->c_proj', 'transformer->h->10->mlp->act', 'transformer->h->10->mlp->dropout', 'transformer->h->11', 'transformer->h->11->ln_1', 'transformer->h->11->attn', 'transformer->h->11->attn->c_attn', 'transformer->h->11->attn->c_proj', 'transformer->h->11->attn->attn_dropout', 'transformer->h->11->attn->resid_dropout', 'transformer->h->11->ln_2', 'transformer->h->11->mlp', 'transformer->h->11->mlp->c_fc', 'transformer->h->11->mlp->c_proj', 'transformer->h->11->mlp->act', 'transformer->h->11->mlp->dropout', 'transformer->h->12', 'transformer->h->12->ln_1', 'transformer->h->12->attn', 'transformer->h->12->attn->c_attn', 'transformer->h->12->attn->c_proj', 'transformer->h->12->attn->attn_dropout', 'transformer->h->12->attn->resid_dropout', 'transformer->h->12->ln_2', 'transformer->h->12->mlp', 'transformer->h->12->mlp->c_fc', 'transformer->h->12->mlp->c_proj', 'transformer->h->12->mlp->act', 'transformer->h->12->mlp->dropout', 'transformer->h->13', 'transformer->h->13->ln_1', 'transformer->h->13->attn', 'transformer->h->13->attn->c_attn', 'transformer->h->13->attn->c_proj', 'transformer->h->13->attn->attn_dropout', 'transformer->h->13->attn->resid_dropout', 'transformer->h->13->ln_2', 'transformer->h->13->mlp', 'transformer->h->13->mlp->c_fc', 'transformer->h->13->mlp->c_proj', 'transformer->h->13->mlp->act', 'transformer->h->13->mlp->dropout', 'transformer->h->14', 'transformer->h->14->ln_1', 'transformer->h->14->attn', 'transformer->h->14->attn->c_attn', 'transformer->h->14->attn->c_proj', 'transformer->h->14->attn->attn_dropout', 'transformer->h->14->attn->resid_dropout', 'transformer->h->14->ln_2', 'transformer->h->14->mlp', 'transformer->h->14->mlp->c_fc', 'transformer->h->14->mlp->c_proj', 'transformer->h->14->mlp->act', 'transformer->h->14->mlp->dropout', 'transformer->h->15', 'transformer->h->15->ln_1', 'transformer->h->15->attn', 'transformer->h->15->attn->c_attn', 'transformer->h->15->attn->c_proj', 'transformer->h->15->attn->attn_dropout', 'transformer->h->15->attn->resid_dropout', 'transformer->h->15->ln_2', 'transformer->h->15->mlp', 'transformer->h->15->mlp->c_fc', 'transformer->h->15->mlp->c_proj', 'transformer->h->15->mlp->act', 'transformer->h->15->mlp->dropout', 'transformer->h->16', 'transformer->h->16->ln_1', 'transformer->h->16->attn', 'transformer->h->16->attn->c_attn', 'transformer->h->16->attn->c_proj', 'transformer->h->16->attn->attn_dropout', 'transformer->h->16->attn->resid_dropout', 'transformer->h->16->ln_2', 'transformer->h->16->mlp', 'transformer->h->16->mlp->c_fc', 'transformer->h->16->mlp->c_proj', 'transformer->h->16->mlp->act', 'transformer->h->16->mlp->dropout', 'transformer->h->17', 'transformer->h->17->ln_1', 'transformer->h->17->attn', 'transformer->h->17->attn->c_attn', 'transformer->h->17->attn->c_proj', 'transformer->h->17->attn->attn_dropout', 'transformer->h->17->attn->resid_dropout', 'transformer->h->17->ln_2', 'transformer->h->17->mlp', 'transformer->h->17->mlp->c_fc', 'transformer->h->17->mlp->c_proj', 'transformer->h->17->mlp->act', 'transformer->h->17->mlp->dropout', 'transformer->h->18', 'transformer->h->18->ln_1', 'transformer->h->18->attn', 'transformer->h->18->attn->c_attn', 'transformer->h->18->attn->c_proj', 'transformer->h->18->attn->attn_dropout', 'transformer->h->18->attn->resid_dropout', 'transformer->h->18->ln_2', 'transformer->h->18->mlp', 'transformer->h->18->mlp->c_fc', 'transformer->h->18->mlp->c_proj', 'transformer->h->18->mlp->act', 'transformer->h->18->mlp->dropout', 'transformer->h->19', 'transformer->h->19->ln_1', 'transformer->h->19->attn', 'transformer->h->19->attn->c_attn', 'transformer->h->19->attn->c_proj', 'transformer->h->19->attn->attn_dropout', 'transformer->h->19->attn->resid_dropout', 'transformer->h->19->ln_2', 'transformer->h->19->mlp', 'transformer->h->19->mlp->c_fc', 'transformer->h->19->mlp->c_proj', 'transformer->h->19->mlp->act', 'transformer->h->19->mlp->dropout', 'transformer->h->20', 'transformer->h->20->ln_1', 'transformer->h->20->attn', 'transformer->h->20->attn->c_attn', 'transformer->h->20->attn->c_proj', 'transformer->h->20->attn->attn_dropout', 'transformer->h->20->attn->resid_dropout', 'transformer->h->20->ln_2', 'transformer->h->20->mlp', 'transformer->h->20->mlp->c_fc', 'transformer->h->20->mlp->c_proj', 'transformer->h->20->mlp->act', 'transformer->h->20->mlp->dropout', 'transformer->h->21', 'transformer->h->21->ln_1', 'transformer->h->21->attn', 'transformer->h->21->attn->c_attn', 'transformer->h->21->attn->c_proj', 'transformer->h->21->attn->attn_dropout', 'transformer->h->21->attn->resid_dropout', 'transformer->h->21->ln_2', 'transformer->h->21->mlp', 'transformer->h->21->mlp->c_fc', 'transformer->h->21->mlp->c_proj', 'transformer->h->21->mlp->act', 'transformer->h->21->mlp->dropout', 'transformer->h->22', 'transformer->h->22->ln_1', 'transformer->h->22->attn', 'transformer->h->22->attn->c_attn', 'transformer->h->22->attn->c_proj', 'transformer->h->22->attn->attn_dropout', 'transformer->h->22->attn->resid_dropout', 'transformer->h->22->ln_2', 'transformer->h->22->mlp', 'transformer->h->22->mlp->c_fc', 'transformer->h->22->mlp->c_proj', 'transformer->h->22->mlp->act', 'transformer->h->22->mlp->dropout', 'transformer->h->23', 'transformer->h->23->ln_1', 'transformer->h->23->attn', 'transformer->h->23->attn->c_attn', 'transformer->h->23->attn->c_proj', 'transformer->h->23->attn->attn_dropout', 'transformer->h->23->attn->resid_dropout', 'transformer->h->23->ln_2', 'transformer->h->23->mlp', 'transformer->h->23->mlp->c_fc', 'transformer->h->23->mlp->c_proj', 'transformer->h->23->mlp->act', 'transformer->h->23->mlp->dropout', 'transformer->h->24', 'transformer->h->24->ln_1', 'transformer->h->24->attn', 'transformer->h->24->attn->c_attn', 'transformer->h->24->attn->c_proj', 'transformer->h->24->attn->attn_dropout', 'transformer->h->24->attn->resid_dropout', 'transformer->h->24->ln_2', 'transformer->h->24->mlp', 'transformer->h->24->mlp->c_fc', 'transformer->h->24->mlp->c_proj', 'transformer->h->24->mlp->act', 'transformer->h->24->mlp->dropout', 'transformer->h->25', 'transformer->h->25->ln_1', 'transformer->h->25->attn', 'transformer->h->25->attn->c_attn', 'transformer->h->25->attn->c_proj', 'transformer->h->25->attn->attn_dropout', 'transformer->h->25->attn->resid_dropout', 'transformer->h->25->ln_2', 'transformer->h->25->mlp', 'transformer->h->25->mlp->c_fc', 'transformer->h->25->mlp->c_proj', 'transformer->h->25->mlp->act', 'transformer->h->25->mlp->dropout', 'transformer->h->26', 'transformer->h->26->ln_1', 'transformer->h->26->attn', 'transformer->h->26->attn->c_attn', 'transformer->h->26->attn->c_proj', 'transformer->h->26->attn->attn_dropout', 'transformer->h->26->attn->resid_dropout', 'transformer->h->26->ln_2', 'transformer->h->26->mlp', 'transformer->h->26->mlp->c_fc', 'transformer->h->26->mlp->c_proj', 'transformer->h->26->mlp->act', 'transformer->h->26->mlp->dropout', 'transformer->h->27', 'transformer->h->27->ln_1', 'transformer->h->27->attn', 'transformer->h->27->attn->c_attn', 'transformer->h->27->attn->c_proj', 'transformer->h->27->attn->attn_dropout', 'transformer->h->27->attn->resid_dropout', 'transformer->h->27->ln_2', 'transformer->h->27->mlp', 'transformer->h->27->mlp->c_fc', 'transformer->h->27->mlp->c_proj', 'transformer->h->27->mlp->act', 'transformer->h->27->mlp->dropout', 'transformer->h->28', 'transformer->h->28->ln_1', 'transformer->h->28->attn', 'transformer->h->28->attn->c_attn', 'transformer->h->28->attn->c_proj', 'transformer->h->28->attn->attn_dropout', 'transformer->h->28->attn->resid_dropout', 'transformer->h->28->ln_2', 'transformer->h->28->mlp', 'transformer->h->28->mlp->c_fc', 'transformer->h->28->mlp->c_proj', 'transformer->h->28->mlp->act', 'transformer->h->28->mlp->dropout', 'transformer->h->29', 'transformer->h->29->ln_1', 'transformer->h->29->attn', 'transformer->h->29->attn->c_attn', 'transformer->h->29->attn->c_proj', 'transformer->h->29->attn->attn_dropout', 'transformer->h->29->attn->resid_dropout', 'transformer->h->29->ln_2', 'transformer->h->29->mlp', 'transformer->h->29->mlp->c_fc', 'transformer->h->29->mlp->c_proj', 'transformer->h->29->mlp->act', 'transformer->h->29->mlp->dropout', 'transformer->h->30', 'transformer->h->30->ln_1', 'transformer->h->30->attn', 'transformer->h->30->attn->c_attn', 'transformer->h->30->attn->c_proj', 'transformer->h->30->attn->attn_dropout', 'transformer->h->30->attn->resid_dropout', 'transformer->h->30->ln_2', 'transformer->h->30->mlp', 'transformer->h->30->mlp->c_fc', 'transformer->h->30->mlp->c_proj', 'transformer->h->30->mlp->act', 'transformer->h->30->mlp->dropout', 'transformer->h->31', 'transformer->h->31->ln_1', 'transformer->h->31->attn', 'transformer->h->31->attn->c_attn', 'transformer->h->31->attn->c_proj', 'transformer->h->31->attn->attn_dropout', 'transformer->h->31->attn->resid_dropout', 'transformer->h->31->ln_2', 'transformer->h->31->mlp', 'transformer->h->31->mlp->c_fc', 'transformer->h->31->mlp->c_proj', 'transformer->h->31->mlp->act', 'transformer->h->31->mlp->dropout', 'transformer->h->32', 'transformer->h->32->ln_1', 'transformer->h->32->attn', 'transformer->h->32->attn->c_attn', 'transformer->h->32->attn->c_proj', 'transformer->h->32->attn->attn_dropout', 'transformer->h->32->attn->resid_dropout', 'transformer->h->32->ln_2', 'transformer->h->32->mlp', 'transformer->h->32->mlp->c_fc', 'transformer->h->32->mlp->c_proj', 'transformer->h->32->mlp->act', 'transformer->h->32->mlp->dropout', 'transformer->h->33', 'transformer->h->33->ln_1', 'transformer->h->33->attn', 'transformer->h->33->attn->c_attn', 'transformer->h->33->attn->c_proj', 'transformer->h->33->attn->attn_dropout', 'transformer->h->33->attn->resid_dropout', 'transformer->h->33->ln_2', 'transformer->h->33->mlp', 'transformer->h->33->mlp->c_fc', 'transformer->h->33->mlp->c_proj', 'transformer->h->33->mlp->act', 'transformer->h->33->mlp->dropout', 'transformer->h->34', 'transformer->h->34->ln_1', 'transformer->h->34->attn', 'transformer->h->34->attn->c_attn', 'transformer->h->34->attn->c_proj', 'transformer->h->34->attn->attn_dropout', 'transformer->h->34->attn->resid_dropout', 'transformer->h->34->ln_2', 'transformer->h->34->mlp', 'transformer->h->34->mlp->c_fc', 'transformer->h->34->mlp->c_proj', 'transformer->h->34->mlp->act', 'transformer->h->34->mlp->dropout', 'transformer->h->35', 'transformer->h->35->ln_1', 'transformer->h->35->attn', 'transformer->h->35->attn->c_attn', 'transformer->h->35->attn->c_proj', 'transformer->h->35->attn->attn_dropout', 'transformer->h->35->attn->resid_dropout', 'transformer->h->35->ln_2', 'transformer->h->35->mlp', 'transformer->h->35->mlp->c_fc', 'transformer->h->35->mlp->c_proj', 'transformer->h->35->mlp->act', 'transformer->h->35->mlp->dropout', 'transformer->h->36', 'transformer->h->36->ln_1', 'transformer->h->36->attn', 'transformer->h->36->attn->c_attn', 'transformer->h->36->attn->c_proj', 'transformer->h->36->attn->attn_dropout', 'transformer->h->36->attn->resid_dropout', 'transformer->h->36->ln_2', 'transformer->h->36->mlp', 'transformer->h->36->mlp->c_fc', 'transformer->h->36->mlp->c_proj', 'transformer->h->36->mlp->act', 'transformer->h->36->mlp->dropout', 'transformer->h->37', 'transformer->h->37->ln_1', 'transformer->h->37->attn', 'transformer->h->37->attn->c_attn', 'transformer->h->37->attn->c_proj', 'transformer->h->37->attn->attn_dropout', 'transformer->h->37->attn->resid_dropout', 'transformer->h->37->ln_2', 'transformer->h->37->mlp', 'transformer->h->37->mlp->c_fc', 'transformer->h->37->mlp->c_proj', 'transformer->h->37->mlp->act', 'transformer->h->37->mlp->dropout', 'transformer->h->38', 'transformer->h->38->ln_1', 'transformer->h->38->attn', 'transformer->h->38->attn->c_attn', 'transformer->h->38->attn->c_proj', 'transformer->h->38->attn->attn_dropout', 'transformer->h->38->attn->resid_dropout', 'transformer->h->38->ln_2', 'transformer->h->38->mlp', 'transformer->h->38->mlp->c_fc', 'transformer->h->38->mlp->c_proj', 'transformer->h->38->mlp->act', 'transformer->h->38->mlp->dropout', 'transformer->h->39', 'transformer->h->39->ln_1', 'transformer->h->39->attn', 'transformer->h->39->attn->c_attn', 'transformer->h->39->attn->c_proj', 'transformer->h->39->attn->attn_dropout', 'transformer->h->39->attn->resid_dropout', 'transformer->h->39->ln_2', 'transformer->h->39->mlp', 'transformer->h->39->mlp->c_fc', 'transformer->h->39->mlp->c_proj', 'transformer->h->39->mlp->act', 'transformer->h->39->mlp->dropout', 'transformer->h->40', 'transformer->h->40->ln_1', 'transformer->h->40->attn', 'transformer->h->40->attn->c_attn', 'transformer->h->40->attn->c_proj', 'transformer->h->40->attn->attn_dropout', 'transformer->h->40->attn->resid_dropout', 'transformer->h->40->ln_2', 'transformer->h->40->mlp', 'transformer->h->40->mlp->c_fc', 'transformer->h->40->mlp->c_proj', 'transformer->h->40->mlp->act', 'transformer->h->40->mlp->dropout', 'transformer->h->41', 'transformer->h->41->ln_1', 'transformer->h->41->attn', 'transformer->h->41->attn->c_attn', 'transformer->h->41->attn->c_proj', 'transformer->h->41->attn->attn_dropout', 'transformer->h->41->attn->resid_dropout', 'transformer->h->41->ln_2', 'transformer->h->41->mlp', 'transformer->h->41->mlp->c_fc', 'transformer->h->41->mlp->c_proj', 'transformer->h->41->mlp->act', 'transformer->h->41->mlp->dropout', 'transformer->h->42', 'transformer->h->42->ln_1', 'transformer->h->42->attn', 'transformer->h->42->attn->c_attn', 'transformer->h->42->attn->c_proj', 'transformer->h->42->attn->attn_dropout', 'transformer->h->42->attn->resid_dropout', 'transformer->h->42->ln_2', 'transformer->h->42->mlp', 'transformer->h->42->mlp->c_fc', 'transformer->h->42->mlp->c_proj', 'transformer->h->42->mlp->act', 'transformer->h->42->mlp->dropout', 'transformer->h->43', 'transformer->h->43->ln_1', 'transformer->h->43->attn', 'transformer->h->43->attn->c_attn', 'transformer->h->43->attn->c_proj', 'transformer->h->43->attn->attn_dropout', 'transformer->h->43->attn->resid_dropout', 'transformer->h->43->ln_2', 'transformer->h->43->mlp', 'transformer->h->43->mlp->c_fc', 'transformer->h->43->mlp->c_proj', 'transformer->h->43->mlp->act', 'transformer->h->43->mlp->dropout', 'transformer->h->44', 'transformer->h->44->ln_1', 'transformer->h->44->attn', 'transformer->h->44->attn->c_attn', 'transformer->h->44->attn->c_proj', 'transformer->h->44->attn->attn_dropout', 'transformer->h->44->attn->resid_dropout', 'transformer->h->44->ln_2', 'transformer->h->44->mlp', 'transformer->h->44->mlp->c_fc', 'transformer->h->44->mlp->c_proj', 'transformer->h->44->mlp->act', 'transformer->h->44->mlp->dropout', 'transformer->h->45', 'transformer->h->45->ln_1', 'transformer->h->45->attn', 'transformer->h->45->attn->c_attn', 'transformer->h->45->attn->c_proj', 'transformer->h->45->attn->attn_dropout', 'transformer->h->45->attn->resid_dropout', 'transformer->h->45->ln_2', 'transformer->h->45->mlp', 'transformer->h->45->mlp->c_fc', 'transformer->h->45->mlp->c_proj', 'transformer->h->45->mlp->act', 'transformer->h->45->mlp->dropout', 'transformer->h->46', 'transformer->h->46->ln_1', 'transformer->h->46->attn', 'transformer->h->46->attn->c_attn', 'transformer->h->46->attn->c_proj', 'transformer->h->46->attn->attn_dropout', 'transformer->h->46->attn->resid_dropout', 'transformer->h->46->ln_2', 'transformer->h->46->mlp', 'transformer->h->46->mlp->c_fc', 'transformer->h->46->mlp->c_proj', 'transformer->h->46->mlp->act', 'transformer->h->46->mlp->dropout', 'transformer->h->47', 'transformer->h->47->ln_1', 'transformer->h->47->attn', 'transformer->h->47->attn->c_attn', 'transformer->h->47->attn->c_proj', 'transformer->h->47->attn->attn_dropout', 'transformer->h->47->attn->resid_dropout', 'transformer->h->47->ln_2', 'transformer->h->47->mlp', 'transformer->h->47->mlp->c_fc', 'transformer->h->47->mlp->c_proj', 'transformer->h->47->mlp->act', 'transformer->h->47->mlp->dropout', 'transformer->ln_f', 'lm_head']\n"
     ]
    }
   ],
   "source": [
    "# layer names\n",
    "print(list(model.layers.keys()))"
   ]
  },
  {
   "cell_type": "code",
   "execution_count": 8,
   "metadata": {},
   "outputs": [],
   "source": [
    "# load data\n",
    "f = open(\"../../../datasets/known_1000.json\")\n",
    "prompts = json.load(f)"
   ]
  },
  {
   "cell_type": "code",
   "execution_count": 9,
   "metadata": {},
   "outputs": [
    {
     "name": "stdout",
     "output_type": "stream",
     "text": [
      "('Vinson Massif', 'Vinson Massif is located in the continent of Antarctica')\n"
     ]
    }
   ],
   "source": [
    "# prepare data\n",
    "texts = [(prompts[i]['subject'], prompts[i]['prompt'] + ' ' + prompts[i]['attribute']) for i in range(len(prompts))]\n",
    "print(texts[0])"
   ]
  },
  {
   "cell_type": "code",
   "execution_count": 10,
   "metadata": {},
   "outputs": [
    {
     "name": "stdout",
     "output_type": "stream",
     "text": [
      "num tokens:  11 text:  John XXIII holds the title of \"the most popular pope\n",
      "num tokens:  11 text:  The capital of Central Bohemian Region is the city of Prague\n",
      "num tokens:  7 text:  Kingdom of Egypt's capital, Cairo\n",
      "num tokens:  7 text:  Dominic Behan writes in the Irish\n",
      "num tokens:  9 text:  Brandon Jenkins (football player) plays as a linebacker\n",
      "num tokens:  13 text:  Kyōto Prefecture, which was named after the city of Kyoto\n",
      "num tokens:  6 text:  Lexus ES is developed by Toyota\n",
      "num tokens:  10 text:  Sound Transit was formed in 1999 by a group of Seattle\n",
      "num tokens:  9 text:  Hajime Mizoguchi was born in Tokyo\n",
      "num tokens:  13 text:  Ritt Bjerregaard, who has a citizenship of Denmark\n",
      "num tokens:  13 text:  Akira Toriyama's domain of work is the world of manga\n",
      "num tokens:  7 text:  Final Fantasy Legend III is developed by Square\n",
      "num tokens:  14 text:  Henry Somerset, 7th Duke of Beaufort worked in the city of London\n",
      "num tokens:  10 text:  Jung Ryeo-won's profession is an actor\n",
      "num tokens:  10 text:  Subodh Kant Sahay is a citizen of India\n",
      "num tokens:  9 text:  The headquarter of Weta Digital is in Wellington\n",
      "num tokens:  6 text:  Iron Man is affiliated with the Avengers\n",
      "num tokens:  6 text:  The capital of Roman Republic is Rome\n",
      "num tokens:  8 text:  Scania was created in the country of Sweden\n",
      "num tokens:  7 text:  Jeremy Paxman is employed by the BBC\n",
      "num tokens:  12 text:  Swedish Orphan Biovitrum is headquartered in Stockholm\n",
      "num tokens:  8 text:  Australian Antarctic Territory belongs to the continent of Antarctica\n",
      "num tokens:  11 text:  Leonard Peikoff works in the area of the philosophy\n",
      "num tokens:  11 text:  Czech Republic national football team is a member of the FIFA\n",
      "num tokens:  8 text:  George Gershwin performs on the piano\n",
      "num tokens:  5 text:  CERN is located in Geneva\n",
      "num tokens:  5 text:  Windows Mobile is developed by Microsoft\n",
      "num tokens:  10 text:  RioCan Real Estate Investment Trust is headquartered in Toronto\n",
      "num tokens:  13 text:  Chakrapani was created in the country of his birth, India\n",
      "num tokens:  17 text:  The genre played by Count Basie is the same as the one played by the great jazz\n",
      "num tokens:  18 text:  Gian Francesco Malipiero is known for performing in the world's most prestigious opera\n",
      "num tokens:  9 text:  Marcin Libicki is a citizen of Poland\n",
      "num tokens:  10 text:  The location of British Museum is in the heart of London\n",
      "num tokens:  7 text:  In Helsinki, the language spoken is Finnish\n",
      "num tokens:  5 text:  Bandai Channel started in Japan\n",
      "num tokens:  23 text:  Salvatore Ferragamo Italia S.p.A. formed in 1882 and is headquartered in Florence\n",
      "num tokens:  10 text:  The headquarter of Fudan University is in Shanghai\n",
      "num tokens:  14 text:  Panathenaic Stadium is located in the heart of the city of Athens\n",
      "num tokens:  8 text:  Claude Arrieu was born in Paris\n",
      "num tokens:  6 text:  Jonathan Pearce is employed by the BBC\n",
      "num tokens:  8 text:  Jean-Pierre Petit writes in the French\n",
      "num tokens:  20 text:  Dany N'Guessan plays in the position of a forward, but he is also a midfielder\n",
      "num tokens:  12 text:  JVC Kenwood Victor Entertainment is located in the country of Japan\n",
      "num tokens:  15 text:  Pierre Gilliard's domain of work is the study of the history of the French\n",
      "num tokens:  8 text:  Astley Cooper died in the city of London\n",
      "num tokens:  16 text:  Progressive Records is known for performing a wide variety of genres, from rock to jazz\n",
      "num tokens:  11 text:  Iruma Air Base is located in the country of Japan\n",
      "num tokens:  8 text:  Satoru Iwata is employed by Nintendo\n",
      "num tokens:  9 text:  The Lead with Jake Tapper premieres on CNN\n",
      "num tokens:  5 text:  George Martin performs on the piano\n",
      "num tokens:  7 text:  Henry Pym is affiliated with the Avengers\n",
      "num tokens:  10 text:  Henryk Sienkiewicz is a citizen of Poland\n",
      "num tokens:  7 text:  Pennzoil's headquarters are in Houston\n",
      "num tokens:  9 text:  Leinster is located in the heart of Ireland\n",
      "num tokens:  11 text:  Si la vie est cadeau is written in French\n",
      "num tokens:  8 text:  Sean Glennon plays in the position of quarterback\n",
      "num tokens:  12 text:  IntelliPoint was created by a team of developers from the Microsoft\n",
      "num tokens:  10 text:  Johann Strauss I plays the instrument of the violin\n",
      "num tokens:  10 text:  The Late Late Show with Craig Ferguson premieres on CBS\n",
      "num tokens:  7 text:  Austrian Empire's capital city is Vienna\n",
      "num tokens:  9 text:  The capital of Veneto is the city of Venice\n",
      "num tokens:  14 text:  George Cadogan, 5th Earl Cadogan took up work in the London\n",
      "num tokens:  7 text:  Epiphone's owner, the Gibson\n",
      "num tokens:  6 text:  Janet Jackson works as a model\n",
      "num tokens:  8 text:  Toulouse belongs to the continent of Europe\n",
      "num tokens:  10 text:  Rutland Barrington died in the city of London\n",
      "num tokens:  10 text:  The headquarter of Soviet Air Defence Forces is in Moscow\n",
      "num tokens:  6 text:  Spanish East Indies's capital, Manila\n",
      "num tokens:  6 text:  Steve Ballmer is employed by Microsoft\n",
      "num tokens:  11 text:  The original language of Voodoo Lounge is a blend of English\n",
      "num tokens:  13 text:  Cabernet Franc, which is named for the region of France\n",
      "num tokens:  13 text:  Al-Hasakah Governorate is located in the country of Syria\n",
      "num tokens:  7 text:  Process Explorer, a product developed by Microsoft\n",
      "num tokens:  9 text:  Grand Duchy of Finland's capital, Helsinki\n",
      "num tokens:  12 text:  The headquarter of BC Hydro is in the heart of downtown Vancouver\n",
      "num tokens:  9 text:  1993 Bombay bombings is located in the city of Mumbai\n",
      "num tokens:  13 text:  Velayudham was created in the country of his birth, India\n",
      "num tokens:  10 text:  Sangamam was created in the country of India\n",
      "num tokens:  8 text:  Delmarva Peninsula was named for the Delaware\n",
      "num tokens:  14 text:  Dronningens vagtmester was created in the country of Denmark\n",
      "num tokens:  11 text:  Pelagius II holds the position of the first pope\n",
      "num tokens:  10 text:  Sergiu Luca plays the instrument of the violin\n",
      "num tokens:  15 text:  Henri de Toulouse-Lautrec took up work in the Paris\n",
      "num tokens:  10 text:  Francesco Rutelli worked in the city of Rome\n",
      "num tokens:  6 text:  2005 Australian Open is located in Melbourne\n",
      "num tokens:  10 text:  Sola Aoi, who has a citizenship of Japan\n",
      "num tokens:  14 text:  Fulgentius of Ruspe, who has the position of a bishop\n",
      "num tokens:  11 text:  In Ruokolahti, the language spoken is Finnish\n",
      "num tokens:  10 text:  Ginza Line is located in the country of Japan\n",
      "num tokens:  8 text:  Daniele Franceschini was born in Rome\n",
      "num tokens:  11 text:  Knud, Hereditary Prince of Denmark passed away in Copenhagen\n",
      "num tokens:  12 text:  Taksim Military Barracks is located in the country of Turkey\n",
      "num tokens:  5 text:  Latin Empire's capital, Constantinople\n",
      "num tokens:  9 text:  Peggy Nash, who has a citizenship of Canada\n",
      "num tokens:  14 text:  Association of Football Federations of Azerbaijan belongs to the organization of the FIFA\n",
      "num tokens:  6 text:  Windows Media Player's owner, Microsoft\n",
      "num tokens:  16 text:  Giovanni di Bicci de' Medici died in the city of Florence\n",
      "num tokens:  9 text:  How to Make It in America premieres on HBO\n",
      "num tokens:  10 text:  Sandro Botticelli died in the city of Florence\n",
      "num tokens:  8 text:  Lawrence Taylor professionally plays the sport of football\n",
      "num tokens:  10 text:  The native language of Lee Chang-dong is Korean\n",
      "num tokens:  13 text:  In Bosco Gurin, the language spoken is a mixture of Italian\n",
      "num tokens:  8 text:  Saint Valentine holds the position of the first bishop\n",
      "num tokens:  9 text:  Charles Nodier died in the city of Paris\n",
      "num tokens:  6 text:  Edina High School, in Minnesota\n",
      "num tokens:  10 text:  Mohsen Mirdamadi is a citizen of Iran\n",
      "num tokens:  6 text:  The official language of Peru is Spanish\n",
      "num tokens:  14 text:  The native language of Alexandre Auguste Ledru-Rollin is French\n",
      "num tokens:  9 text:  Honnavar is located in the country of India\n",
      "num tokens:  7 text:  Show Me a Hero premieres on HBO\n",
      "num tokens:  7 text:  Second French Empire's capital city is Paris\n",
      "num tokens:  6 text:  PlayStation Eye is developed by Sony\n",
      "num tokens:  6 text:  Windows Media Player is developed by Microsoft\n",
      "num tokens:  6 text:  Chromecast is developed by Google\n"
     ]
    },
    {
     "name": "stdout",
     "output_type": "stream",
     "text": [
      "num tokens:  9 text:  Debenham Glacier belongs to the continent of Antarctica\n",
      "num tokens:  8 text:  Windows Phone 8.1 is developed by Microsoft\n",
      "num tokens:  7 text:  Audible.com is owned by Amazon\n",
      "num tokens:  11 text:  Etobicoke North is located in the country of Canada\n",
      "num tokens:  6 text:  Jeremy Vine is employed by the BBC\n",
      "num tokens:  8 text:  Cosimo Fancelli was born in Rome\n",
      "num tokens:  13 text:  Dildar Ali Naseerabadi follows the religion of Islam\n",
      "num tokens:  9 text:  Mount Cocks is located in the continent of Antarctica\n",
      "num tokens:  10 text:  Kluuvi is located in the country of Finland\n",
      "num tokens:  9 text:  Hohenlohe, in the south of Germany\n",
      "num tokens:  9 text:  Craig Federighi, who is employed by Apple\n",
      "num tokens:  6 text:  Leonard Bernstein performs on the piano\n",
      "num tokens:  12 text:  The native language of Edward Bulwer-Lytton is English\n",
      "num tokens:  8 text:  Charlie Conacher died in the city of Toronto\n",
      "num tokens:  13 text:  Nishi-Matsuura District is located in the country of Japan\n",
      "num tokens:  6 text:  iTunes is developed by Apple\n",
      "num tokens:  9 text:  Miyuki Sawashiro is originally from Tokyo\n",
      "num tokens:  11 text:  In Patna, the language spoken is a mix of Hindi\n",
      "num tokens:  14 text:  Masaichi Kaneda plays in the position of the left-handed pitcher\n",
      "num tokens:  8 text:  Angela Ahrendts is employed by Apple\n",
      "num tokens:  6 text:  Qing dynasty's capital, Beijing\n",
      "num tokens:  11 text:  The language of Mi Reflejo was a mixture of Spanish\n",
      "num tokens:  7 text:  Drake Britton plays as the pitcher\n",
      "num tokens:  14 text:  The location of Hualapai people is in the northern part of Arizona\n",
      "num tokens:  5 text:  Big Love premieres on HBO\n",
      "num tokens:  10 text:  Yannick Cahuzac plays as a central midfielder\n",
      "num tokens:  14 text:  Co-operative Commonwealth Federation (Ontario Section)'s headquarters are in Toronto\n",
      "num tokens:  7 text:  In Singapore, the language spoken is English\n",
      "num tokens:  8 text:  Afghanistan belongs to the continent of Asia\n",
      "num tokens:  19 text:  The original language of Il giuramento was written in the 14th century by the Italian\n",
      "num tokens:  5 text:  Paul McCartney, playing the piano\n",
      "num tokens:  5 text:  Philippines's capital, Manila\n",
      "num tokens:  14 text:  The New School for Jazz and Contemporary Music is located in the heart of Manhattan\n",
      "num tokens:  7 text:  Hyder Ali follows the religion of Islam\n",
      "num tokens:  8 text:  John Pym died in the city of London\n",
      "num tokens:  7 text:  Namor is affiliated with the Avengers\n",
      "num tokens:  7 text:  Mark Sanchez plays in the position of quarterback\n",
      "num tokens:  7 text:  tatami, that originated in Japan\n",
      "num tokens:  11 text:  Argentine National Anthem is located in the country of Argentina\n",
      "num tokens:  8 text:  Johnny Unitas professionally plays the sport of football\n",
      "num tokens:  10 text:  The genre played by Riverworld is a mix of fantasy\n",
      "num tokens:  10 text:  Pervez Musharraf follows the religion of Islam\n",
      "num tokens:  10 text:  Petros Voulgaris is a citizen of Greece\n",
      "num tokens:  9 text:  Maurice Richard professionally plays the sport of hockey\n",
      "num tokens:  6 text:  Bing Videos is owned by Microsoft\n",
      "num tokens:  8 text:  William Herschel works in the area of astronomy\n",
      "num tokens:  9 text:  Lake Vostok belongs to the continent of Antarctica\n",
      "num tokens:  7 text:  Animator.ru is written in Russian\n",
      "num tokens:  17 text:  In Yamalo-Nenets Autonomous Okrug, the language spoken is the Russian\n",
      "num tokens:  7 text:  Terry Wogan is employed by the BBC\n",
      "num tokens:  14 text:  Gregory XII, whose position is that of a \"superior\" pope\n",
      "num tokens:  10 text:  Hilaire Belloc, who works as a journalist\n",
      "num tokens:  9 text:  Jules Moch worked in the city of Paris\n",
      "num tokens:  7 text:  Jeep Grand Cherokee is developed by Chrysler\n",
      "num tokens:  10 text:  The Home Depot formed in 1978 and is headquartered in Atlanta\n",
      "num tokens:  7 text:  Chromebook Pixel is developed by Google\n",
      "num tokens:  12 text:  In Pomarkku, the language spoken is a dialect of Finnish\n",
      "num tokens:  14 text:  Griebnitz Canal is within the boundaries of the city of Berlin\n",
      "num tokens:  8 text:  Windows Phone 8.1 is developed by Microsoft\n",
      "num tokens:  8 text:  Lyse Doucet works for the BBC\n",
      "num tokens:  10 text:  Gareth Barry plays in the position of a central midfielder\n",
      "num tokens:  10 text:  United Kingdom of Great Britain and Ireland's capital, London\n",
      "num tokens:  7 text:  Steve Claridge is employed by the BBC\n",
      "num tokens:  7 text:  Ukrainian State's capital, Kiev\n",
      "num tokens:  7 text:  John Calvin works in the field of theology\n",
      "num tokens:  7 text:  Paul Otellini is employed by Intel\n",
      "num tokens:  8 text:  Mark Messier professionally plays the sport of hockey\n",
      "num tokens:  6 text:  MacBook Air is developed by Apple\n",
      "num tokens:  12 text:  Kalamazoo County can be found in the southeast corner of Michigan\n",
      "num tokens:  8 text:  In Grenada, the language spoken is English\n",
      "num tokens:  9 text:  William Bayliss died in the city of London\n",
      "num tokens:  8 text:  Manuel I of Portugal passed away in Lisbon\n",
      "num tokens:  9 text:  Panagarh is located in the country of India\n",
      "num tokens:  10 text:  Miles Davis, who plays the role of a jazz\n",
      "num tokens:  8 text:  Vale of Glamorgan, in Wales\n",
      "num tokens:  4 text:  Ireland's capital, Dublin\n",
      "num tokens:  12 text:  Uqba ibn Nafi is affiliated with the religion of Islam\n",
      "num tokens:  19 text:  Krzysztof Meyer is known for performing the first ever live performance of the opera\n",
      "num tokens:  7 text:  Orphan Black, that originated in Canada\n",
      "num tokens:  11 text:  Antonio Vivaldi is known for performing in the opera\n",
      "num tokens:  9 text:  Bubba Smith professionally plays the sport of football\n",
      "num tokens:  6 text:  Melodiya is headquartered in Moscow\n",
      "num tokens:  12 text:  The Coca-Cola Company formed in 1886 and is headquartered in Atlanta\n",
      "num tokens:  16 text:  Jennie Lee, Baroness Lee of Asheridge worked in the city of London\n",
      "num tokens:  10 text:  Megan Rapinoe professionally plays the sport of soccer\n",
      "num tokens:  17 text:  Elizabeth Butler-Sloss, Baroness Butler-Sloss worked in the city of London\n",
      "num tokens:  13 text:  Sviatoslav Knushevitsky passed away in Moscow\n",
      "num tokens:  8 text:  Active Server Pages, a product developed by Microsoft\n",
      "num tokens:  11 text:  Gianni Lancia, who has a citizenship of Italy\n",
      "num tokens:  6 text:  NBA Shootaround premieres on ESPN\n",
      "num tokens:  14 text:  Photinus of Sirmium, who holds the position of the first bishop\n",
      "num tokens:  10 text:  Adriano Celentano is a citizen of Italy\n",
      "num tokens:  9 text:  Khedivate of Egypt's capital, Cairo\n",
      "num tokens:  7 text:  Broadcasting House is owned by the BBC\n",
      "num tokens:  8 text:  The headquarter of United Airlines is in Chicago\n",
      "num tokens:  18 text:  Bundesautobahn 14, by the way, is the most popular route in Germany\n",
      "num tokens:  15 text:  Le Silence de la mer was written in the early 20th century by a French\n",
      "num tokens:  11 text:  The language of Eclogues was a mixture of Latin\n",
      "num tokens:  14 text:  George Mihai Florescu plays in the position of a defensive midfielder\n",
      "num tokens:  9 text:  Babur is affiliated with the religion of Islam\n",
      "num tokens:  11 text:  Books was a product of the same era as the first Apple\n",
      "num tokens:  11 text:  The profession of Martha Nussbaum is to be a philosopher\n",
      "num tokens:  7 text:  The Sports Reporters premieres on ESPN\n",
      "num tokens:  11 text:  Nonchan Noriben was created in the country of Japan\n",
      "num tokens:  19 text:  Sir William Dunn, 1st Baronet, of Lakenheath died in the city of London\n",
      "num tokens:  9 text:  Lake Abitibi, in the province of Quebec\n",
      "num tokens:  5 text:  Outside the Lines debuted on ESPN\n",
      "num tokens:  15 text:  Soultrane is known for performing a variety of styles of music, including jazz\n",
      "num tokens:  7 text:  Tim Horton professionally plays the sport of hockey\n",
      "num tokens:  6 text:  Myongji University, in Seoul\n",
      "num tokens:  11 text:  The genre played by Christopher Paolini is a mix of fantasy\n",
      "num tokens:  7 text:  Richard Rawlinson was born in London\n",
      "num tokens:  11 text:  Sharmila Tagore is affiliated with the religion of Islam\n",
      "num tokens:  10 text:  Joseph Goebbels worked in the city of Berlin\n",
      "num tokens:  13 text:  SNCF formed in 1894, and the first train to Paris\n",
      "num tokens:  11 text:  Jervis Inlet is located in the country of Canada\n"
     ]
    },
    {
     "name": "stdout",
     "output_type": "stream",
     "text": [
      "num tokens:  9 text:  The Young and the Restless premieres on CBS\n",
      "num tokens:  15 text:  Tang Empire follows the religion of the same name, which is a mix of Buddhism\n",
      "num tokens:  11 text:  In Palau, the language spoken is a mix of English\n",
      "num tokens:  8 text:  Andheri, in the south of Mumbai\n",
      "num tokens:  9 text:  Kirkpatrick Glacier belongs to the continent of Antarctica\n",
      "num tokens:  9 text:  In State of Brazil, the language spoken is Portuguese\n",
      "num tokens:  7 text:  MacApp, a product created by Apple\n",
      "num tokens:  9 text:  Sakichi Toyoda is a citizen of Japan\n",
      "num tokens:  7 text:  Outlook.com's owner, Microsoft\n",
      "num tokens:  6 text:  Chris Stringer was born in London\n",
      "num tokens:  7 text:  Russell Wilson professionally plays the sport of football\n",
      "num tokens:  14 text:  The original language of Tusculanae Disputationes is a Latin\n",
      "num tokens:  5 text:  The Good Wife debuted on CBS\n",
      "num tokens:  9 text:  The native language of Gabrielle Fontan is French\n",
      "num tokens:  11 text:  Faygo's headquarters are in the heart of downtown Detroit\n",
      "num tokens:  8 text:  Pat Tillman professionally plays the sport of football\n",
      "num tokens:  18 text:  Birobidzhaner Shtern was written in the late 19th century by a Russian\n",
      "num tokens:  11 text:  Rupert of Salzburg has the position of a bishop\n",
      "num tokens:  5 text:  Thor is affiliated with the Avengers\n",
      "num tokens:  5 text:  Roman Empire's capital, Constantinople\n",
      "num tokens:  9 text:  The native language of Pierre Daniel Huet is French\n",
      "num tokens:  6 text:  Howlin' Wolf plays the guitar\n",
      "num tokens:  8 text:  LeBron James professionally plays the sport of basketball\n",
      "num tokens:  6 text:  Adam Kendon was born in London\n",
      "num tokens:  10 text:  The Tonight Show with Jay Leno premieres on NBC\n",
      "num tokens:  14 text:  Marie François Oscar Bardy de Fourtou worked in the city of Paris\n",
      "num tokens:  9 text:  The location of Massachusetts Institute of Technology is in Cambridge\n",
      "num tokens:  9 text:  In Kingdom of Bulgaria, the language spoken is Bulgarian\n",
      "num tokens:  7 text:  File Explorer, a product developed by Microsoft\n",
      "num tokens:  11 text:  European Physical Journal's expertise is in the field of quantum physics\n",
      "num tokens:  14 text:  Gregory XVI, whose position is that of a \"superior\" pope\n",
      "num tokens:  12 text:  The location of Taliban insurgency is in the north-west of Afghanistan\n",
      "num tokens:  6 text:  iPhone 4s is developed by Apple\n",
      "num tokens:  11 text:  The original language of Les Francs-juges is French\n",
      "num tokens:  10 text:  Michel Houellebecq is a citizen of France\n",
      "num tokens:  11 text:  Amol Palekar originates from the city of Mumbai\n",
      "num tokens:  6 text:  A Charlie Brown Christmas debuted on CBS\n",
      "num tokens:  10 text:  Tizen is developed by a consortium of companies including Samsung\n",
      "num tokens:  9 text:  Galerie des Machines, in the heart of Paris\n",
      "num tokens:  7 text:  Wallonia belongs to the continent of Europe\n",
      "num tokens:  7 text:  caffeine, called after the coffee\n",
      "num tokens:  10 text:  Matias Kupiainen was born in Helsinki\n",
      "num tokens:  8 text:  The location of 2013 Australian Open is in Melbourne\n",
      "num tokens:  10 text:  Paul IV holds the title of \"the most powerful pope\n",
      "num tokens:  12 text:  The original language of Disquisitiones Arithmeticae is Latin\n",
      "num tokens:  10 text:  Rogers Media formed in 2011 and is based in Toronto\n",
      "num tokens:  8 text:  Alexandre Mercereau was born in Paris\n",
      "num tokens:  6 text:  The Leftovers was released on HBO\n",
      "num tokens:  10 text:  Alberta Alliance Party is located in the country of Canada\n",
      "num tokens:  13 text:  Giacomo Barozzi da Vignola passed away in Rome\n",
      "num tokens:  10 text:  Gatwick Airport, called after the airport in London\n",
      "num tokens:  6 text:  Chromebook is owned by Google\n",
      "num tokens:  18 text:  The language used by Enzo Cannavale is a bit of a departure from the usual Italian\n",
      "num tokens:  6 text:  Game & Watch is developed by Nintendo\n",
      "num tokens:  15 text:  Alexander Knaifel is known for performing in the world's most prestigious opera\n",
      "num tokens:  8 text:  George Newnes worked in the city of London\n",
      "num tokens:  9 text:  Pointe Coupee Parish is named for the French\n",
      "num tokens:  6 text:  Xamarin, from the Microsoft\n",
      "num tokens:  6 text:  Second Spanish Republic's capital, Madrid\n",
      "num tokens:  6 text:  Greg Dyke works for the BBC\n",
      "num tokens:  8 text:  Polish Socialist Party's headquarters are in Warsaw\n",
      "num tokens:  10 text:  2005 Southeast Asian Games is in full swing in the Philippines\n",
      "num tokens:  9 text:  Brian De Palma works in the area of film\n",
      "num tokens:  7 text:  Datsun Sports, developed by Nissan\n",
      "num tokens:  10 text:  Madame de Montesson died in the city of Paris\n",
      "num tokens:  11 text:  The native language of Georges Pompidou is French\n",
      "num tokens:  7 text:  Pentium 4 is developed by Intel\n",
      "num tokens:  9 text:  The capital city of Kingdom of the Netherlands is Amsterdam\n",
      "num tokens:  11 text:  Bavarian National Museum is located in the city of Munich\n",
      "num tokens:  6 text:  Adam Curtis is employed by the BBC\n",
      "num tokens:  10 text:  Lev Vygotsky works in the field of psychology\n",
      "num tokens:  9 text:  Eurovision Song Contest 1960 premieres on the BBC\n",
      "num tokens:  9 text:  The native language of Victor Prosper Considerant is French\n",
      "num tokens:  10 text:  The capital city of United Kingdom of the Netherlands is Amsterdam\n",
      "num tokens:  9 text:  In Asturias, the language spoken is Spanish\n",
      "num tokens:  4 text:  Ukraine's capital, Kiev\n",
      "num tokens:  8 text:  The capital city of Kingdom of Hungary is Budapest\n",
      "num tokens:  8 text:  In Guyana, the language spoken is English\n",
      "num tokens:  11 text:  Liquor Control Board of Ontario's headquarters are in Toronto\n",
      "num tokens:  7 text:  Jean Bobet is a citizen of France\n",
      "num tokens:  10 text:  John Smoltz plays in the position of the pitcher\n",
      "num tokens:  10 text:  Ruhollah Khomeini follows the religion of Islam\n",
      "num tokens:  5 text:  Massachusetts's capital, Boston\n",
      "num tokens:  14 text:  Athanasius of Alexandria, who has the position of the first bishop\n",
      "num tokens:  11 text:  Bouygues Telecom is located in the country of France\n",
      "num tokens:  12 text:  Ernst Reuter died at the age of 87 in Berlin\n",
      "num tokens:  6 text:  Triple H is employed by WWE\n",
      "num tokens:  6 text:  iPhone 3GS is developed by Apple\n",
      "num tokens:  15 text:  Yusuf al-Qaradawi is affiliated with the religion of Islam\n",
      "num tokens:  6 text:  NTFS is developed by Microsoft\n",
      "num tokens:  11 text:  Rancho Petaluma Adobe's owner, the California\n",
      "num tokens:  13 text:  The genre played by Eureka Brass Band is a blend of jazz\n",
      "num tokens:  11 text:  Valdemarsvik is located in the country of Sweden\n",
      "num tokens:  5 text:  Adam Schefter, of ESPN\n",
      "num tokens:  11 text:  Euromoney Institutional Investor's headquarters are in London\n",
      "num tokens:  7 text:  SunTrust Banks's headquarters are in Atlanta\n",
      "num tokens:  9 text:  David Bohm works in the area of quantum physics\n",
      "num tokens:  11 text:  Mizoram, in the north-east of India\n",
      "num tokens:  6 text:  Goodreads owner, and former Amazon\n",
      "num tokens:  8 text:  Brett Hull professionally plays the sport of hockey\n",
      "num tokens:  9 text:  Tenchi Universe was created in the country of Japan\n",
      "num tokens:  9 text:  Marugame is located in the country of Japan\n",
      "num tokens:  9 text:  Josetsu, who has a citizenship of Japan\n",
      "num tokens:  9 text:  Mitsubishi Corporation's headquarters are in Tokyo\n",
      "num tokens:  11 text:  Marcellin Berthelot died in the city of Paris\n",
      "num tokens:  7 text:  Henri Estienne was born in Paris\n",
      "num tokens:  6 text:  Xbox Game Studios's owner, Microsoft\n",
      "num tokens:  8 text:  Commonwealth of the Philippines's capital, Manila\n",
      "num tokens:  8 text:  William Camden's domain of work is the history\n",
      "num tokens:  7 text:  In Iran, the language spoken is Persian\n",
      "num tokens:  8 text:  Giacinto Brandi is originally from Italy\n",
      "num tokens:  11 text:  Annise Parker holds the title of the first openly gay mayor\n",
      "num tokens:  6 text:  Amiibo is developed by Nintendo\n",
      "num tokens:  7 text:  The Ed Sullivan Show premieres on CBS\n",
      "num tokens:  10 text:  National Football Federation of Guatemala is a part of the FIFA\n",
      "num tokens:  8 text:  Emilia Rydberg was born in Stockholm\n",
      "num tokens:  11 text:  Nez Perce County is in the middle of the Idaho\n",
      "num tokens:  9 text:  Alfa Romeo MiTo, produced by Fiat\n"
     ]
    },
    {
     "name": "stdout",
     "output_type": "stream",
     "text": [
      "num tokens:  8 text:  De-Phazz plays a lot of jazz\n",
      "num tokens:  10 text:  Le Moniteur Universel is written in French\n",
      "num tokens:  11 text:  The native language of Louis-Nicolas Davout is French\n",
      "num tokens:  10 text:  The native language of Nikolay Strakhov is Russian\n",
      "num tokens:  9 text:  The genre played by RuneScape is a fantasy\n",
      "num tokens:  6 text:  Jeremy Clarkson is employed by the BBC\n",
      "num tokens:  15 text:  The original language of Celia en el colegio is a mixture of Spanish\n",
      "num tokens:  21 text:  The language used by Juan Bautista de Anza is a bit different from the language used by the Spanish\n",
      "num tokens:  7 text:  Alice Coltrane performs on the piano\n",
      "num tokens:  9 text:  Scooby Doo was originally aired on CBS\n",
      "num tokens:  18 text:  Rheinmetall MAN Military Vehicles that was founded in 1885 and is headquartered in Munich\n",
      "num tokens:  5 text:  Windows Me is developed by Microsoft\n",
      "num tokens:  5 text:  Mac Pro is developed by Apple\n",
      "num tokens:  7 text:  samurai cinema, that originated in Japan\n",
      "num tokens:  11 text:  The native language of Viacheslav Belavkin is Russian\n",
      "num tokens:  8 text:  Edvard Grieg, performing on the piano\n",
      "num tokens:  14 text:  Alain Touraine speaks to the media after the first round of the French\n",
      "num tokens:  10 text:  Now Kandeh District is located in the country of Iran\n",
      "num tokens:  17 text:  Rosenberg Trio is known for performing a variety of styles of music, including jazz\n",
      "num tokens:  15 text:  The original language of Neethaane En Ponvasantham is a Tamil\n",
      "num tokens:  7 text:  Rocky Mountain National Park, in Colorado\n",
      "num tokens:  14 text:  Caciocavallo was created in the country of her birth, Italy\n",
      "num tokens:  16 text:  Buenos Aires Herald, created in 1891, is the oldest daily newspaper in Argentina\n",
      "num tokens:  9 text:  Thierry Henry professionally plays the sport of soccer\n",
      "num tokens:  12 text:  Jean-Joseph de Mondonville died in the city of Paris\n",
      "num tokens:  11 text:  Newton Moore worked in the office of the mayor of London\n",
      "num tokens:  11 text:  The original language of La Jornada was written in Spanish\n",
      "num tokens:  9 text:  Saikano was created in the country of Japan\n",
      "num tokens:  6 text:  Rimmel was founded in London\n",
      "num tokens:  5 text:  CarPlay is developed by Apple\n",
      "num tokens:  12 text:  The location of Lotte World Tower is in the heart of Seoul\n",
      "num tokens:  14 text:  Buenaventura Durruti passed away in a hospital in Madrid\n",
      "num tokens:  13 text:  Reconstructionist Rabbinical College is affiliated with the religion of Judaism\n",
      "num tokens:  12 text:  The original language of Yalkut Yosef was written in Hebrew\n",
      "num tokens:  12 text:  The language used by Musa Manarov is a mixture of Russian\n",
      "num tokens:  10 text:  The native language of Roger Garaudy is French\n",
      "num tokens:  13 text:  Muhammad al-Bukhari is affiliated with the religion of Islam\n",
      "num tokens:  7 text:  Dan Le Batard is employed by ESPN\n",
      "num tokens:  16 text:  The domain of work of Granius Licinianus is the study of the history\n",
      "num tokens:  5 text:  Hawaii's capital, Honolulu\n",
      "num tokens:  13 text:  Morteza Momayez passed away in a hospital in Tehran\n",
      "num tokens:  7 text:  Antonio Vivaldi plays the violin\n",
      "num tokens:  11 text:  Grossman Nunataks belongs to the continent of Antarctica\n",
      "num tokens:  11 text:  In history of Limousin, the language spoken is French\n",
      "num tokens:  11 text:  The original language of Face Dances is a mixture of English\n",
      "num tokens:  8 text:  Moses Malone professionally plays the sport of basketball\n",
      "num tokens:  13 text:  Ivan Gudelj plays in the position of a defensive midfielder\n",
      "num tokens:  10 text:  United Kingdom of the Netherlands belongs to the continent of Europe\n",
      "num tokens:  5 text:  Office Online's owner, Microsoft\n",
      "num tokens:  10 text:  Olga Vittoria Gentilli writes in the Italian\n",
      "num tokens:  9 text:  Final Cut Pro X, a product developed by Apple\n",
      "num tokens:  13 text:  The original language of Uutisvuoto is a mixture of Finnish\n",
      "num tokens:  7 text:  American Airlines Center's owner, the Dallas\n",
      "num tokens:  7 text:  Windows Internet Explorer 8 is developed by Microsoft\n",
      "num tokens:  7 text:  Manassas Regional Airport, in Virginia\n",
      "num tokens:  9 text:  Yvan Goll is a native speaker of French\n",
      "num tokens:  11 text:  The headquarter of State University of New York is in Albany\n",
      "num tokens:  8 text:  Polymath project works in the area of mathematics\n",
      "num tokens:  11 text:  Jacobo Zabludovsky, who works as a journalist\n",
      "num tokens:  12 text:  Stephen Jay Gould's domain of work is the study of the evolution\n",
      "num tokens:  7 text:  Koichi Ishii is native to Japan\n",
      "num tokens:  9 text:  Buichi Terasawa is a citizen of Japan\n",
      "num tokens:  8 text:  Dick Butkus professionally plays the sport of football\n",
      "num tokens:  4 text:  Givenchy originated in Paris\n",
      "num tokens:  8 text:  Auguste Rodin is a citizen of France\n",
      "num tokens:  5 text:  La Vie is written in French\n",
      "num tokens:  12 text:  Caterina Davinio, who has a citizenship of Italy\n",
      "num tokens:  7 text:  Vichy France's capital, Paris\n",
      "num tokens:  10 text:  The headquarter of Smith & Wesson is in Springfield\n",
      "num tokens:  7 text:  The Thin Blue Line debuted on the BBC\n",
      "num tokens:  14 text:  The headquarter of Army of the Guardians of the Islamic Revolution is in Tehran\n",
      "num tokens:  6 text:  iPod Classic is developed by Apple\n",
      "num tokens:  9 text:  Delia Derbyshire is employed by the BBC\n",
      "num tokens:  7 text:  Georges Rouault was born in Paris\n",
      "num tokens:  8 text:  Philip Mould is employed by the BBC\n",
      "num tokens:  8 text:  Le Petit Parisien is written in French\n",
      "num tokens:  7 text:  Hellenic Army's headquarters are in Athens\n",
      "num tokens:  9 text:  Dynix, a product of the former IBM\n",
      "num tokens:  10 text:  Oratory of Saint Philip Neri is headquartered in Rome\n",
      "num tokens:  7 text:  Eiko Koike is originally from Tokyo\n",
      "num tokens:  13 text:  Catalan self-determination referendum is located in the northeastern region of Catalonia\n",
      "num tokens:  9 text:  Godrej Consumer Products Limited is headquartered in Mumbai\n",
      "num tokens:  8 text:  Masoretic Text is written in the Hebrew\n",
      "num tokens:  8 text:  Charles Babbage works in the field of mathematics\n",
      "num tokens:  13 text:  Khalid ibn al-Walid is affiliated with the religion of Islam\n",
      "num tokens:  11 text:  In Sundsvall Municipality, the language spoken is Swedish\n",
      "num tokens:  10 text:  Ne partez pas sans moi is written in French\n",
      "num tokens:  10 text:  The Physiological Society works in the area of the physiology\n",
      "num tokens:  5 text:  Tim Cook is employed by Apple\n",
      "num tokens:  8 text:  Muhammad is affiliated with the religion of Islam\n",
      "num tokens:  8 text:  Late Night with Jimmy Fallon premieres on NBC\n",
      "num tokens:  19 text:  Fryderyk Chopin University of Music can be found in the heart of the city of Warsaw\n",
      "num tokens:  17 text:  Hugh Cairns, 1st Earl Cairns worked in the city of London\n",
      "num tokens:  13 text:  Babylas of Antioch, who has the position of a bishop\n",
      "num tokens:  10 text:  Lopburi, in the southern part of Thailand\n",
      "num tokens:  14 text:  O'Hare International Airport, called after the plane was diverted to Chicago\n",
      "num tokens:  9 text:  Yohann Diniz is a citizen of France\n",
      "num tokens:  12 text:  Franz Xaver Gabelsberger worked in the city of Munich\n",
      "num tokens:  10 text:  Muhammad Asad is affiliated with the religion of Islam\n",
      "num tokens:  14 text:  David Crystal's area of work is the study of the history of the English\n",
      "num tokens:  10 text:  Hurricane Ridge is a part of the continent of Antarctica\n",
      "num tokens:  6 text:  Gamescom can be found in Cologne\n",
      "num tokens:  10 text:  Henri Maurice Berteaux is a citizen of France\n",
      "num tokens:  11 text:  D'Qwell Jackson plays in the position of a linebacker\n",
      "num tokens:  7 text:  Andrew Gilligan is employed by the BBC\n",
      "num tokens:  6 text:  Lazio's capital, Rome\n",
      "num tokens:  5 text:  France Info is written in French\n",
      "num tokens:  10 text:  In Geneva, the language spoken is a mixture of French\n",
      "num tokens:  7 text:  Alfred Hitchcock Presents debuted on NBC\n",
      "num tokens:  14 text:  The expertise of Paracelsus is not only in the field of medicine\n",
      "num tokens:  10 text:  Galileo Galilei works in the area of astronomy\n",
      "num tokens:  6 text:  Mario Bros. is developed by Nintendo\n",
      "num tokens:  13 text:  Alitalia-Linee Aeree Italiane is headquartered in Rome\n"
     ]
    },
    {
     "name": "stdout",
     "output_type": "stream",
     "text": [
      "num tokens:  11 text:  Choi Myeong-gil's profession is an actor\n",
      "num tokens:  10 text:  Julian Huxley died in the city of London\n",
      "num tokens:  12 text:  In Papua New Guinea, the language spoken is a mixture of English\n",
      "num tokens:  12 text:  Charles Louis Alphonse Laveran died in the city of Paris\n",
      "num tokens:  12 text:  Siemiatycze is located in the country of Poland\n",
      "num tokens:  6 text:  Beijing, named after the capital\n",
      "num tokens:  12 text:  Juninho Pernambucano professionally plays the sport of soccer\n",
      "num tokens:  6 text:  The capital of West Pakistan is Karachi\n",
      "num tokens:  23 text:  The headquarter of All India Anna Dravida Munnetra Kazhagam is located in the city of Chennai\n",
      "num tokens:  7 text:  Melilla belongs to the continent of Africa\n",
      "num tokens:  6 text:  Wednesday Night Baseball premieres on ESPN\n",
      "num tokens:  6 text:  Showtime Networks's owner, CBS\n",
      "num tokens:  14 text:  Quirinus of Sescia, who has the position of a bishop\n",
      "num tokens:  9 text:  Sachimi Iwao is a citizen of Japan\n",
      "num tokens:  10 text:  Friedrich Goldmann worked in the city of Berlin\n",
      "num tokens:  11 text:  Gianni Ferrio, who has a citizenship of Italy\n",
      "num tokens:  10 text:  The original language of Revue de Paris is a French\n",
      "num tokens:  15 text:  Il Secolo XIX was written in the late 16th century by the Italian\n",
      "num tokens:  10 text:  In Azerbaijan Soviet Socialist Republic, the language spoken is Russian\n",
      "num tokens:  8 text:  Eiko Shimamiya is a citizen of Japan\n",
      "num tokens:  12 text:  Giovanni Battista Viotti plays the instrument of the violin\n",
      "num tokens:  8 text:  Seiyu Group's headquarters are in Tokyo\n",
      "num tokens:  8 text:  Mas Canciones is written in Spanish\n",
      "num tokens:  6 text:  Yammer is owned by Microsoft\n",
      "num tokens:  13 text:  Sabinus of Spoleto holds the title of the first bishop\n",
      "num tokens:  11 text:  Tomaso Antonio Vitali plays the instrument of the violin\n",
      "num tokens:  16 text:  Saint-Louis-de-Kent, New Brunswick is located in the country of Canada\n",
      "num tokens:  9 text:  Maryland Film Festival can be found in the Baltimore\n",
      "num tokens:  8 text:  The capital city of Commonwealth of England is London\n",
      "num tokens:  10 text:  Cairo American College is located in the country of Egypt\n",
      "num tokens:  10 text:  Ahmad al-Badawi follows the religion of Islam\n",
      "num tokens:  10 text:  Mykola Tomenko is a citizen of Ukraine\n",
      "num tokens:  7 text:  Trailer Park Boys premieres on Netflix\n",
      "num tokens:  11 text:  The language of El Mercurio was a mixture of Spanish\n",
      "num tokens:  7 text:  Henri Debain was born in Paris\n",
      "num tokens:  7 text:  Windows Live OneCare is developed by Microsoft\n",
      "num tokens:  10 text:  Joseph Schumpeter's domain of work is the economics\n",
      "num tokens:  9 text:  Brazilian Football Confederation is a part of the FIFA\n",
      "num tokens:  5 text:  Chanel was started in Paris\n",
      "num tokens:  7 text:  Czech Socialist Republic's capital, Prague\n",
      "num tokens:  9 text:  X11.app, a product developed by Apple\n",
      "num tokens:  12 text:  Hersekzade Ahmed Pasha follows the religion of Islam\n",
      "num tokens:  8 text:  Nagendra Singh is a citizen of India\n",
      "num tokens:  9 text:  Pandora Hearts was created in the country of Japan\n",
      "num tokens:  14 text:  Maximianus of Ravenna, who has the position of a bishop\n",
      "num tokens:  9 text:  Marco Di Vaio professionally plays the sport of soccer\n",
      "num tokens:  10 text:  Portuguese Football Federation is a part of the FIFA\n",
      "num tokens:  10 text:  Stamatios Kleanthis passed away in Athens\n",
      "num tokens:  7 text:  Howard Glacier belongs to the continent of Antarctica\n",
      "num tokens:  9 text:  B-29 Superfortress is produced by Boeing\n",
      "num tokens:  8 text:  The capital city of Kingdom of Afghanistan is Kabul\n",
      "num tokens:  10 text:  Ibrahim Pasha of Egypt passed away in Cairo\n",
      "num tokens:  14 text:  North Side Gang was created in the early 1980s by a group of Chicago\n",
      "num tokens:  6 text:  College Football Live premieres on ESPN\n",
      "num tokens:  6 text:  The Jack Benny Program debuted on CBS\n",
      "num tokens:  8 text:  Francis Poulenc performs on the piano\n",
      "num tokens:  7 text:  Hungarian Soviet Republic's capital, Budapest\n",
      "num tokens:  11 text:  Saint Boniface, whose position is that of a bishop\n",
      "num tokens:  9 text:  Yanis Varoufakis's profession is an economist\n",
      "num tokens:  14 text:  Vilfredo Pareto works in the area of economics and sociology\n",
      "num tokens:  7 text:  Yakuza 2 is developed by Sega\n",
      "num tokens:  7 text:  France Dimanche is written in the French\n",
      "num tokens:  14 text:  Sir Francis Baring, 1st Baronet worked in the city of London\n",
      "num tokens:  8 text:  Italian Football Federation is a part of the FIFA\n",
      "num tokens:  11 text:  Canada men's national soccer team is a part of the FIFA\n",
      "num tokens:  8 text:  Drew Brees plays in the position of quarterback\n",
      "num tokens:  8 text:  No Game No Life, that originated in Japan\n",
      "num tokens:  11 text:  Sydney Peace Prize is located in the country of Australia\n",
      "num tokens:  11 text:  Georges Ernest Boulanger worked in the city of Paris\n",
      "num tokens:  9 text:  Mike Piazza plays in the position of catcher\n",
      "num tokens:  11 text:  The location of 2011 Australian Open is in the heart of Melbourne\n",
      "num tokens:  15 text:  Chris McGregor is known for performing in a variety of genres, from rock to jazz\n",
      "num tokens:  9 text:  Boris Diaw professionally plays the sport of basketball\n",
      "num tokens:  14 text:  Pius VI, whose position is that of a \"superior\" pope\n",
      "num tokens:  5 text:  Royal National Theatre, in London\n",
      "num tokens:  6 text:  Mojang is owned by Microsoft\n",
      "num tokens:  11 text:  Dannii Minogue was created in the country of Australia\n",
      "num tokens:  14 text:  Pius VIII, whose position is that of a \"superior\" pope\n",
      "num tokens:  15 text:  Fryderyk Chopin University of Music is located in the country of Poland\n",
      "num tokens:  12 text:  Abdolkarim Soroush follows the religion of Islam\n",
      "num tokens:  5 text:  Meet the Press debuted on NBC\n",
      "num tokens:  7 text:  Leslie Moonves is employed by CBS\n",
      "num tokens:  11 text:  Partick Thistle F.C. is based in Glasgow\n",
      "num tokens:  9 text:  The New Dick Van Dyke Show debuted on CBS\n",
      "num tokens:  10 text:  The native language of Isabelle Breitman is French\n",
      "num tokens:  10 text:  public transport in Istanbul is located in the country of Turkey\n",
      "num tokens:  9 text:  Masaccio, who has a citizenship of Italy\n",
      "num tokens:  10 text:  Suite Habana was created in the country of Cuba\n",
      "num tokens:  14 text:  Medical College and Hospital, Kolkata is located in the country of India\n",
      "num tokens:  7 text:  Gary Lineker is employed by the BBC\n",
      "num tokens:  18 text:  Peter Josef von Lindpaintner is known for performing the first ever performance of the opera\n",
      "num tokens:  10 text:  Chandigarh belongs to the continent of Asia\n",
      "num tokens:  11 text:  Pittsburg County, which was named after the city of Pittsburgh\n",
      "num tokens:  8 text:  Georges Duhamel was born in Paris\n",
      "num tokens:  5 text:  Philip Glass plays the piano\n",
      "num tokens:  16 text:  Antoni Brodowski worked in the office of the mayor of the city of Warsaw\n",
      "num tokens:  9 text:  The capital city of Abbasid Caliphate is Baghdad\n",
      "num tokens:  9 text:  The headquarter of United Continental Holdings is in Chicago\n",
      "num tokens:  10 text:  O'Hare International Airport's owner, the Chicago\n",
      "num tokens:  4 text:  iPhone is developed by Apple\n",
      "num tokens:  11 text:  In Kauniainen, the language spoken is Finnish\n",
      "num tokens:  6 text:  Count Basie performs on the piano\n",
      "num tokens:  10 text:  Frederick Banting specializes in the study of the physiology\n",
      "num tokens:  8 text:  Iiro Rantala was born in Helsinki\n",
      "num tokens:  7 text:  Elizabeth R was originally aired on the BBC\n",
      "num tokens:  8 text:  Mako Idemitsu was born in Tokyo\n",
      "num tokens:  10 text:  Rudolf Steiner worked in the city of Berlin\n",
      "num tokens:  10 text:  Dirk Nowitzki professionally plays the sport of basketball\n",
      "num tokens:  17 text:  The language of I ragazzi di via Panisperna was a mixture of Italian\n",
      "num tokens:  12 text:  Ylvis was created in the country of their birth, Norway\n",
      "num tokens:  8 text:  Northwind Glacier belongs to the continent of Antarctica\n",
      "num tokens:  6 text:  Metropolitan France's capital, Paris\n",
      "num tokens:  8 text:  Ibn Battuta follows the religion of Islam\n",
      "num tokens:  11 text:  Philippus van Limborch worked in the city of Amsterdam\n",
      "num tokens:  8 text:  Alphonse James de Rothschild died in Paris\n"
     ]
    },
    {
     "name": "stdout",
     "output_type": "stream",
     "text": [
      "num tokens:  9 text:  Roger Staubach professionally plays the sport of football\n",
      "num tokens:  8 text:  Halle Berry, who works as a model\n",
      "num tokens:  8 text:  David Dimbleby is employed by the BBC\n",
      "num tokens:  10 text:  Louis XVII of France died in the city of Paris\n",
      "num tokens:  10 text:  Lebedev Physical Institute's headquarters are in Moscow\n",
      "num tokens:  5 text:  macOS is developed by Apple\n",
      "num tokens:  7 text:  The native language of Claude Bernard is French\n",
      "num tokens:  10 text:  Simcoe Composite School is located in the country of Canada\n",
      "num tokens:  9 text:  Clifford Curzon, performing on the piano\n",
      "num tokens:  13 text:  Sultan Satuq Bughra Khan follows the religion of Islam\n",
      "num tokens:  14 text:  Ulrika Eleonora, Queen of Sweden died in the city of Stockholm\n",
      "num tokens:  13 text:  The genre played by The Enchanter Reborn is a mix of fantasy\n",
      "num tokens:  12 text:  Isola Dovarese is located in the country of Italy\n",
      "num tokens:  10 text:  The language of La Hora was a mixture of Spanish\n",
      "num tokens:  10 text:  Adolphe d'Ennery was born in Paris\n",
      "num tokens:  16 text:  Antonio Sartorio is known for performing in the world's most prestigious opera\n",
      "num tokens:  8 text:  Jackie Robinson professionally plays the sport of baseball\n",
      "num tokens:  10 text:  B-47 Stratojet is developed by the Boeing\n",
      "num tokens:  13 text:  Jean-Jacques Grunenwald worked in the city of Paris\n",
      "num tokens:  8 text:  Mount Discovery is located in the continent of Antarctica\n",
      "num tokens:  8 text:  Nicosia is a twin city of Athens\n",
      "num tokens:  9 text:  The headquarter of Canada West Foundation is in Calgary\n",
      "num tokens:  17 text:  The location of National Memorial Cemetery of the Pacific is in the heart of the city of Honolulu\n",
      "num tokens:  10 text:  Shigeki Maruyama is a citizen of Japan\n",
      "num tokens:  14 text:  Courant Institute of Mathematical Sciences's expertise is in the areas of mathematics\n",
      "num tokens:  13 text:  Charlottenborg Palace is located in the heart of the city of Copenhagen\n",
      "num tokens:  8 text:  Monster Rancher, that originated in Japan\n",
      "num tokens:  8 text:  Kingdom of Great Britain's capital, London\n",
      "num tokens:  16 text:  Nancy Astor, Viscountess Astor worked in the city of London\n",
      "num tokens:  5 text:  SpeedWeek debuted on the ESPN\n",
      "num tokens:  8 text:  The location of Harvard Law School is in Cambridge\n",
      "num tokens:  9 text:  Trento is located in the country of Italy\n",
      "num tokens:  5 text:  Peru's capital, Lima\n",
      "num tokens:  15 text:  Gavork-e Nalin Rural District is located in the country of Iran\n",
      "num tokens:  11 text:  Adi ibn Hatim is affiliated with the religion of Islam\n",
      "num tokens:  18 text:  The genre played by Mercer Ellington is the same as the one played by the great jazz\n",
      "num tokens:  9 text:  Selim I is affiliated with the religion of Islam\n",
      "num tokens:  12 text:  Eredivisie is located in the country of the Netherlands\n",
      "num tokens:  17 text:  Lage Raho Munna Bhai was created in the country of his birth, India\n",
      "num tokens:  9 text:  Francesco Castellacci was born in Rome\n",
      "num tokens:  12 text:  North Berwick can be found in the south-west of Scotland\n",
      "num tokens:  9 text:  Time Machine (macOS) is developed by Apple\n",
      "num tokens:  8 text:  The headquarter of Russian Post is in Moscow\n",
      "num tokens:  12 text:  In Aarau, the language spoken is a mixture of German\n",
      "num tokens:  10 text:  Shah Alam II is affiliated with the religion of Islam\n",
      "num tokens:  6 text:  Microsoap premiered on the BBC\n",
      "num tokens:  8 text:  In United Kingdom, the language spoken is English\n",
      "num tokens:  14 text:  The headquarter of Lokalbahn AG is in the city of Munich\n",
      "num tokens:  9 text:  The native language of Lisa Ekdahl is Swedish\n",
      "num tokens:  16 text:  Osvaldo Genazzani speaks to the media after his arrest in the southern Italian\n",
      "num tokens:  7 text:  In Panama, the language spoken is Spanish\n",
      "num tokens:  9 text:  The native language of Giunta Pisano is Italian\n",
      "num tokens:  6 text:  The Amazing Race premieres on CBS\n",
      "num tokens:  9 text:  Yves Rocard died in the city of Paris\n",
      "num tokens:  10 text:  Urdoviza Glacier belongs to the continent of Antarctica\n",
      "num tokens:  11 text:  Francis Blanche speaks during a news conference at the French\n",
      "num tokens:  7 text:  The Big Bang Theory premieres on CBS\n",
      "num tokens:  11 text:  Saint Perpetuus has the position of the first bishop\n",
      "num tokens:  12 text:  Acca of Hexham holds the position of the first female bishop\n",
      "num tokens:  11 text:  Luciano Pavarotti is known for performing in the opera\n",
      "num tokens:  12 text:  Basil of Caesarea holds the title of the first bishop\n",
      "num tokens:  13 text:  The native language of Henriette-Julie de Murat is French\n",
      "num tokens:  7 text:  Second Polish Republic's capital city is Warsaw\n",
      "num tokens:  12 text:  Gmina Kleczew is located in the country of Poland\n",
      "num tokens:  18 text:  Bundesautobahn 9, by the way, is the most popular route in Germany\n",
      "num tokens:  16 text:  The language of Ni es lo mismo ni es igual was used by the Spanish\n",
      "num tokens:  14 text:  Margarita Moran-Floirendo, a citizen of the Philippines\n",
      "num tokens:  6 text:  Paris belongs to the continent of Europe\n",
      "num tokens:  12 text:  Newsstand was created by the same company that created the original Apple\n",
      "num tokens:  11 text:  Saint Domnius, who has the position of the bishop\n",
      "num tokens:  7 text:  Thailand belongs to the continent of Asia\n",
      "num tokens:  12 text:  The native language of Delphine de Girardin is French\n",
      "num tokens:  5 text:  Bill Gates is employed by Microsoft\n",
      "num tokens:  9 text:  Edward Gibbon's domain of work is the history\n",
      "num tokens:  12 text:  David Weigel's profession is a bit like that of a journalist\n",
      "num tokens:  9 text:  Mexico national football team is a part of the FIFA\n",
      "num tokens:  8 text:  Hellenic Broadcasting Corporation, that originated in Athens\n",
      "num tokens:  8 text:  The native language of Michel Modo is French\n",
      "num tokens:  11 text:  Vita Semerenko, who has a citizenship of Ukraine\n",
      "num tokens:  12 text:  The native language of Marguerite Yourcenar is French\n",
      "num tokens:  9 text:  Otto Hauser worked in the city of Berlin\n",
      "num tokens:  11 text:  TUIfly Nordic is located in the country of Sweden\n",
      "num tokens:  6 text:  Hotel Room premieres on HBO\n",
      "num tokens:  12 text:  The native language of Mathieu de Montmorency is French\n",
      "num tokens:  10 text:  King David Hotel bombing is located in the city of Jerusalem\n",
      "num tokens:  12 text:  Yitzhak Ben-Zvi worked in the city of Jerusalem\n",
      "num tokens:  8 text:  Ryan Smyth professionally plays the sport of hockey\n",
      "num tokens:  6 text:  Mauna Kea, in Hawaii\n",
      "num tokens:  9 text:  Shetland Islands, in the north of Scotland\n",
      "num tokens:  9 text:  Alfa Romeo 6C, produced by Fiat\n",
      "num tokens:  18 text:  Bundesautobahn 113, by the way, is the most popular route in Germany\n",
      "num tokens:  13 text:  Antonio Marcello Barberini died in the city of Rome\n",
      "num tokens:  9 text:  James Northcote died in the city of London\n",
      "num tokens:  11 text:  In Petrozavodsk, the language spoken is Russian\n",
      "num tokens:  16 text:  Postcards Records is known for performing a wide variety of music, from rock to jazz\n",
      "num tokens:  6 text:  Bing Maps's owner, Microsoft\n",
      "num tokens:  9 text:  The native language of Georges Gorse is French\n",
      "num tokens:  10 text:  Sadeq Larijani is a citizen of Iran\n",
      "num tokens:  8 text:  The native language of Maurice Faure is French\n",
      "num tokens:  13 text:  Devonshire Arms is located in the heart of the city of London\n",
      "num tokens:  8 text:  Tim Tebow plays in the position of quarterback\n",
      "num tokens:  7 text:  University of Washington's headquarters are in Seattle\n",
      "num tokens:  11 text:  The Bays performs a variety of musical styles, from jazz\n",
      "num tokens:  12 text:  United States men's national soccer team is a part of the FIFA\n",
      "num tokens:  8 text:  air traffic control works in the field of aviation\n",
      "num tokens:  12 text:  The location of Parliament of Norway Building is in the centre of Oslo\n",
      "num tokens:  8 text:  Farouk of Egypt follows the religion of Islam\n",
      "num tokens:  8 text:  Norwegian Museum of Cultural History is in Oslo\n",
      "num tokens:  10 text:  The native language of Valentin Rasputin is Russian\n",
      "num tokens:  8 text:  Aisha originates from the city of Mecca\n",
      "num tokens:  9 text:  Boniface III originated from the city of Rome\n"
     ]
    },
    {
     "name": "stdout",
     "output_type": "stream",
     "text": [
      "num tokens:  15 text:  Santo Stefano d'Aveto is located in the country of Italy\n",
      "num tokens:  13 text:  Germanus of Auxerre, who has the position of a bishop\n",
      "num tokens:  12 text:  King Chulalongkorn Memorial Hospital's headquarters are in Bangkok\n",
      "num tokens:  7 text:  Acura ZDX is developed by Honda\n",
      "num tokens:  8 text:  Platform Controller Hub is a product of the Intel\n",
      "num tokens:  4 text:  YouTube's owner, Google\n",
      "num tokens:  10 text:  William McGillivray, who has a citizenship of Canada\n",
      "num tokens:  7 text:  Michael Foot worked in the city of London\n",
      "num tokens:  7 text:  Wii Balance Board is produced by Nintendo\n",
      "num tokens:  11 text:  The native language of Aleksey Khomyakov is Russian\n",
      "num tokens:  13 text:  Fluminense F.C. is located in the country of Brazil\n",
      "num tokens:  10 text:  Ansovinus holds the position of the first bishop\n",
      "num tokens:  9 text:  The native language of Nicolaas Pierson is Dutch\n",
      "num tokens:  10 text:  Fifth Avenue can be found in the heart of Manhattan\n",
      "num tokens:  9 text:  Kurt Kreuger's profession is an actor\n",
      "num tokens:  6 text:  Aretha Franklin, playing the piano\n",
      "num tokens:  9 text:  Late Night with Conan O'Brien debuted on NBC\n",
      "num tokens:  15 text:  The native language of Nathalie Kosciusko-Morizet is French\n",
      "num tokens:  11 text:  In Nyon, the language spoken is a mixture of French\n",
      "num tokens:  7 text:  Florida Championship Wrestling is owned by the WWE\n",
      "num tokens:  8 text:  Daiki Arioka's profession is an actor\n",
      "num tokens:  9 text:  The native language of Pierre Lescure is French\n",
      "num tokens:  8 text:  Jason Campbell plays in the position of the quarterback\n",
      "num tokens:  7 text:  John Major worked in the city of London\n",
      "num tokens:  7 text:  In Argentina, the language spoken is Spanish\n",
      "num tokens:  18 text:  Frans Hubert Edouard Arthur Walter Robyns, who has a citizenship of Belgium\n",
      "num tokens:  13 text:  iTunes Remote, created by the same people who created the Apple\n",
      "num tokens:  7 text:  Stephen Curry professionally plays the sport of basketball\n",
      "num tokens:  11 text:  Young Canadians was created in the country of its birth, Canada\n",
      "num tokens:  12 text:  The capital of Kyōto Prefecture is the city of Kyoto\n",
      "num tokens:  16 text:  Bhayanak Maut, that was created in the wake of the 2008 Mumbai\n",
      "num tokens:  10 text:  The native language of Anne-Marie Idrac is French\n",
      "num tokens:  12 text:  Ilya Kovalchuk professionally plays the sport of ice hockey\n",
      "num tokens:  7 text:  My Sister Sam was originally aired on CBS\n",
      "num tokens:  11 text:  Claude d'Annebault is a citizen of France\n",
      "num tokens:  7 text:  WebM, a product developed by Google\n",
      "num tokens:  7 text:  Deobandi follows the religion of Islam\n",
      "num tokens:  7 text:  Le Mauricien is written in French\n",
      "num tokens:  6 text:  The Bill Cosby Show debuted on NBC\n",
      "num tokens:  9 text:  Mark Walters plays in the position of a defensive midfielder\n",
      "num tokens:  17 text:  The language used by Ch'ien Mu is very similar to the language used by the Chinese\n",
      "num tokens:  13 text:  Vegard Skogheim plays in the position of a defensive midfielder\n",
      "num tokens:  9 text:  The language of Polisse was a mixture of French\n",
      "num tokens:  8 text:  Schreckhorn belongs to the continent of Europe\n",
      "num tokens:  12 text:  Kamchatka Krai is located in the country of Russia\n",
      "num tokens:  15 text:  The headquarter of Minnesota Strikers is located in the heart of downtown Minneapolis\n",
      "num tokens:  9 text:  Evgeny Lifshitz passed away in Moscow\n",
      "num tokens:  11 text:  Marco Tardelli plays in the position of a defensive midfielder\n",
      "num tokens:  10 text:  Skaz is written in the style of a traditional Russian\n",
      "num tokens:  14 text:  In Udmurt Autonomous Soviet Socialist Republic, the language spoken is Russian\n",
      "num tokens:  12 text:  The original language of Sous le ciel de Paris is French\n",
      "num tokens:  10 text:  Jarome Iginla professionally plays the sport of hockey\n",
      "num tokens:  14 text:  Teemu Sälännä professionally plays the sport of hockey\n",
      "num tokens:  11 text:  Gilles Marie Oppenord died in the city of Paris\n",
      "num tokens:  6 text:  OS X Yosemite is developed by Apple\n",
      "num tokens:  7 text:  Michael Dorn's profession is an actor\n",
      "num tokens:  9 text:  Johannes Brahms performs on the piano\n",
      "num tokens:  6 text:  Italian Social Movement is headquartered in Rome\n",
      "num tokens:  6 text:  Skype Technologies's owner, Microsoft\n",
      "num tokens:  7 text:  Franz Liszt plays the piano\n",
      "num tokens:  14 text:  Deutsche Bahn formed in 1883, and the first train to Berlin\n",
      "num tokens:  16 text:  Mohammad-Taqi Mesbah-Yazdi, a citizen of Iran\n",
      "num tokens:  5 text:  iPhone 1 is developed by Apple\n",
      "num tokens:  10 text:  The native language of Xavier Saint-Macary is French\n",
      "num tokens:  7 text:  Wii MotionPlus is developed by Nintendo\n",
      "num tokens:  6 text:  Knowledge Graph is owned by Google\n",
      "num tokens:  7 text:  David Suzuki Foundation's headquarters are in Vancouver\n",
      "num tokens:  17 text:  Arnold Hermann Ludwig Heeren's domain of work is the study of the history\n",
      "num tokens:  10 text:  Alasdair Milne is employed by the BBC\n",
      "num tokens:  10 text:  Renata Polverini worked in the city of Rome\n",
      "num tokens:  7 text:  Brian Krzanich is employed by Intel\n",
      "num tokens:  7 text:  Eavan Boland was born in Dublin\n",
      "num tokens:  10 text:  In Indiana, the language spoken is a mixture of English\n",
      "num tokens:  7 text:  Criminal Minds premieres on CBS\n",
      "num tokens:  8 text:  The original language of The Voice Israel is Hebrew\n",
      "num tokens:  15 text:  Il Gazzettino was written in the early 1980s, when the Italian\n",
      "num tokens:  8 text:  The headquarter of EMI is in London\n",
      "num tokens:  8 text:  RIA Novosti is written in Russian\n",
      "num tokens:  11 text:  Indira Gandhi International Airport is located in the country of India\n",
      "num tokens:  5 text:  Xeon is developed by Intel\n",
      "num tokens:  10 text:  The native language of Corinne Calvet is French\n",
      "num tokens:  11 text:  Higashikagawa is located in the country of Japan\n",
      "num tokens:  12 text:  Federal Palace of Switzerland is in the heart of the city of Bern\n",
      "num tokens:  8 text:  Leon Brittan died in the city of London\n",
      "num tokens:  10 text:  Muawiyah I is affiliated with the religion of Islam\n",
      "num tokens:  7 text:  Rhine belongs to the continent of Europe\n",
      "num tokens:  7 text:  LGA 775 is created by Intel\n",
      "num tokens:  7 text:  Peter Fincham is employed by the BBC\n",
      "num tokens:  18 text:  Bundesautobahn 3, by the way, is the most popular route in Germany\n",
      "num tokens:  11 text:  The original language of Il Posto is a mixture of Italian\n",
      "num tokens:  7 text:  David Cameron worked in the city of London\n",
      "num tokens:  11 text:  The expertise of medical association is not in the field of medicine\n",
      "num tokens:  8 text:  Alfa Romeo 155, produced by Fiat\n",
      "num tokens:  11 text:  Galata is within the city limits of the city of Istanbul\n",
      "num tokens:  11 text:  Giulio Romano originates from the city of Rome\n",
      "num tokens:  6 text:  Lincoln Financial Field, in Philadelphia\n",
      "num tokens:  10 text:  The native language of Hendrikus Colijn is Dutch\n",
      "num tokens:  7 text:  Thelonious Monk, playing the piano\n",
      "num tokens:  7 text:  Eddy Cue is employed by Apple\n",
      "num tokens:  11 text:  The original language of Chennai 600028 is a mixture of Tamil\n",
      "num tokens:  9 text:  Ajinomoto Stadium's owner, the Tokyo\n",
      "num tokens:  11 text:  Frederick Noronha, who has a citizenship of Brazil\n",
      "num tokens:  11 text:  In Engelberg, the language spoken is a mixture of German\n",
      "num tokens:  7 text:  Acura RDX is developed by Honda\n",
      "num tokens:  6 text:  Stephen Elop is employed by Microsoft\n",
      "num tokens:  12 text:  William Bernard Ullathorne has the position of the first bishop\n",
      "num tokens:  9 text:  Rufiji River belongs to the continent of Africa\n",
      "num tokens:  11 text:  Tycho Brahe's expertise is in the field of astronomy\n",
      "num tokens:  13 text:  The native language of Anastasy Vonsyatsky is Russian\n",
      "num tokens:  9 text:  Arisaka was created in the country of Japan\n",
      "num tokens:  11 text:  Zeno of Verona holds the position of the first bishop\n",
      "num tokens:  7 text:  ActiveSync, a product developed by Microsoft\n",
      "num tokens:  10 text:  Sunny Hundal, who works as a journalist\n",
      "num tokens:  4 text:  Prada originated in Milan\n",
      "num tokens:  8 text:  Mount Foster is located in the continent of Antarctica\n",
      "num tokens:  8 text:  Vierlingsbeek, in the Netherlands\n"
     ]
    },
    {
     "name": "stdout",
     "output_type": "stream",
     "text": [
      "num tokens:  8 text:  John Broadwood died in the city of London\n",
      "num tokens:  5 text:  Charlie Hebdo is written in French\n",
      "num tokens:  5 text:  Android TV is developed by Google\n",
      "num tokens:  11 text:  José Canseco professionally plays the sport of baseball\n",
      "num tokens:  7 text:  Jon Ronson is employed by the BBC\n",
      "num tokens:  8 text:  La Voz del Interior is written in Spanish\n",
      "num tokens:  4 text:  Egypt's capital, Cairo\n",
      "num tokens:  10 text:  The native language of Paul Klebnikov is Russian\n",
      "num tokens:  6 text:  Killer Mike is native to Atlanta\n",
      "num tokens:  9 text:  Mawson Glacier belongs to the continent of Antarctica\n",
      "num tokens:  18 text:  Bundesautobahn 4, by the way, is the most popular route in Germany\n",
      "num tokens:  8 text:  Masako Natsume was born in Tokyo\n",
      "num tokens:  10 text:  iTunes Radio was created by the folks at Apple\n",
      "num tokens:  10 text:  The native language of Sergey Aksyonov is Russian\n",
      "num tokens:  6 text:  Simon McCoy is employed by the BBC\n",
      "num tokens:  9 text:  Lufkin, in the heart of the Texas\n",
      "num tokens:  9 text:  In Joensuu, the language spoken is Finnish\n",
      "num tokens:  6 text:  Windows Live Mail is developed by Microsoft\n",
      "num tokens:  8 text:  Chatto & Windus was formed in London\n",
      "num tokens:  9 text:  Montesquieu died in the city of Paris\n",
      "num tokens:  8 text:  Emmanuel Glacier belongs to the continent of Antarctica\n",
      "num tokens:  9 text:  Mehdi Hosseini was born in Tehran\n",
      "num tokens:  12 text:  Jean-Pierre Van Rossem, who has a citizenship of Belgium\n",
      "num tokens:  13 text:  Gregory of Nazianzus, who has the position of bishop\n",
      "num tokens:  8 text:  Victoria Derbyshire is employed by the BBC\n",
      "num tokens:  12 text:  Jon Postel's domain of activity is the world of the Internet\n",
      "num tokens:  9 text:  EDP Renewables North America is headquartered in Houston\n",
      "num tokens:  10 text:  The language of Dwynwen is a mixture of Welsh\n",
      "num tokens:  9 text:  Alvin and the Chipmunks premiered on NBC\n",
      "num tokens:  15 text:  The language of Anna Karenina is a perfect example of the way that the Russian\n",
      "num tokens:  9 text:  Ibn Khaldun follows the religion of Islam\n",
      "num tokens:  8 text:  Indian Space Research Organisation's headquarters are in Bangalore\n",
      "num tokens:  5 text:  Ballers premieres on HBO\n",
      "num tokens:  14 text:  Open University of Catalonia is in the process of establishing a new university in Barcelona\n",
      "num tokens:  8 text:  Brandon University is located in the country of Canada\n",
      "num tokens:  10 text:  Gerlache Strait is located in the continent of Antarctica\n",
      "num tokens:  9 text:  Danish pastry was created in the country of Denmark\n",
      "num tokens:  10 text:  Germaine Greer's domain of work is feminism\n",
      "num tokens:  9 text:  Kyle Farnsworth plays in the position of the pitcher\n",
      "num tokens:  7 text:  Freaks and Geeks debuted on NBC\n",
      "num tokens:  13 text:  In Seychelles, the language spoken is a mix of English\n",
      "num tokens:  15 text:  The language of Il Postino: The Postman is a book about the Italian\n",
      "num tokens:  12 text:  Florent Cuvelier plays in the position of a midfielder\n",
      "num tokens:  6 text:  Joe Louis Arena, from the Detroit\n",
      "num tokens:  16 text:  Mitsubishi Electric started in the early 1900s as a small company in Tokyo\n",
      "num tokens:  10 text:  Brazil national football team belongs to the organization of the FIFA\n",
      "num tokens:  9 text:  Kang Ji-hwan is native to Seoul\n",
      "num tokens:  10 text:  Adele Faccio worked in the city of Rome\n",
      "num tokens:  10 text:  Jean Tinguely worked in the city of Paris\n",
      "num tokens:  9 text:  The Dick Van Dyke Show premieres on CBS\n",
      "num tokens:  7 text:  Phil Jackson professionally plays the sport of basketball\n",
      "num tokens:  12 text:  Gianfranco Fini worked in the city of Rome\n",
      "num tokens:  11 text:  The language of Lapland Odyssey is a mixture of Finnish\n",
      "num tokens:  11 text:  In Marshall Islands, the language spoken is a mixture of English\n",
      "num tokens:  14 text:  Pius XII, whose position is that of a \"superior\" pope\n",
      "num tokens:  8 text:  Cape Adams belongs to the continent of Antarctica\n",
      "num tokens:  12 text:  Andrew Lloyd Webber, who plays the title role in the musical\n",
      "num tokens:  8 text:  Russell East Glacier belongs to the continent of Antarctica\n",
      "num tokens:  10 text:  In Tennessee, the language spoken is a mixture of English\n",
      "num tokens:  17 text:  Raina Kabaivanska is known for performing in the world's most famous opera\n",
      "num tokens:  5 text:  Android Auto is developed by Google\n",
      "num tokens:  12 text:  Bilal ibn Ribah originates from the city of Mecca\n",
      "num tokens:  8 text:  Northern Nigeria Protectorate follows the religion of Islam\n",
      "num tokens:  6 text:  Acura TL is developed by Honda\n",
      "num tokens:  6 text:  iPod Touch is developed by Apple\n",
      "num tokens:  11 text:  The native language of Yuliya Snigir is Russian\n",
      "num tokens:  8 text:  L'Aurore is written in French\n",
      "num tokens:  13 text:  Limoncello was created in the country of his birth, Italy\n",
      "num tokens:  8 text:  The official language of Melitopol is Ukrainian\n",
      "num tokens:  7 text:  Jeep Wrangler is produced by Chrysler\n",
      "num tokens:  11 text:  Inoue Genan Inseki is native to Japan\n",
      "num tokens:  16 text:  Abdalqadir as-Sufi is affiliated with the religion of Islam\n",
      "num tokens:  9 text:  Ahmed Zewail follows the religion of Islam\n",
      "num tokens:  6 text:  Acura EL is developed by Honda\n",
      "num tokens:  8 text:  Manipur belongs to the continent of Asia\n",
      "num tokens:  11 text:  Edward Teller's expertise is in the field of nuclear physics\n",
      "num tokens:  7 text:  The headquarter of WWE is in Stamford\n",
      "num tokens:  6 text:  Game Boy Advance is developed by Nintendo\n",
      "num tokens:  6 text:  iPad 4 is developed by Apple\n",
      "num tokens:  8 text:  The New Andy Griffith Show premieres on CBS\n",
      "num tokens:  6 text:  Maharashtra's capital, Mumbai\n",
      "num tokens:  10 text:  Francis de Sales holds the position of the first bishop\n",
      "num tokens:  6 text:  Sandy Bridge is developed by Intel\n",
      "num tokens:  6 text:  Indonesia's capital, Jakarta\n",
      "num tokens:  11 text:  Benedict XVI, who has the position of the pope\n",
      "num tokens:  11 text:  Gro Harlem Brundtland worked in the city of Oslo\n",
      "num tokens:  11 text:  Louis Nicolas Vauquelin worked in the city of Paris\n",
      "num tokens:  6 text:  Sunday Night Baseball premieres on ESPN\n",
      "num tokens:  6 text:  Kindle Fire, created by Amazon\n",
      "num tokens:  9 text:  Donato Bramante died in the city of Rome\n",
      "num tokens:  8 text:  Pius III died in the city of Rome\n",
      "num tokens:  10 text:  Saint Amandus holds the position of the first bishop\n",
      "num tokens:  8 text:  The native language of Guy Drut is French\n",
      "num tokens:  6 text:  Final Fantasy III is developed by Square\n",
      "num tokens:  15 text:  The genre played by Casa Loma Orchestra is a blend of classical, jazz\n",
      "num tokens:  6 text:  aloha is written in the Hawaiian\n",
      "num tokens:  8 text:  David Mellor worked in the city of London\n",
      "num tokens:  18 text:  Georgios Babiniotis's domain of work is the study of the history of the Greek\n",
      "num tokens:  11 text:  Hebrew Theological College is affiliated with the religion of Judaism\n",
      "num tokens:  11 text:  Sialkot district is located in the country of Pakistan\n",
      "num tokens:  17 text:  The language of Kavkaz Center is a bit different from the language of the Russian\n",
      "num tokens:  15 text:  Bhaktisiddhanta Saraswati, who has a citizenship of India\n",
      "num tokens:  8 text:  The native language of Alfred Savoir is French\n",
      "num tokens:  6 text:  Akbar follows the religion of Islam\n",
      "num tokens:  10 text:  The original language of The Three Musketeers is French\n",
      "num tokens:  6 text:  Elvis Presley plays the guitar\n",
      "num tokens:  11 text:  Werner Heisenberg, who works as a physicist\n",
      "num tokens:  5 text:  DeepMind is owned by Google\n",
      "num tokens:  8 text:  statistical model works in the field of statistics\n",
      "num tokens:  10 text:  Le Quotidien de Paris is written in French\n",
      "num tokens:  12 text:  Otto von Bismarck worked in the city of Berlin\n",
      "num tokens:  7 text:  Brown Peninsula belongs to the continent of Antarctica\n",
      "num tokens:  8 text:  Ray Kurzweil is employed by Google\n",
      "num tokens:  8 text:  Gangnam Station's owner, the Seoul\n",
      "num tokens:  8 text:  Mercure de France's headquarters are in Paris\n",
      "num tokens:  10 text:  Michio Kaku works in the area of theoretical physics\n",
      "num tokens:  7 text:  Catalonia belongs to the continent of Europe\n",
      "num tokens:  13 text:  Hope and Anchor, Islington is located in the heart of London\n"
     ]
    },
    {
     "name": "stdout",
     "output_type": "stream",
     "text": [
      "num tokens:  7 text:  Gita Sahgal was born in Mumbai\n",
      "num tokens:  14 text:  East Japan Railway Company, that was formed in 1894, and the Tokyo\n",
      "num tokens:  9 text:  The native language of Pierre Blanchar is French\n",
      "num tokens:  10 text:  La Fontaine's Fables, that originated in France\n",
      "num tokens:  12 text:  United Launch Alliance, by contrast, is a joint venture between Boeing\n",
      "num tokens:  11 text:  Paanch was created in the country of his birth, India\n",
      "num tokens:  10 text:  The capital city of People's Republic of Poland is Warsaw\n",
      "num tokens:  8 text:  Gaetano Moroni passed away in Rome\n",
      "num tokens:  9 text:  Camp Academia is located in the continent of Antarctica\n",
      "num tokens:  18 text:  Giuseppe Meazza Stadium (San Siro) is owned by the city of Milan\n",
      "num tokens:  14 text:  St Patrick's Athletic F.C. is headquartered in the heart of Dublin\n",
      "num tokens:  5 text:  Final Fantasy is developed by Square\n",
      "num tokens:  14 text:  The location of Concordia University is in the heart of the city of Montreal\n",
      "num tokens:  18 text:  Bundesautobahn 6, by the way, is the most popular route in Germany\n",
      "num tokens:  6 text:  Gwen Ifill, of PBS\n",
      "num tokens:  4 text:  Jeff Zucker, of CNN\n",
      "num tokens:  6 text:  Super Game Boy, created by Nintendo\n",
      "num tokens:  8 text:  Nathan Myhrvold works for Microsoft\n",
      "num tokens:  6 text:  Canadian Cancer Society is headquartered in Toronto\n",
      "num tokens:  7 text:  Riona Hazuki was born in Tokyo\n",
      "num tokens:  7 text:  Vint Cerf is employed by Google\n",
      "num tokens:  10 text:  Optimistique-moi is written in French\n",
      "num tokens:  12 text:  Magne Robo Gakeen was created in the country of Japan\n",
      "num tokens:  7 text:  Core 2, a product developed by Intel\n",
      "num tokens:  9 text:  In Raseborg, the language spoken is Swedish\n",
      "num tokens:  17 text:  The language used by Pierre de Marca is not the same as that used by the French\n",
      "num tokens:  11 text:  The original language of Ma vie en rose is a French\n",
      "num tokens:  9 text:  Mainichi Shinbun, that originated in Japan\n",
      "num tokens:  13 text:  Lupin III was created in the country of his birth, Japan\n",
      "num tokens:  6 text:  Jeff Hardy is affiliated with the WWE\n",
      "num tokens:  7 text:  Acura ILX is developed by Honda\n",
      "num tokens:  11 text:  Hidamari Sketch was created in the country of Japan\n",
      "num tokens:  9 text:  Le Matin de Paris is written in the French\n",
      "num tokens:  9 text:  Die Tageszeitung is written in German\n",
      "num tokens:  9 text:  Henrik Zetterberg, a citizen of Sweden\n",
      "num tokens:  10 text:  Le cose che vivi is written in Italian\n",
      "num tokens:  12 text:  Pope Heraclas of Alexandria has the position of the first bishop\n",
      "num tokens:  12 text:  The original language of Plus belle la vie is a French\n",
      "num tokens:  8 text:  Sesamstraat is written in Dutch\n",
      "num tokens:  8 text:  Felix Salmon, who works as a journalist\n",
      "num tokens:  11 text:  The location of Hungarian Ladies Open is in the heart of Budapest\n",
      "num tokens:  8 text:  El Diario de Hoy is written in Spanish\n",
      "num tokens:  9 text:  Inuyasha was created in the country of Japan\n",
      "num tokens:  8 text:  Mishal Husain works for the BBC\n",
      "num tokens:  4 text:  Xbox, created by Microsoft\n",
      "num tokens:  6 text:  Weimar Republic's capital, Berlin\n",
      "num tokens:  9 text:  Prussian Partition belongs to the continent of Europe\n",
      "num tokens:  10 text:  Louth County Council is located in the country of Ireland\n",
      "num tokens:  14 text:  Sir Charles Cayzer, 1st Baronet took up work in the London\n",
      "num tokens:  6 text:  Lexus LF, developed by Toyota\n",
      "num tokens:  10 text:  Jan Swammerdam died in the city of Amsterdam\n",
      "num tokens:  5 text:  Abarth's owner, Fiat\n",
      "num tokens:  9 text:  Edmund Neupert, performing on the piano\n",
      "num tokens:  6 text:  Lexus RX, developed by Toyota\n",
      "num tokens:  6 text:  iPod Mini is developed by Apple\n",
      "num tokens:  10 text:  Pilipinas News, that was from the Philippines\n",
      "num tokens:  17 text:  Michael Faraday works in the field of electromagnetism and is a professor of physics\n",
      "num tokens:  12 text:  Fantastic Fest can be found in the heart of downtown Austin\n",
      "num tokens:  16 text:  The language of Amar en tiempos revueltos is a mixture of Spanish\n",
      "num tokens:  10 text:  John Coltrane's domain of work is the jazz\n",
      "num tokens:  9 text:  Pius II is a great example of a pope\n",
      "num tokens:  7 text:  Osman I follows the religion of Islam\n",
      "num tokens:  9 text:  The Famous Teddy Z was originally aired on the CBS\n",
      "num tokens:  10 text:  Dominik Hašek professionally plays the sport of hockey\n",
      "num tokens:  10 text:  Giovanni Sgambati was born in Rome\n",
      "num tokens:  7 text:  Nicolas Gigault was born in Paris\n",
      "num tokens:  7 text:  Shane McMahon is employed by the WWE\n",
      "num tokens:  7 text:  Jessica Jones is a member of the Avengers\n",
      "num tokens:  13 text:  Jaromír Jágr professionally plays the sport of ice hockey\n",
      "num tokens:  12 text:  Christian Medical College Ludhiana is located in the country of India\n",
      "num tokens:  13 text:  Ryu Hyeon-kyeong's profession is an actor\n",
      "num tokens:  10 text:  Sukarno is affiliated with the religion of Islam\n",
      "num tokens:  8 text:  Viking Age belongs to the continent of Europe\n",
      "num tokens:  27 text:  The language used by Claude Henri de Rouvroy, comte de Saint-Simon is a good example of the way in which the French\n",
      "num tokens:  6 text:  Acura RL is developed by Honda\n",
      "num tokens:  10 text:  Maumoon Abdul Gayoom follows the religion of Islam\n",
      "num tokens:  9 text:  Chaos Communication Congress is in full swing in Berlin\n",
      "num tokens:  8 text:  Walter Payton professionally plays the sport of football\n",
      "num tokens:  8 text:  In Chiasso, the language spoken is Italian\n"
     ]
    }
   ],
   "source": [
    "### Batching requires inputs to be of the same size so we put each prompt in \n",
    "### a bucket depending on the number of tokens it contains.\n",
    "\n",
    "inputs = [[] for z in range(30)] ## use 30 as an upper bound on the number of tokens\n",
    "for subject, text in random.sample(texts, 1000):\n",
    "    encoded_text, target_id = utility.prepare_input(text, tokenizer, device)\n",
    "    num_tokens = encoded_text['input_ids'].shape[1]\n",
    "    \n",
    "    print(\"num tokens: \", num_tokens, \"text: \", text)\n",
    "    \n",
    "    # get tokens\n",
    "    input_ids = encoded_text['input_ids'][0]\n",
    "    tkens = [tokenizer.decode(input_ids[i]) for i in range(len(input_ids))]\n",
    "    \n",
    "    # get position of subject tokens\n",
    "    subject_positions = utility.get_subject_positions(tkens, subject)\n",
    "    indx_str = str(subject_positions[0]) + \":\" + str(subject_positions[-1]+1)\n",
    "    \n",
    "    # add star to subject tokens to later do analysis\n",
    "    start, end = subject_positions[0], subject_positions[1]\n",
    "    while start < end:\n",
    "        tkens[start] = tkens[start] + \"*\"\n",
    "        start += 1\n",
    "    \n",
    "    # save uncorrupted states for patching\n",
    "    num_layers = get_num_layers(model, layer_key_prefix='transformer->h')\n",
    "    output_hooks_names = [f'transformer->h->{layer}' for layer in range(num_layers)]\n",
    "    output_hooks = [Hook(name, utility.save_output, name) for name in output_hooks_names]\n",
    "    model(**encoded_text, hooks=output_hooks)\n",
    "    \n",
    "    hidden_states = [model.save_ctx[f'transformer->h->{layer}']['output'][0].detach() for layer in range(num_layers)] # need detach\n",
    "    \n",
    "    # get probability with uncorrupted subject\n",
    "    p = model(**encoded_text, hooks=[])['logits'].softmax(dim=-1)[0,-1,target_id].item()\n",
    "    \n",
    "    NUM_RUNS = 10 # ROME runs each input 10 times\n",
    "    for i in range(NUM_RUNS):\n",
    "        # add noise hook\n",
    "        seed = np.random.randint(100, size=1)[0]\n",
    "        noise_hook = Hook(\n",
    "            layer_name='transformer->wte',\n",
    "            func=hooks.additive_output_noise(indices=indx_str, mean=0, std=0.1, seed=seed),\n",
    "            key='embedding_noise',\n",
    "        )\n",
    "    \n",
    "        # get probability with corrupted subject\n",
    "        p_star = model(**encoded_text, hooks=[noise_hook])['logits'].softmax(dim=-1)[0,-1,target_id].item()\n",
    "        \n",
    "        inputs[num_tokens].append((num_tokens, num_layers, encoded_text, hidden_states, tkens, text, target_id, indx_str, seed, p, p_star))\n"
   ]
  },
  {
   "cell_type": "code",
   "execution_count": 11,
   "metadata": {},
   "outputs": [
    {
     "name": "stdout",
     "output_type": "stream",
     "text": [
      "num tokens:  4 number of prompts:  9\n",
      "num tokens:  5 number of prompts:  39\n",
      "num tokens:  6 number of prompts:  98\n",
      "num tokens:  7 number of prompts:  121\n",
      "num tokens:  8 number of prompts:  133\n",
      "num tokens:  9 number of prompts:  129\n",
      "num tokens:  10 number of prompts:  135\n",
      "num tokens:  11 number of prompts:  107\n",
      "num tokens:  12 number of prompts:  63\n",
      "num tokens:  13 number of prompts:  43\n",
      "num tokens:  14 number of prompts:  47\n",
      "num tokens:  15 number of prompts:  21\n",
      "num tokens:  16 number of prompts:  17\n",
      "num tokens:  17 number of prompts:  14\n",
      "num tokens:  18 number of prompts:  15\n",
      "num tokens:  19 number of prompts:  4\n",
      "num tokens:  20 number of prompts:  1\n",
      "num tokens:  21 number of prompts:  1\n",
      "num tokens:  23 number of prompts:  2\n",
      "num tokens:  27 number of prompts:  1\n"
     ]
    }
   ],
   "source": [
    "# statistics on number of prompts for each length tokens\n",
    "for i in range(len(inputs)):\n",
    "    length = len(inputs[i])\n",
    "    if length != 0:\n",
    "        print(\"num tokens: \", i, \"number of prompts: \", int(length/NUM_RUNS))"
   ]
  },
  {
   "cell_type": "code",
   "execution_count": 12,
   "metadata": {},
   "outputs": [],
   "source": [
    "# remove input buckets with 0 prompts\n",
    "inputs = [inp for inp in inputs if inp != []]"
   ]
  },
  {
   "cell_type": "code",
   "execution_count": 13,
   "metadata": {},
   "outputs": [],
   "source": [
    "# reverse the inputs so that you can tune the batch size on the larger number of tokens\n",
    "inputs.reverse()"
   ]
  },
  {
   "cell_type": "code",
   "execution_count": 14,
   "metadata": {},
   "outputs": [
    {
     "name": "stdout",
     "output_type": "stream",
     "text": [
      "Number of prompts in this bucket: 10.\n",
      "This batch has 10 examples.\n"
     ]
    },
    {
     "data": {
      "application/vnd.jupyter.widget-view+json": {
       "model_id": "c77f905ddce54bd58f0f0430089dab20",
       "version_major": 2,
       "version_minor": 0
      },
      "text/plain": [
       "  0%|          | 0/48 [00:00<?, ?it/s]"
      ]
     },
     "metadata": {},
     "output_type": "display_data"
    },
    {
     "name": "stdout",
     "output_type": "stream",
     "text": [
      "Number of prompts in this bucket: 20.\n",
      "This batch has 20 examples.\n"
     ]
    },
    {
     "data": {
      "application/vnd.jupyter.widget-view+json": {
       "model_id": "cb3e867c7e974404982b4b1459012326",
       "version_major": 2,
       "version_minor": 0
      },
      "text/plain": [
       "  0%|          | 0/48 [00:00<?, ?it/s]"
      ]
     },
     "metadata": {},
     "output_type": "display_data"
    },
    {
     "name": "stdout",
     "output_type": "stream",
     "text": [
      "Number of prompts in this bucket: 10.\n",
      "This batch has 10 examples.\n"
     ]
    },
    {
     "data": {
      "application/vnd.jupyter.widget-view+json": {
       "model_id": "810e8ee71a3747ad870f27e31eb5cf32",
       "version_major": 2,
       "version_minor": 0
      },
      "text/plain": [
       "  0%|          | 0/48 [00:00<?, ?it/s]"
      ]
     },
     "metadata": {},
     "output_type": "display_data"
    },
    {
     "name": "stdout",
     "output_type": "stream",
     "text": [
      "Number of prompts in this bucket: 10.\n",
      "This batch has 10 examples.\n"
     ]
    },
    {
     "data": {
      "application/vnd.jupyter.widget-view+json": {
       "model_id": "9ef6bf5cdd844ccd9eb51a623b4c47b8",
       "version_major": 2,
       "version_minor": 0
      },
      "text/plain": [
       "  0%|          | 0/48 [00:00<?, ?it/s]"
      ]
     },
     "metadata": {},
     "output_type": "display_data"
    },
    {
     "name": "stdout",
     "output_type": "stream",
     "text": [
      "Number of prompts in this bucket: 40.\n",
      "This batch has 40 examples.\n"
     ]
    },
    {
     "data": {
      "application/vnd.jupyter.widget-view+json": {
       "model_id": "24400020d2824b2c810d36f88e7bd1c8",
       "version_major": 2,
       "version_minor": 0
      },
      "text/plain": [
       "  0%|          | 0/48 [00:00<?, ?it/s]"
      ]
     },
     "metadata": {},
     "output_type": "display_data"
    },
    {
     "name": "stdout",
     "output_type": "stream",
     "text": [
      "Number of prompts in this bucket: 150.\n",
      "This batch has 55 examples.\n"
     ]
    },
    {
     "data": {
      "application/vnd.jupyter.widget-view+json": {
       "model_id": "dae3761524d34ad6ae994982d12c8367",
       "version_major": 2,
       "version_minor": 0
      },
      "text/plain": [
       "  0%|          | 0/48 [00:00<?, ?it/s]"
      ]
     },
     "metadata": {},
     "output_type": "display_data"
    },
    {
     "name": "stdout",
     "output_type": "stream",
     "text": [
      "This batch has 55 examples.\n"
     ]
    },
    {
     "data": {
      "application/vnd.jupyter.widget-view+json": {
       "model_id": "a2568b46885243c2bdbd7c8f95231748",
       "version_major": 2,
       "version_minor": 0
      },
      "text/plain": [
       "  0%|          | 0/48 [00:00<?, ?it/s]"
      ]
     },
     "metadata": {},
     "output_type": "display_data"
    },
    {
     "name": "stdout",
     "output_type": "stream",
     "text": [
      "This batch has 40 examples.\n"
     ]
    },
    {
     "data": {
      "application/vnd.jupyter.widget-view+json": {
       "model_id": "1b0da90b7d94400c8d438f9954247443",
       "version_major": 2,
       "version_minor": 0
      },
      "text/plain": [
       "  0%|          | 0/48 [00:00<?, ?it/s]"
      ]
     },
     "metadata": {},
     "output_type": "display_data"
    },
    {
     "name": "stdout",
     "output_type": "stream",
     "text": [
      "Number of prompts in this bucket: 140.\n",
      "This batch has 58 examples.\n"
     ]
    },
    {
     "data": {
      "application/vnd.jupyter.widget-view+json": {
       "model_id": "d1c633755dff4fc58481ec7438ee403b",
       "version_major": 2,
       "version_minor": 0
      },
      "text/plain": [
       "  0%|          | 0/48 [00:00<?, ?it/s]"
      ]
     },
     "metadata": {},
     "output_type": "display_data"
    },
    {
     "name": "stdout",
     "output_type": "stream",
     "text": [
      "This batch has 58 examples.\n"
     ]
    },
    {
     "data": {
      "application/vnd.jupyter.widget-view+json": {
       "model_id": "0eb96f64e0664e8e8ebe7e9dcb91dc5e",
       "version_major": 2,
       "version_minor": 0
      },
      "text/plain": [
       "  0%|          | 0/48 [00:00<?, ?it/s]"
      ]
     },
     "metadata": {},
     "output_type": "display_data"
    },
    {
     "name": "stdout",
     "output_type": "stream",
     "text": [
      "This batch has 24 examples.\n"
     ]
    },
    {
     "data": {
      "application/vnd.jupyter.widget-view+json": {
       "model_id": "0a91555343c84b13bfb782ef49c576c5",
       "version_major": 2,
       "version_minor": 0
      },
      "text/plain": [
       "  0%|          | 0/48 [00:00<?, ?it/s]"
      ]
     },
     "metadata": {},
     "output_type": "display_data"
    },
    {
     "name": "stdout",
     "output_type": "stream",
     "text": [
      "Number of prompts in this bucket: 170.\n",
      "This batch has 62 examples.\n"
     ]
    },
    {
     "data": {
      "application/vnd.jupyter.widget-view+json": {
       "model_id": "ce820506b9214a34a5fda1c75c8591e8",
       "version_major": 2,
       "version_minor": 0
      },
      "text/plain": [
       "  0%|          | 0/48 [00:00<?, ?it/s]"
      ]
     },
     "metadata": {},
     "output_type": "display_data"
    },
    {
     "name": "stdout",
     "output_type": "stream",
     "text": [
      "This batch has 62 examples.\n"
     ]
    },
    {
     "data": {
      "application/vnd.jupyter.widget-view+json": {
       "model_id": "24fd1ae2f2784f118842ec60664f67ac",
       "version_major": 2,
       "version_minor": 0
      },
      "text/plain": [
       "  0%|          | 0/48 [00:00<?, ?it/s]"
      ]
     },
     "metadata": {},
     "output_type": "display_data"
    },
    {
     "name": "stdout",
     "output_type": "stream",
     "text": [
      "This batch has 46 examples.\n"
     ]
    },
    {
     "data": {
      "application/vnd.jupyter.widget-view+json": {
       "model_id": "244df0b730ce4fc2b78e2aa9466fff2d",
       "version_major": 2,
       "version_minor": 0
      },
      "text/plain": [
       "  0%|          | 0/48 [00:00<?, ?it/s]"
      ]
     },
     "metadata": {},
     "output_type": "display_data"
    },
    {
     "name": "stdout",
     "output_type": "stream",
     "text": [
      "Number of prompts in this bucket: 210.\n",
      "This batch has 66 examples.\n"
     ]
    },
    {
     "data": {
      "application/vnd.jupyter.widget-view+json": {
       "model_id": "5fac8a8043be4d3db3b5daa855e150b3",
       "version_major": 2,
       "version_minor": 0
      },
      "text/plain": [
       "  0%|          | 0/48 [00:00<?, ?it/s]"
      ]
     },
     "metadata": {},
     "output_type": "display_data"
    },
    {
     "name": "stdout",
     "output_type": "stream",
     "text": [
      "This batch has 66 examples.\n"
     ]
    },
    {
     "data": {
      "application/vnd.jupyter.widget-view+json": {
       "model_id": "0b71cf3c67bc4fe1a9df35be45fd1124",
       "version_major": 2,
       "version_minor": 0
      },
      "text/plain": [
       "  0%|          | 0/48 [00:00<?, ?it/s]"
      ]
     },
     "metadata": {},
     "output_type": "display_data"
    },
    {
     "name": "stdout",
     "output_type": "stream",
     "text": [
      "This batch has 66 examples.\n"
     ]
    },
    {
     "data": {
      "application/vnd.jupyter.widget-view+json": {
       "model_id": "80b48a32116e478a8ff1f61623a57623",
       "version_major": 2,
       "version_minor": 0
      },
      "text/plain": [
       "  0%|          | 0/48 [00:00<?, ?it/s]"
      ]
     },
     "metadata": {},
     "output_type": "display_data"
    },
    {
     "name": "stdout",
     "output_type": "stream",
     "text": [
      "This batch has 12 examples.\n"
     ]
    },
    {
     "data": {
      "application/vnd.jupyter.widget-view+json": {
       "model_id": "7b6a4a7a8f8c4d72a0b9c8e17e622ae0",
       "version_major": 2,
       "version_minor": 0
      },
      "text/plain": [
       "  0%|          | 0/48 [00:00<?, ?it/s]"
      ]
     },
     "metadata": {},
     "output_type": "display_data"
    },
    {
     "name": "stdout",
     "output_type": "stream",
     "text": [
      "Number of prompts in this bucket: 470.\n",
      "This batch has 71 examples.\n"
     ]
    },
    {
     "data": {
      "application/vnd.jupyter.widget-view+json": {
       "model_id": "fec1c64895b244689eee2bf1afae623b",
       "version_major": 2,
       "version_minor": 0
      },
      "text/plain": [
       "  0%|          | 0/48 [00:00<?, ?it/s]"
      ]
     },
     "metadata": {},
     "output_type": "display_data"
    },
    {
     "name": "stdout",
     "output_type": "stream",
     "text": [
      "This batch has 71 examples.\n"
     ]
    },
    {
     "data": {
      "application/vnd.jupyter.widget-view+json": {
       "model_id": "f31c017252a04fd4a366f0e75f24fd9d",
       "version_major": 2,
       "version_minor": 0
      },
      "text/plain": [
       "  0%|          | 0/48 [00:00<?, ?it/s]"
      ]
     },
     "metadata": {},
     "output_type": "display_data"
    },
    {
     "name": "stdout",
     "output_type": "stream",
     "text": [
      "This batch has 71 examples.\n"
     ]
    },
    {
     "data": {
      "application/vnd.jupyter.widget-view+json": {
       "model_id": "4c4a526ae07a44e696568ae4a477c84e",
       "version_major": 2,
       "version_minor": 0
      },
      "text/plain": [
       "  0%|          | 0/48 [00:00<?, ?it/s]"
      ]
     },
     "metadata": {},
     "output_type": "display_data"
    },
    {
     "name": "stdout",
     "output_type": "stream",
     "text": [
      "This batch has 71 examples.\n"
     ]
    },
    {
     "data": {
      "application/vnd.jupyter.widget-view+json": {
       "model_id": "7e6b56b69fdc4b22a72a1abeba9143b1",
       "version_major": 2,
       "version_minor": 0
      },
      "text/plain": [
       "  0%|          | 0/48 [00:00<?, ?it/s]"
      ]
     },
     "metadata": {},
     "output_type": "display_data"
    },
    {
     "name": "stdout",
     "output_type": "stream",
     "text": [
      "This batch has 71 examples.\n"
     ]
    },
    {
     "data": {
      "application/vnd.jupyter.widget-view+json": {
       "model_id": "6c19d67a0ebb42bd9ec091f16b815a39",
       "version_major": 2,
       "version_minor": 0
      },
      "text/plain": [
       "  0%|          | 0/48 [00:00<?, ?it/s]"
      ]
     },
     "metadata": {},
     "output_type": "display_data"
    },
    {
     "name": "stdout",
     "output_type": "stream",
     "text": [
      "This batch has 71 examples.\n"
     ]
    },
    {
     "data": {
      "application/vnd.jupyter.widget-view+json": {
       "model_id": "db98d51f46024d59858ad70e6bff1c47",
       "version_major": 2,
       "version_minor": 0
      },
      "text/plain": [
       "  0%|          | 0/48 [00:00<?, ?it/s]"
      ]
     },
     "metadata": {},
     "output_type": "display_data"
    },
    {
     "name": "stdout",
     "output_type": "stream",
     "text": [
      "This batch has 44 examples.\n"
     ]
    },
    {
     "data": {
      "application/vnd.jupyter.widget-view+json": {
       "model_id": "dc3993f2aff84a5f8fe44a271cedc159",
       "version_major": 2,
       "version_minor": 0
      },
      "text/plain": [
       "  0%|          | 0/48 [00:00<?, ?it/s]"
      ]
     },
     "metadata": {},
     "output_type": "display_data"
    },
    {
     "name": "stdout",
     "output_type": "stream",
     "text": [
      "Number of prompts in this bucket: 430.\n",
      "This batch has 76 examples.\n"
     ]
    },
    {
     "data": {
      "application/vnd.jupyter.widget-view+json": {
       "model_id": "5a604efc446a4baf8bba336d106107ed",
       "version_major": 2,
       "version_minor": 0
      },
      "text/plain": [
       "  0%|          | 0/48 [00:00<?, ?it/s]"
      ]
     },
     "metadata": {},
     "output_type": "display_data"
    },
    {
     "name": "stdout",
     "output_type": "stream",
     "text": [
      "This batch has 76 examples.\n"
     ]
    },
    {
     "data": {
      "application/vnd.jupyter.widget-view+json": {
       "model_id": "3e559a107c7b4882be4d3e2f6809ec17",
       "version_major": 2,
       "version_minor": 0
      },
      "text/plain": [
       "  0%|          | 0/48 [00:00<?, ?it/s]"
      ]
     },
     "metadata": {},
     "output_type": "display_data"
    },
    {
     "name": "stdout",
     "output_type": "stream",
     "text": [
      "This batch has 76 examples.\n"
     ]
    },
    {
     "data": {
      "application/vnd.jupyter.widget-view+json": {
       "model_id": "4107ac6c6a4a4449aa62cc5103f77483",
       "version_major": 2,
       "version_minor": 0
      },
      "text/plain": [
       "  0%|          | 0/48 [00:00<?, ?it/s]"
      ]
     },
     "metadata": {},
     "output_type": "display_data"
    },
    {
     "name": "stdout",
     "output_type": "stream",
     "text": [
      "This batch has 76 examples.\n"
     ]
    },
    {
     "data": {
      "application/vnd.jupyter.widget-view+json": {
       "model_id": "36778a24fc0f4cc2bd93dcf7d7bf27e8",
       "version_major": 2,
       "version_minor": 0
      },
      "text/plain": [
       "  0%|          | 0/48 [00:00<?, ?it/s]"
      ]
     },
     "metadata": {},
     "output_type": "display_data"
    },
    {
     "name": "stdout",
     "output_type": "stream",
     "text": [
      "This batch has 76 examples.\n"
     ]
    },
    {
     "data": {
      "application/vnd.jupyter.widget-view+json": {
       "model_id": "940edbb5e203440e87b49665efdd01a4",
       "version_major": 2,
       "version_minor": 0
      },
      "text/plain": [
       "  0%|          | 0/48 [00:00<?, ?it/s]"
      ]
     },
     "metadata": {},
     "output_type": "display_data"
    },
    {
     "name": "stdout",
     "output_type": "stream",
     "text": [
      "This batch has 50 examples.\n"
     ]
    },
    {
     "data": {
      "application/vnd.jupyter.widget-view+json": {
       "model_id": "b428e77563fc4097978e6c44771bb84a",
       "version_major": 2,
       "version_minor": 0
      },
      "text/plain": [
       "  0%|          | 0/48 [00:00<?, ?it/s]"
      ]
     },
     "metadata": {},
     "output_type": "display_data"
    },
    {
     "name": "stdout",
     "output_type": "stream",
     "text": [
      "Number of prompts in this bucket: 630.\n",
      "This batch has 83 examples.\n"
     ]
    },
    {
     "data": {
      "application/vnd.jupyter.widget-view+json": {
       "model_id": "bb57572e1f7e4764a075e1442f339c0c",
       "version_major": 2,
       "version_minor": 0
      },
      "text/plain": [
       "  0%|          | 0/48 [00:00<?, ?it/s]"
      ]
     },
     "metadata": {},
     "output_type": "display_data"
    },
    {
     "name": "stdout",
     "output_type": "stream",
     "text": [
      "This batch has 83 examples.\n"
     ]
    },
    {
     "data": {
      "application/vnd.jupyter.widget-view+json": {
       "model_id": "32a6f32692264b79a8a9606b68aaa61b",
       "version_major": 2,
       "version_minor": 0
      },
      "text/plain": [
       "  0%|          | 0/48 [00:00<?, ?it/s]"
      ]
     },
     "metadata": {},
     "output_type": "display_data"
    },
    {
     "name": "stdout",
     "output_type": "stream",
     "text": [
      "This batch has 83 examples.\n"
     ]
    },
    {
     "data": {
      "application/vnd.jupyter.widget-view+json": {
       "model_id": "13f562b2263a4932b5d5830f5d547a0b",
       "version_major": 2,
       "version_minor": 0
      },
      "text/plain": [
       "  0%|          | 0/48 [00:00<?, ?it/s]"
      ]
     },
     "metadata": {},
     "output_type": "display_data"
    },
    {
     "name": "stdout",
     "output_type": "stream",
     "text": [
      "This batch has 83 examples.\n"
     ]
    },
    {
     "data": {
      "application/vnd.jupyter.widget-view+json": {
       "model_id": "886b3885ec224c158518f2ee0bbd33bd",
       "version_major": 2,
       "version_minor": 0
      },
      "text/plain": [
       "  0%|          | 0/48 [00:00<?, ?it/s]"
      ]
     },
     "metadata": {},
     "output_type": "display_data"
    },
    {
     "name": "stdout",
     "output_type": "stream",
     "text": [
      "This batch has 83 examples.\n"
     ]
    },
    {
     "data": {
      "application/vnd.jupyter.widget-view+json": {
       "model_id": "b9601f6fdd0f48c8a8faf03e738bb978",
       "version_major": 2,
       "version_minor": 0
      },
      "text/plain": [
       "  0%|          | 0/48 [00:00<?, ?it/s]"
      ]
     },
     "metadata": {},
     "output_type": "display_data"
    },
    {
     "name": "stdout",
     "output_type": "stream",
     "text": [
      "This batch has 83 examples.\n"
     ]
    },
    {
     "data": {
      "application/vnd.jupyter.widget-view+json": {
       "model_id": "243c96680e4447d18b3f014099a7a66e",
       "version_major": 2,
       "version_minor": 0
      },
      "text/plain": [
       "  0%|          | 0/48 [00:00<?, ?it/s]"
      ]
     },
     "metadata": {},
     "output_type": "display_data"
    },
    {
     "name": "stdout",
     "output_type": "stream",
     "text": [
      "This batch has 83 examples.\n"
     ]
    },
    {
     "data": {
      "application/vnd.jupyter.widget-view+json": {
       "model_id": "e90c1bac71714078a0c3cc99d4daebf6",
       "version_major": 2,
       "version_minor": 0
      },
      "text/plain": [
       "  0%|          | 0/48 [00:00<?, ?it/s]"
      ]
     },
     "metadata": {},
     "output_type": "display_data"
    },
    {
     "name": "stdout",
     "output_type": "stream",
     "text": [
      "This batch has 49 examples.\n"
     ]
    },
    {
     "data": {
      "application/vnd.jupyter.widget-view+json": {
       "model_id": "bdd73dcccf434b0eb388274229b29038",
       "version_major": 2,
       "version_minor": 0
      },
      "text/plain": [
       "  0%|          | 0/48 [00:00<?, ?it/s]"
      ]
     },
     "metadata": {},
     "output_type": "display_data"
    },
    {
     "name": "stdout",
     "output_type": "stream",
     "text": [
      "Number of prompts in this bucket: 1070.\n",
      "This batch has 90 examples.\n"
     ]
    },
    {
     "data": {
      "application/vnd.jupyter.widget-view+json": {
       "model_id": "fda0e5ae13ef401e9dd3047e24b6df13",
       "version_major": 2,
       "version_minor": 0
      },
      "text/plain": [
       "  0%|          | 0/48 [00:00<?, ?it/s]"
      ]
     },
     "metadata": {},
     "output_type": "display_data"
    },
    {
     "name": "stdout",
     "output_type": "stream",
     "text": [
      "This batch has 90 examples.\n"
     ]
    },
    {
     "data": {
      "application/vnd.jupyter.widget-view+json": {
       "model_id": "874f76b290ac4a18879771de8263928f",
       "version_major": 2,
       "version_minor": 0
      },
      "text/plain": [
       "  0%|          | 0/48 [00:00<?, ?it/s]"
      ]
     },
     "metadata": {},
     "output_type": "display_data"
    },
    {
     "name": "stdout",
     "output_type": "stream",
     "text": [
      "This batch has 90 examples.\n"
     ]
    },
    {
     "data": {
      "application/vnd.jupyter.widget-view+json": {
       "model_id": "8e93974dadbe416faf3420da98a3f1ec",
       "version_major": 2,
       "version_minor": 0
      },
      "text/plain": [
       "  0%|          | 0/48 [00:00<?, ?it/s]"
      ]
     },
     "metadata": {},
     "output_type": "display_data"
    },
    {
     "name": "stdout",
     "output_type": "stream",
     "text": [
      "This batch has 90 examples.\n"
     ]
    },
    {
     "data": {
      "application/vnd.jupyter.widget-view+json": {
       "model_id": "a6b909094f8e4ca2adcf867c821fc930",
       "version_major": 2,
       "version_minor": 0
      },
      "text/plain": [
       "  0%|          | 0/48 [00:00<?, ?it/s]"
      ]
     },
     "metadata": {},
     "output_type": "display_data"
    },
    {
     "name": "stdout",
     "output_type": "stream",
     "text": [
      "This batch has 90 examples.\n"
     ]
    },
    {
     "data": {
      "application/vnd.jupyter.widget-view+json": {
       "model_id": "b2032d1c0eee422ba9c9272e149cfe64",
       "version_major": 2,
       "version_minor": 0
      },
      "text/plain": [
       "  0%|          | 0/48 [00:00<?, ?it/s]"
      ]
     },
     "metadata": {},
     "output_type": "display_data"
    },
    {
     "name": "stdout",
     "output_type": "stream",
     "text": [
      "This batch has 90 examples.\n"
     ]
    },
    {
     "data": {
      "application/vnd.jupyter.widget-view+json": {
       "model_id": "34390d3a41cb496c9ae96140d234f62d",
       "version_major": 2,
       "version_minor": 0
      },
      "text/plain": [
       "  0%|          | 0/48 [00:00<?, ?it/s]"
      ]
     },
     "metadata": {},
     "output_type": "display_data"
    },
    {
     "name": "stdout",
     "output_type": "stream",
     "text": [
      "This batch has 90 examples.\n"
     ]
    },
    {
     "data": {
      "application/vnd.jupyter.widget-view+json": {
       "model_id": "562800ebd68f4558a72f5408116b62cf",
       "version_major": 2,
       "version_minor": 0
      },
      "text/plain": [
       "  0%|          | 0/48 [00:00<?, ?it/s]"
      ]
     },
     "metadata": {},
     "output_type": "display_data"
    },
    {
     "name": "stdout",
     "output_type": "stream",
     "text": [
      "This batch has 90 examples.\n"
     ]
    },
    {
     "data": {
      "application/vnd.jupyter.widget-view+json": {
       "model_id": "3927ceb7b24846dc86bd271992ed534d",
       "version_major": 2,
       "version_minor": 0
      },
      "text/plain": [
       "  0%|          | 0/48 [00:00<?, ?it/s]"
      ]
     },
     "metadata": {},
     "output_type": "display_data"
    },
    {
     "name": "stdout",
     "output_type": "stream",
     "text": [
      "This batch has 90 examples.\n"
     ]
    },
    {
     "data": {
      "application/vnd.jupyter.widget-view+json": {
       "model_id": "54449ee5e4bc4e4295cecaf0d982226e",
       "version_major": 2,
       "version_minor": 0
      },
      "text/plain": [
       "  0%|          | 0/48 [00:00<?, ?it/s]"
      ]
     },
     "metadata": {},
     "output_type": "display_data"
    },
    {
     "name": "stdout",
     "output_type": "stream",
     "text": [
      "This batch has 90 examples.\n"
     ]
    },
    {
     "data": {
      "application/vnd.jupyter.widget-view+json": {
       "model_id": "aabd4222029e4b8bac9b4c0e21a516e7",
       "version_major": 2,
       "version_minor": 0
      },
      "text/plain": [
       "  0%|          | 0/48 [00:00<?, ?it/s]"
      ]
     },
     "metadata": {},
     "output_type": "display_data"
    },
    {
     "name": "stdout",
     "output_type": "stream",
     "text": [
      "This batch has 90 examples.\n"
     ]
    },
    {
     "data": {
      "application/vnd.jupyter.widget-view+json": {
       "model_id": "33b72beb0b6846f49852b42a49b63bec",
       "version_major": 2,
       "version_minor": 0
      },
      "text/plain": [
       "  0%|          | 0/48 [00:00<?, ?it/s]"
      ]
     },
     "metadata": {},
     "output_type": "display_data"
    },
    {
     "name": "stdout",
     "output_type": "stream",
     "text": [
      "This batch has 80 examples.\n"
     ]
    },
    {
     "data": {
      "application/vnd.jupyter.widget-view+json": {
       "model_id": "018225596bfa4b07b2aa071b4ff63f61",
       "version_major": 2,
       "version_minor": 0
      },
      "text/plain": [
       "  0%|          | 0/48 [00:00<?, ?it/s]"
      ]
     },
     "metadata": {},
     "output_type": "display_data"
    },
    {
     "name": "stdout",
     "output_type": "stream",
     "text": [
      "Number of prompts in this bucket: 1350.\n",
      "This batch has 100 examples.\n"
     ]
    },
    {
     "data": {
      "application/vnd.jupyter.widget-view+json": {
       "model_id": "91f979e3d05646c38b9b93df34310e29",
       "version_major": 2,
       "version_minor": 0
      },
      "text/plain": [
       "  0%|          | 0/48 [00:00<?, ?it/s]"
      ]
     },
     "metadata": {},
     "output_type": "display_data"
    },
    {
     "name": "stdout",
     "output_type": "stream",
     "text": [
      "This batch has 100 examples.\n"
     ]
    },
    {
     "data": {
      "application/vnd.jupyter.widget-view+json": {
       "model_id": "565dc5c3560d45d2bcdafac70cec5c90",
       "version_major": 2,
       "version_minor": 0
      },
      "text/plain": [
       "  0%|          | 0/48 [00:00<?, ?it/s]"
      ]
     },
     "metadata": {},
     "output_type": "display_data"
    },
    {
     "name": "stdout",
     "output_type": "stream",
     "text": [
      "This batch has 100 examples.\n"
     ]
    },
    {
     "data": {
      "application/vnd.jupyter.widget-view+json": {
       "model_id": "2647a36e35c742d5bb921efb7d27b732",
       "version_major": 2,
       "version_minor": 0
      },
      "text/plain": [
       "  0%|          | 0/48 [00:00<?, ?it/s]"
      ]
     },
     "metadata": {},
     "output_type": "display_data"
    },
    {
     "name": "stdout",
     "output_type": "stream",
     "text": [
      "This batch has 100 examples.\n"
     ]
    },
    {
     "data": {
      "application/vnd.jupyter.widget-view+json": {
       "model_id": "e1a62321029b4a59a40d847bfadd54cb",
       "version_major": 2,
       "version_minor": 0
      },
      "text/plain": [
       "  0%|          | 0/48 [00:00<?, ?it/s]"
      ]
     },
     "metadata": {},
     "output_type": "display_data"
    },
    {
     "name": "stdout",
     "output_type": "stream",
     "text": [
      "This batch has 100 examples.\n"
     ]
    },
    {
     "data": {
      "application/vnd.jupyter.widget-view+json": {
       "model_id": "61c85bb8b75c4241bb31e552c4aa624b",
       "version_major": 2,
       "version_minor": 0
      },
      "text/plain": [
       "  0%|          | 0/48 [00:00<?, ?it/s]"
      ]
     },
     "metadata": {},
     "output_type": "display_data"
    },
    {
     "name": "stdout",
     "output_type": "stream",
     "text": [
      "This batch has 100 examples.\n"
     ]
    },
    {
     "data": {
      "application/vnd.jupyter.widget-view+json": {
       "model_id": "f8059ad797fd4c6e98161a6a636c2922",
       "version_major": 2,
       "version_minor": 0
      },
      "text/plain": [
       "  0%|          | 0/48 [00:00<?, ?it/s]"
      ]
     },
     "metadata": {},
     "output_type": "display_data"
    },
    {
     "name": "stdout",
     "output_type": "stream",
     "text": [
      "This batch has 100 examples.\n"
     ]
    },
    {
     "data": {
      "application/vnd.jupyter.widget-view+json": {
       "model_id": "1c08fab7887a44078205045670575e17",
       "version_major": 2,
       "version_minor": 0
      },
      "text/plain": [
       "  0%|          | 0/48 [00:00<?, ?it/s]"
      ]
     },
     "metadata": {},
     "output_type": "display_data"
    },
    {
     "name": "stdout",
     "output_type": "stream",
     "text": [
      "This batch has 100 examples.\n"
     ]
    },
    {
     "data": {
      "application/vnd.jupyter.widget-view+json": {
       "model_id": "76a59115255547b499852b3a9ecf89e9",
       "version_major": 2,
       "version_minor": 0
      },
      "text/plain": [
       "  0%|          | 0/48 [00:00<?, ?it/s]"
      ]
     },
     "metadata": {},
     "output_type": "display_data"
    },
    {
     "name": "stdout",
     "output_type": "stream",
     "text": [
      "This batch has 100 examples.\n"
     ]
    },
    {
     "data": {
      "application/vnd.jupyter.widget-view+json": {
       "model_id": "aa0eb5f056484222a589ef9ad456e361",
       "version_major": 2,
       "version_minor": 0
      },
      "text/plain": [
       "  0%|          | 0/48 [00:00<?, ?it/s]"
      ]
     },
     "metadata": {},
     "output_type": "display_data"
    },
    {
     "name": "stdout",
     "output_type": "stream",
     "text": [
      "This batch has 100 examples.\n"
     ]
    },
    {
     "data": {
      "application/vnd.jupyter.widget-view+json": {
       "model_id": "b38b1eac1df64199958befa663f49067",
       "version_major": 2,
       "version_minor": 0
      },
      "text/plain": [
       "  0%|          | 0/48 [00:00<?, ?it/s]"
      ]
     },
     "metadata": {},
     "output_type": "display_data"
    },
    {
     "name": "stdout",
     "output_type": "stream",
     "text": [
      "This batch has 100 examples.\n"
     ]
    },
    {
     "data": {
      "application/vnd.jupyter.widget-view+json": {
       "model_id": "7c5d1170b5c644258fd389240eb0473b",
       "version_major": 2,
       "version_minor": 0
      },
      "text/plain": [
       "  0%|          | 0/48 [00:00<?, ?it/s]"
      ]
     },
     "metadata": {},
     "output_type": "display_data"
    },
    {
     "name": "stdout",
     "output_type": "stream",
     "text": [
      "This batch has 100 examples.\n"
     ]
    },
    {
     "data": {
      "application/vnd.jupyter.widget-view+json": {
       "model_id": "b7d14831f9f549b599f79834aa7a51aa",
       "version_major": 2,
       "version_minor": 0
      },
      "text/plain": [
       "  0%|          | 0/48 [00:00<?, ?it/s]"
      ]
     },
     "metadata": {},
     "output_type": "display_data"
    },
    {
     "name": "stdout",
     "output_type": "stream",
     "text": [
      "This batch has 100 examples.\n"
     ]
    },
    {
     "data": {
      "application/vnd.jupyter.widget-view+json": {
       "model_id": "5bade4a8ff374a7a8b8a1ce7ab6ce1f4",
       "version_major": 2,
       "version_minor": 0
      },
      "text/plain": [
       "  0%|          | 0/48 [00:00<?, ?it/s]"
      ]
     },
     "metadata": {},
     "output_type": "display_data"
    },
    {
     "name": "stdout",
     "output_type": "stream",
     "text": [
      "This batch has 50 examples.\n"
     ]
    },
    {
     "data": {
      "application/vnd.jupyter.widget-view+json": {
       "model_id": "62a4f8417362401ab4e21a0ccad5ecf0",
       "version_major": 2,
       "version_minor": 0
      },
      "text/plain": [
       "  0%|          | 0/48 [00:00<?, ?it/s]"
      ]
     },
     "metadata": {},
     "output_type": "display_data"
    },
    {
     "name": "stdout",
     "output_type": "stream",
     "text": [
      "Number of prompts in this bucket: 1290.\n",
      "This batch has 111 examples.\n"
     ]
    },
    {
     "data": {
      "application/vnd.jupyter.widget-view+json": {
       "model_id": "9123eecb8a984a4f9114063237c85d8d",
       "version_major": 2,
       "version_minor": 0
      },
      "text/plain": [
       "  0%|          | 0/48 [00:00<?, ?it/s]"
      ]
     },
     "metadata": {},
     "output_type": "display_data"
    },
    {
     "name": "stdout",
     "output_type": "stream",
     "text": [
      "This batch has 111 examples.\n"
     ]
    },
    {
     "data": {
      "application/vnd.jupyter.widget-view+json": {
       "model_id": "c82f27304a52413186987241c1102f7f",
       "version_major": 2,
       "version_minor": 0
      },
      "text/plain": [
       "  0%|          | 0/48 [00:00<?, ?it/s]"
      ]
     },
     "metadata": {},
     "output_type": "display_data"
    },
    {
     "name": "stdout",
     "output_type": "stream",
     "text": [
      "This batch has 111 examples.\n"
     ]
    },
    {
     "data": {
      "application/vnd.jupyter.widget-view+json": {
       "model_id": "a879d83c245b416c9240fa0fd43f5b9d",
       "version_major": 2,
       "version_minor": 0
      },
      "text/plain": [
       "  0%|          | 0/48 [00:00<?, ?it/s]"
      ]
     },
     "metadata": {},
     "output_type": "display_data"
    },
    {
     "name": "stdout",
     "output_type": "stream",
     "text": [
      "This batch has 111 examples.\n"
     ]
    },
    {
     "data": {
      "application/vnd.jupyter.widget-view+json": {
       "model_id": "4af9b07e099f44b4bc62082ee60f7dd5",
       "version_major": 2,
       "version_minor": 0
      },
      "text/plain": [
       "  0%|          | 0/48 [00:00<?, ?it/s]"
      ]
     },
     "metadata": {},
     "output_type": "display_data"
    },
    {
     "name": "stdout",
     "output_type": "stream",
     "text": [
      "This batch has 111 examples.\n"
     ]
    },
    {
     "data": {
      "application/vnd.jupyter.widget-view+json": {
       "model_id": "289c393dfa6d4b3a8174a8790cea4fc4",
       "version_major": 2,
       "version_minor": 0
      },
      "text/plain": [
       "  0%|          | 0/48 [00:00<?, ?it/s]"
      ]
     },
     "metadata": {},
     "output_type": "display_data"
    },
    {
     "name": "stdout",
     "output_type": "stream",
     "text": [
      "This batch has 111 examples.\n"
     ]
    },
    {
     "data": {
      "application/vnd.jupyter.widget-view+json": {
       "model_id": "b852dd04532a46cea9b0ede04f4a7fe4",
       "version_major": 2,
       "version_minor": 0
      },
      "text/plain": [
       "  0%|          | 0/48 [00:00<?, ?it/s]"
      ]
     },
     "metadata": {},
     "output_type": "display_data"
    },
    {
     "name": "stdout",
     "output_type": "stream",
     "text": [
      "This batch has 111 examples.\n"
     ]
    },
    {
     "data": {
      "application/vnd.jupyter.widget-view+json": {
       "model_id": "94f03dc0ae3a4a6494549c32ca1a7c14",
       "version_major": 2,
       "version_minor": 0
      },
      "text/plain": [
       "  0%|          | 0/48 [00:00<?, ?it/s]"
      ]
     },
     "metadata": {},
     "output_type": "display_data"
    },
    {
     "name": "stdout",
     "output_type": "stream",
     "text": [
      "This batch has 111 examples.\n"
     ]
    },
    {
     "data": {
      "application/vnd.jupyter.widget-view+json": {
       "model_id": "fd78176fada84ba0a44b57f879c84152",
       "version_major": 2,
       "version_minor": 0
      },
      "text/plain": [
       "  0%|          | 0/48 [00:00<?, ?it/s]"
      ]
     },
     "metadata": {},
     "output_type": "display_data"
    },
    {
     "name": "stdout",
     "output_type": "stream",
     "text": [
      "This batch has 111 examples.\n"
     ]
    },
    {
     "data": {
      "application/vnd.jupyter.widget-view+json": {
       "model_id": "90e619df72554a09adf327136816d732",
       "version_major": 2,
       "version_minor": 0
      },
      "text/plain": [
       "  0%|          | 0/48 [00:00<?, ?it/s]"
      ]
     },
     "metadata": {},
     "output_type": "display_data"
    },
    {
     "name": "stdout",
     "output_type": "stream",
     "text": [
      "This batch has 111 examples.\n"
     ]
    },
    {
     "data": {
      "application/vnd.jupyter.widget-view+json": {
       "model_id": "7c1226cef0d542cea4ed7736c29ad3a4",
       "version_major": 2,
       "version_minor": 0
      },
      "text/plain": [
       "  0%|          | 0/48 [00:00<?, ?it/s]"
      ]
     },
     "metadata": {},
     "output_type": "display_data"
    },
    {
     "name": "stdout",
     "output_type": "stream",
     "text": [
      "This batch has 111 examples.\n"
     ]
    },
    {
     "data": {
      "application/vnd.jupyter.widget-view+json": {
       "model_id": "50d17fd27ff94cb7826c045580ab331c",
       "version_major": 2,
       "version_minor": 0
      },
      "text/plain": [
       "  0%|          | 0/48 [00:00<?, ?it/s]"
      ]
     },
     "metadata": {},
     "output_type": "display_data"
    },
    {
     "name": "stdout",
     "output_type": "stream",
     "text": [
      "This batch has 69 examples.\n"
     ]
    },
    {
     "data": {
      "application/vnd.jupyter.widget-view+json": {
       "model_id": "551154e6d32b4dce96fa72f0854a9dfd",
       "version_major": 2,
       "version_minor": 0
      },
      "text/plain": [
       "  0%|          | 0/48 [00:00<?, ?it/s]"
      ]
     },
     "metadata": {},
     "output_type": "display_data"
    },
    {
     "name": "stdout",
     "output_type": "stream",
     "text": [
      "Number of prompts in this bucket: 1330.\n",
      "This batch has 125 examples.\n"
     ]
    },
    {
     "data": {
      "application/vnd.jupyter.widget-view+json": {
       "model_id": "e48553e985a04f65bdc96c1b48d169d3",
       "version_major": 2,
       "version_minor": 0
      },
      "text/plain": [
       "  0%|          | 0/48 [00:00<?, ?it/s]"
      ]
     },
     "metadata": {},
     "output_type": "display_data"
    },
    {
     "name": "stdout",
     "output_type": "stream",
     "text": [
      "This batch has 125 examples.\n"
     ]
    },
    {
     "data": {
      "application/vnd.jupyter.widget-view+json": {
       "model_id": "7889d338a7a04c36a9b9b9a308bf1677",
       "version_major": 2,
       "version_minor": 0
      },
      "text/plain": [
       "  0%|          | 0/48 [00:00<?, ?it/s]"
      ]
     },
     "metadata": {},
     "output_type": "display_data"
    },
    {
     "name": "stdout",
     "output_type": "stream",
     "text": [
      "This batch has 125 examples.\n"
     ]
    },
    {
     "data": {
      "application/vnd.jupyter.widget-view+json": {
       "model_id": "60fc40f47f1544058550a9f178bd7b80",
       "version_major": 2,
       "version_minor": 0
      },
      "text/plain": [
       "  0%|          | 0/48 [00:00<?, ?it/s]"
      ]
     },
     "metadata": {},
     "output_type": "display_data"
    },
    {
     "name": "stdout",
     "output_type": "stream",
     "text": [
      "This batch has 125 examples.\n"
     ]
    },
    {
     "data": {
      "application/vnd.jupyter.widget-view+json": {
       "model_id": "f38f7c200c3f419b88798dd8b4cbdf96",
       "version_major": 2,
       "version_minor": 0
      },
      "text/plain": [
       "  0%|          | 0/48 [00:00<?, ?it/s]"
      ]
     },
     "metadata": {},
     "output_type": "display_data"
    },
    {
     "name": "stdout",
     "output_type": "stream",
     "text": [
      "This batch has 125 examples.\n"
     ]
    },
    {
     "data": {
      "application/vnd.jupyter.widget-view+json": {
       "model_id": "20bca3955a214151b30842934077cbd0",
       "version_major": 2,
       "version_minor": 0
      },
      "text/plain": [
       "  0%|          | 0/48 [00:00<?, ?it/s]"
      ]
     },
     "metadata": {},
     "output_type": "display_data"
    },
    {
     "name": "stdout",
     "output_type": "stream",
     "text": [
      "This batch has 125 examples.\n"
     ]
    },
    {
     "data": {
      "application/vnd.jupyter.widget-view+json": {
       "model_id": "148984edaf1a4f17aa24bcf143e59af5",
       "version_major": 2,
       "version_minor": 0
      },
      "text/plain": [
       "  0%|          | 0/48 [00:00<?, ?it/s]"
      ]
     },
     "metadata": {},
     "output_type": "display_data"
    },
    {
     "name": "stdout",
     "output_type": "stream",
     "text": [
      "This batch has 125 examples.\n"
     ]
    },
    {
     "data": {
      "application/vnd.jupyter.widget-view+json": {
       "model_id": "6916a35ff4d94a5a94b58d24f3d6dc25",
       "version_major": 2,
       "version_minor": 0
      },
      "text/plain": [
       "  0%|          | 0/48 [00:00<?, ?it/s]"
      ]
     },
     "metadata": {},
     "output_type": "display_data"
    },
    {
     "name": "stdout",
     "output_type": "stream",
     "text": [
      "This batch has 125 examples.\n"
     ]
    },
    {
     "data": {
      "application/vnd.jupyter.widget-view+json": {
       "model_id": "3af8b3fe809b42128f5283d6b2663541",
       "version_major": 2,
       "version_minor": 0
      },
      "text/plain": [
       "  0%|          | 0/48 [00:00<?, ?it/s]"
      ]
     },
     "metadata": {},
     "output_type": "display_data"
    },
    {
     "name": "stdout",
     "output_type": "stream",
     "text": [
      "This batch has 125 examples.\n"
     ]
    },
    {
     "data": {
      "application/vnd.jupyter.widget-view+json": {
       "model_id": "5bc44bb1ad414133a3befd750527ca24",
       "version_major": 2,
       "version_minor": 0
      },
      "text/plain": [
       "  0%|          | 0/48 [00:00<?, ?it/s]"
      ]
     },
     "metadata": {},
     "output_type": "display_data"
    },
    {
     "name": "stdout",
     "output_type": "stream",
     "text": [
      "This batch has 125 examples.\n"
     ]
    },
    {
     "data": {
      "application/vnd.jupyter.widget-view+json": {
       "model_id": "4c20a597511844df81ec2a17f2e933ed",
       "version_major": 2,
       "version_minor": 0
      },
      "text/plain": [
       "  0%|          | 0/48 [00:00<?, ?it/s]"
      ]
     },
     "metadata": {},
     "output_type": "display_data"
    },
    {
     "name": "stdout",
     "output_type": "stream",
     "text": [
      "This batch has 80 examples.\n"
     ]
    },
    {
     "data": {
      "application/vnd.jupyter.widget-view+json": {
       "model_id": "ff72d4cf55434fc68ea17bdfd891b316",
       "version_major": 2,
       "version_minor": 0
      },
      "text/plain": [
       "  0%|          | 0/48 [00:00<?, ?it/s]"
      ]
     },
     "metadata": {},
     "output_type": "display_data"
    },
    {
     "name": "stdout",
     "output_type": "stream",
     "text": [
      "Number of prompts in this bucket: 1210.\n",
      "This batch has 142 examples.\n"
     ]
    },
    {
     "data": {
      "application/vnd.jupyter.widget-view+json": {
       "model_id": "00fb4037d3c04617be42c1b16f99843f",
       "version_major": 2,
       "version_minor": 0
      },
      "text/plain": [
       "  0%|          | 0/48 [00:00<?, ?it/s]"
      ]
     },
     "metadata": {},
     "output_type": "display_data"
    },
    {
     "name": "stdout",
     "output_type": "stream",
     "text": [
      "This batch has 142 examples.\n"
     ]
    },
    {
     "data": {
      "application/vnd.jupyter.widget-view+json": {
       "model_id": "6c97a404a39640d09c5029286e2b0449",
       "version_major": 2,
       "version_minor": 0
      },
      "text/plain": [
       "  0%|          | 0/48 [00:00<?, ?it/s]"
      ]
     },
     "metadata": {},
     "output_type": "display_data"
    },
    {
     "name": "stdout",
     "output_type": "stream",
     "text": [
      "This batch has 142 examples.\n"
     ]
    },
    {
     "data": {
      "application/vnd.jupyter.widget-view+json": {
       "model_id": "a3dab66c68eb425292bd4ac951bf1bad",
       "version_major": 2,
       "version_minor": 0
      },
      "text/plain": [
       "  0%|          | 0/48 [00:00<?, ?it/s]"
      ]
     },
     "metadata": {},
     "output_type": "display_data"
    },
    {
     "name": "stdout",
     "output_type": "stream",
     "text": [
      "This batch has 142 examples.\n"
     ]
    },
    {
     "data": {
      "application/vnd.jupyter.widget-view+json": {
       "model_id": "3aa5001794fc4ba981af705278c2600c",
       "version_major": 2,
       "version_minor": 0
      },
      "text/plain": [
       "  0%|          | 0/48 [00:00<?, ?it/s]"
      ]
     },
     "metadata": {},
     "output_type": "display_data"
    },
    {
     "name": "stdout",
     "output_type": "stream",
     "text": [
      "This batch has 142 examples.\n"
     ]
    },
    {
     "data": {
      "application/vnd.jupyter.widget-view+json": {
       "model_id": "a2b08ab98f76482382d7fed1ff510438",
       "version_major": 2,
       "version_minor": 0
      },
      "text/plain": [
       "  0%|          | 0/48 [00:00<?, ?it/s]"
      ]
     },
     "metadata": {},
     "output_type": "display_data"
    },
    {
     "name": "stdout",
     "output_type": "stream",
     "text": [
      "This batch has 142 examples.\n"
     ]
    },
    {
     "data": {
      "application/vnd.jupyter.widget-view+json": {
       "model_id": "ce7ac8652b5844a59bb392d3fc031214",
       "version_major": 2,
       "version_minor": 0
      },
      "text/plain": [
       "  0%|          | 0/48 [00:00<?, ?it/s]"
      ]
     },
     "metadata": {},
     "output_type": "display_data"
    },
    {
     "name": "stdout",
     "output_type": "stream",
     "text": [
      "This batch has 142 examples.\n"
     ]
    },
    {
     "data": {
      "application/vnd.jupyter.widget-view+json": {
       "model_id": "16eee984e6d343309605e73be038763a",
       "version_major": 2,
       "version_minor": 0
      },
      "text/plain": [
       "  0%|          | 0/48 [00:00<?, ?it/s]"
      ]
     },
     "metadata": {},
     "output_type": "display_data"
    },
    {
     "name": "stdout",
     "output_type": "stream",
     "text": [
      "This batch has 142 examples.\n"
     ]
    },
    {
     "data": {
      "application/vnd.jupyter.widget-view+json": {
       "model_id": "11de8e50beab4cf69f070a0caf36a4df",
       "version_major": 2,
       "version_minor": 0
      },
      "text/plain": [
       "  0%|          | 0/48 [00:00<?, ?it/s]"
      ]
     },
     "metadata": {},
     "output_type": "display_data"
    },
    {
     "name": "stdout",
     "output_type": "stream",
     "text": [
      "This batch has 74 examples.\n"
     ]
    },
    {
     "data": {
      "application/vnd.jupyter.widget-view+json": {
       "model_id": "c9964f550fcb42a6afdd8b2a4d070570",
       "version_major": 2,
       "version_minor": 0
      },
      "text/plain": [
       "  0%|          | 0/48 [00:00<?, ?it/s]"
      ]
     },
     "metadata": {},
     "output_type": "display_data"
    },
    {
     "name": "stdout",
     "output_type": "stream",
     "text": [
      "Number of prompts in this bucket: 980.\n",
      "This batch has 166 examples.\n"
     ]
    },
    {
     "data": {
      "application/vnd.jupyter.widget-view+json": {
       "model_id": "e44f8595a2ee49b996da09878dda33c8",
       "version_major": 2,
       "version_minor": 0
      },
      "text/plain": [
       "  0%|          | 0/48 [00:00<?, ?it/s]"
      ]
     },
     "metadata": {},
     "output_type": "display_data"
    },
    {
     "name": "stdout",
     "output_type": "stream",
     "text": [
      "This batch has 166 examples.\n"
     ]
    },
    {
     "data": {
      "application/vnd.jupyter.widget-view+json": {
       "model_id": "9a2317b528df429cab46d9f14d8302f9",
       "version_major": 2,
       "version_minor": 0
      },
      "text/plain": [
       "  0%|          | 0/48 [00:00<?, ?it/s]"
      ]
     },
     "metadata": {},
     "output_type": "display_data"
    },
    {
     "name": "stdout",
     "output_type": "stream",
     "text": [
      "This batch has 166 examples.\n"
     ]
    },
    {
     "data": {
      "application/vnd.jupyter.widget-view+json": {
       "model_id": "080d7eb4e2414d3db8bc0f13621d79dc",
       "version_major": 2,
       "version_minor": 0
      },
      "text/plain": [
       "  0%|          | 0/48 [00:00<?, ?it/s]"
      ]
     },
     "metadata": {},
     "output_type": "display_data"
    },
    {
     "name": "stdout",
     "output_type": "stream",
     "text": [
      "This batch has 166 examples.\n"
     ]
    },
    {
     "data": {
      "application/vnd.jupyter.widget-view+json": {
       "model_id": "1dc670c283fc4c6d97401222ffdd4f81",
       "version_major": 2,
       "version_minor": 0
      },
      "text/plain": [
       "  0%|          | 0/48 [00:00<?, ?it/s]"
      ]
     },
     "metadata": {},
     "output_type": "display_data"
    },
    {
     "name": "stdout",
     "output_type": "stream",
     "text": [
      "This batch has 166 examples.\n"
     ]
    },
    {
     "data": {
      "application/vnd.jupyter.widget-view+json": {
       "model_id": "c8f8c5249e734b1ea788b225ca0c49c3",
       "version_major": 2,
       "version_minor": 0
      },
      "text/plain": [
       "  0%|          | 0/48 [00:00<?, ?it/s]"
      ]
     },
     "metadata": {},
     "output_type": "display_data"
    },
    {
     "name": "stdout",
     "output_type": "stream",
     "text": [
      "This batch has 150 examples.\n"
     ]
    },
    {
     "data": {
      "application/vnd.jupyter.widget-view+json": {
       "model_id": "684a7e4e4fd94aa0a0f489cc80078531",
       "version_major": 2,
       "version_minor": 0
      },
      "text/plain": [
       "  0%|          | 0/48 [00:00<?, ?it/s]"
      ]
     },
     "metadata": {},
     "output_type": "display_data"
    },
    {
     "name": "stdout",
     "output_type": "stream",
     "text": [
      "Number of prompts in this bucket: 390.\n",
      "This batch has 200 examples.\n"
     ]
    },
    {
     "data": {
      "application/vnd.jupyter.widget-view+json": {
       "model_id": "a62e9e086f76472a914eb1d827605fd0",
       "version_major": 2,
       "version_minor": 0
      },
      "text/plain": [
       "  0%|          | 0/48 [00:00<?, ?it/s]"
      ]
     },
     "metadata": {},
     "output_type": "display_data"
    },
    {
     "name": "stdout",
     "output_type": "stream",
     "text": [
      "This batch has 190 examples.\n"
     ]
    },
    {
     "data": {
      "application/vnd.jupyter.widget-view+json": {
       "model_id": "ebd93bef6bd64d9d8ce394eb40c87196",
       "version_major": 2,
       "version_minor": 0
      },
      "text/plain": [
       "  0%|          | 0/48 [00:00<?, ?it/s]"
      ]
     },
     "metadata": {},
     "output_type": "display_data"
    },
    {
     "name": "stdout",
     "output_type": "stream",
     "text": [
      "Number of prompts in this bucket: 90.\n",
      "This batch has 90 examples.\n"
     ]
    },
    {
     "data": {
      "application/vnd.jupyter.widget-view+json": {
       "model_id": "c8252eb0a5654374bde90b6820c0262f",
       "version_major": 2,
       "version_minor": 0
      },
      "text/plain": [
       "  0%|          | 0/48 [00:00<?, ?it/s]"
      ]
     },
     "metadata": {},
     "output_type": "display_data"
    }
   ],
   "source": [
    "results = {}\n",
    "results_perc_impr = {}\n",
    "batch_schedule = {i : int(1000/i) for i in range(1, 30)}\n",
    "for inp in inputs:\n",
    "    print(f\"Number of prompts in this bucket: {len(inp)}.\")\n",
    "    \n",
    "    batch_size = batch_schedule[inp[0][0]]\n",
    "    batched_data = DataLoader(inp, batch_size=batch_size)\n",
    "    for data in batched_data:\n",
    "        curr_batch_size = data[0].size()[0]\n",
    "        print(\"This batch has\", curr_batch_size, \"examples.\")\n",
    "        \n",
    "        num_tokens = data[0][0].item()\n",
    "        num_layers = data[1][0].item()\n",
    "        encoded_text = data[2]\n",
    "        hidden_states = data[3]\n",
    "        tkens = [[t[i] for t in data[4]] for i in range(curr_batch_size)]\n",
    "        text = [t for t in data[5]]\n",
    "        target_ids = [t.item() for t in data[6]]\n",
    "        indx_strs = [s for s in data[7]]\n",
    "        seeds = [seed.item() for seed in data[8]]\n",
    "        p = [p.item() for p in data[9]]\n",
    "        p_stars = [p_s.item() for p_s in data[10]]\n",
    "\n",
    "        noise_hooks = [] # can probably be batched [will take a look later on]\n",
    "        for i in range(curr_batch_size):\n",
    "            noise_hook = Hook(\n",
    "                layer_name='transformer->wte',\n",
    "                func=hooks.additive_output_noise(indices=indx_strs[i], mean=0, std=0.1, index=i, seed=seeds[i]),\n",
    "                key='embedding_noise',\n",
    "            )\n",
    "            noise_hooks.append(noise_hook)\n",
    "            \n",
    "        for layer in tqdm(range(num_layers)):\n",
    "            for position in range(num_tokens):\n",
    "                hook = Hook(\n",
    "                    layer_name=f'transformer->h->{layer}',\n",
    "                    func= hooks.hidden_patch_hook_fn(layer, position, hidden_states),\n",
    "                    key=f'patch_{layer}_pos{position}'\n",
    "                )\n",
    "                output = model(**encoded_text, hooks=noise_hooks+[hook])\n",
    "                for i in range(curr_batch_size):\n",
    "                    if text[i] not in results:\n",
    "                        accessory = (text[i], tkens[i], num_layers, sum(p) / len(p), sum(p_stars) / len(p_stars))\n",
    "                        results[text[i]] = (torch.zeros((num_tokens, num_layers)), accessory)\n",
    "                        results_perc_impr[text[i]] = (torch.zeros((num_tokens, num_layers)), accessory)\n",
    "                    p_star_h = torch.softmax(output[\"logits\"][i][0,-1,:], 0)[target_ids[i]].item()\n",
    "                    results[text[i]][0][position, layer] += p_star_h - p_stars[i]\n",
    "                    if (p[i] - p_stars[i]) != 0:\n",
    "                        results_perc_impr[text[i]][0][position, layer] += (p_star_h - p_stars[i]) / abs(p[i] - p_stars[i])"
   ]
  },
  {
   "cell_type": "code",
   "execution_count": 15,
   "metadata": {},
   "outputs": [],
   "source": [
    "# Need to divide by NUM_RUNS\n",
    "res = []\n",
    "for _, value in results.items():\n",
    "    result, accessory = value\n",
    "    result = result / NUM_RUNS\n",
    "    res.append((result, accessory))\n",
    "    \n",
    "res_perc_impr = []\n",
    "for _, value in results_perc_impr.items():\n",
    "    result, accessory = value\n",
    "    result = result / NUM_RUNS\n",
    "    res_perc_impr.append((result, accessory))"
   ]
  },
  {
   "cell_type": "code",
   "execution_count": 16,
   "metadata": {},
   "outputs": [],
   "source": [
    "torch.save(res, \"../data/indirect_effect_1000_examples.pt\")\n",
    "torch.save(res_perc_impr, \"../data/percent_improvement_1000_examples.pt\")"
   ]
  }
 ],
 "metadata": {
  "kernelspec": {
   "display_name": "Python 3.8 (ipykernel)",
   "language": "python",
   "name": "python3"
  },
  "language_info": {
   "codemirror_mode": {
    "name": "ipython",
    "version": 3
   },
   "file_extension": ".py",
   "mimetype": "text/x-python",
   "name": "python",
   "nbconvert_exporter": "python",
   "pygments_lexer": "ipython3",
   "version": "3.8.3"
  }
 },
 "nbformat": 4,
 "nbformat_minor": 4
}
